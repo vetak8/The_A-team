{
 "cells": [
  {
   "cell_type": "markdown",
   "metadata": {},
   "source": [
    "***Identify a deafault client (CREDIT SCORING)***"
   ]
  },
  {
   "cell_type": "markdown",
   "metadata": {},
   "source": [
    "<img src = 'https://www.nationalvanguard.org/wp-content/uploads/2016/03/debt-slave.jpg' width='400px' >"
   ]
  },
  {
   "cell_type": "markdown",
   "metadata": {},
   "source": [
    "<a id=\"sec1\"></a>\n",
    "# [Description](#sec1)"
   ]
  },
  {
   "cell_type": "markdown",
   "metadata": {},
   "source": [
    "Enter text here"
   ]
  },
  {
   "cell_type": "markdown",
   "metadata": {},
   "source": [
    "<a id=\"sec1.1\"></a>\n",
    "## [Features Defination](sec1.1)"
   ]
  },
  {
   "cell_type": "markdown",
   "metadata": {},
   "source": [
    "client_id -  client ID\n",
    "\n",
    "education - the level of education\n",
    "\n",
    "sex - borrowe's gender\n",
    "\n",
    "age - borrowers age\n",
    "\n",
    "car - has(has no) car\n",
    "\n",
    "car_type - flag of car type\n",
    "\n",
    "decline_app_cnt - number of rejected past applications\n",
    "\n",
    "good_work - good job flag\n",
    "\n",
    "bki_request_cnt - number of requests to Credit bureau\n",
    "\n",
    "home_address - home address categorizer \n",
    "\n",
    "work_address - work address categorizer \n",
    "\n",
    "income - borrower's income\n",
    "\n",
    "foreign_passport - has (has no) traveling passport\n",
    "\n",
    "sna - Relationships of borrower with the bank's clients\n",
    "\n",
    "first_time - how old the information about the borrower was\n",
    "\n",
    "score_bki - score based on data from Credit bureau\n",
    "\n",
    "region_rating - region rating\n",
    "\n",
    "app_date - application date\n",
    "\n",
    "default - has (has no) default"
   ]
  },
  {
   "cell_type": "markdown",
   "metadata": {},
   "source": [
    "<a id=\"sec2\"></a>\n",
    "# [INDEX](#sec2)\n",
    "1. [Description](#sec1)\n",
    "    * [1.1 Features Defination](#sec1.1)\n",
    "2. [INDEX](#sec2)\n",
    "3. [IMPORT LIBRARRIES](#sec3)\n",
    "4. [Functions and Classes](#sec4)\n",
    "5. [Load and Chek the Dataset](#sec5)\n",
    "    * [Data Types](#sec5.1)\n",
    "    * [Pandas Profiling](#sec5.2)\n",
    "\n",
    "\n",
    "5. [Visualization](#sec5)\n",
    "    * [5.1 Correclation](#sec5.1)\n",
    "    * [Significance of continuous variables ](#sec5.2)\n",
    "6. [Categorical Vars](#sec6)"
   ]
  },
  {
   "cell_type": "markdown",
   "metadata": {},
   "source": [
    "<a id=\"sec3\"></a>\n",
    "# [IMPORT LIBRARRIES](sec3)"
   ]
  },
  {
   "cell_type": "code",
   "execution_count": 1,
   "metadata": {},
   "outputs": [],
   "source": [
    "import pandas as pd\n",
    "import pandas_profiling\n",
    "import numpy as np\n",
    "import matplotlib.pyplot as plt\n",
    "import seaborn as sns\n",
    "import warnings\n",
    "warnings.filterwarnings(\"ignore\")\n",
    "%matplotlib inline\n",
    "from jupyterthemes import jtplot\n",
    "\n",
    "jtplot.style(theme='monokai', context='notebook', ticks=True, grid=False)"
   ]
  },
  {
   "cell_type": "code",
   "execution_count": null,
   "metadata": {},
   "outputs": [],
   "source": [
    "# fix the version of the packages so that the experiments are reproducible:\n",
    "#!pip freeze > requirements.txt"
   ]
  },
  {
   "cell_type": "code",
   "execution_count": null,
   "metadata": {},
   "outputs": [],
   "source": [
    "# Lock a RANDOM SEED to keep experiments reproducible.\n",
    "RANDOM_SEED = 5"
   ]
  },
  {
   "cell_type": "code",
   "execution_count": 28,
   "metadata": {
    "scrolled": true
   },
   "outputs": [
    {
     "data": {
      "image/png": "[encoded data removed]",
      "text/plain": [
       "<Figure size 360x72 with 1 Axes>"
      ]
     },
     "metadata": {},
     "output_type": "display_data"
    }
   ],
   "source": [
    "colors = ['#001c57', '#50248f', '#a6a6a6', '#38d1ff','#cc3181']\n",
    "sns.palplot(sns.color_palette(colors))"
   ]
  },
  {
   "cell_type": "markdown",
   "metadata": {},
   "source": [
    "<a id=\"sec4\"></a>\n",
    "# [Functions and Classes](#sec4)"
   ]
  },
  {
   "cell_type": "code",
   "execution_count": 10,
   "metadata": {},
   "outputs": [],
   "source": [
    "def pandas_report(data):\n",
    "    ''' Function is called for generating of dataset profile-report'''\n",
    "\n",
    "    profile = data.profile_report(\n",
    "        title='Credit Scoring',\n",
    "        progress_bar=False,\n",
    "        correlations={\n",
    "            'pearson': {'calculate': True},\n",
    "            'spearman': {'calculate': False},\n",
    "            'kendall': {'calculate': False},\n",
    "            'phi_k': {'calculate': False},\n",
    "            'cramers': {'calculate': False}\n",
    "            \n",
    "            \n",
    "        },\n",
    "        interactions={\n",
    "            'continuous': True,\n",
    "            'targets': []\n",
    "        },\n",
    "        missing_diagrams={\n",
    "            'heatmap': True,\n",
    "            'dendrogram': True,\n",
    "            'matrix': True\n",
    "        },\n",
    "        vars={\n",
    "            'cat' : {'n_obs':10}\n",
    "        }\n",
    "    )\n",
    "    \n",
    "    return profile"
   ]
  },
  {
   "cell_type": "markdown",
   "metadata": {},
   "source": [
    "<a id=\"sec4\"></a>\n",
    "# [Load and Chek the Dataset](#sec4)"
   ]
  },
  {
   "cell_type": "code",
   "execution_count": 3,
   "metadata": {
    "scrolled": true
   },
   "outputs": [],
   "source": [
    "# df_train = pd.read_csv(\n",
    "#     r'C:\\Users\\wangshu202040\\The A-Team\\sf-dst-scoring\\train.csv')\n",
    "df_train = pd.read_csv(\n",
    "    r'C:\\Users\\Paul\\The_A-team\\sf-dst-scoring\\train.csv')\n",
    "\n",
    "# df_test = pd.read_csv(\n",
    "#     r'C:\\Users\\wangshu202040\\The A-Team\\sf-dst-scoring\\test.csv')\n",
    "\n",
    "df_test = pd.read_csv(\n",
    "    r'C:\\Users\\Paul\\The_A-team\\sf-dst-scoring\\test.csv')\n",
    "\n",
    "\n",
    "# submission = pd.read_csv(\n",
    "#     r'C:\\Users\\wangshu202040\\The A-Team\\sf-dst-scoring\\sample_submission.csv')\n",
    "\n",
    "submission = pd.read_csv(\n",
    "    r'C:\\Users\\Paul\\The_A-team\\sf-dst-scoring\\sample_submission.csv')"
   ]
  },
  {
   "cell_type": "markdown",
   "metadata": {},
   "source": [
    "For the processing and EDA, let's concatenate two dataframes into a one."
   ]
  },
  {
   "cell_type": "code",
   "execution_count": 4,
   "metadata": {},
   "outputs": [],
   "source": [
    "# For the correct processing of features, combine train and test sets into a one dataset\n",
    "\n",
    "df_train['sample'] = 1  # train\n",
    "df_test['sample'] = 0  # test\n",
    "# as we have to predict rating, in test set we just fill it with 0\n",
    "#df_test['default'] = 0\n",
    "\n",
    "df = df_test.append(df_train, sort=False).reset_index(\n",
    "    drop=True)  # combine sets"
   ]
  },
  {
   "cell_type": "code",
   "execution_count": 5,
   "metadata": {},
   "outputs": [
    {
     "data": {
      "text/html": [
       "<div>\n",
       "<style scoped>\n",
       "    .dataframe tbody tr th:only-of-type {\n",
       "        vertical-align: middle;\n",
       "    }\n",
       "\n",
       "    .dataframe tbody tr th {\n",
       "        vertical-align: top;\n",
       "    }\n",
       "\n",
       "    .dataframe thead th {\n",
       "        text-align: right;\n",
       "    }\n",
       "</style>\n",
       "<table border=\"1\" class=\"dataframe\">\n",
       "  <thead>\n",
       "    <tr style=\"text-align: right;\">\n",
       "      <th></th>\n",
       "      <th>client_id</th>\n",
       "      <th>app_date</th>\n",
       "      <th>education</th>\n",
       "      <th>sex</th>\n",
       "      <th>age</th>\n",
       "      <th>car</th>\n",
       "      <th>car_type</th>\n",
       "      <th>decline_app_cnt</th>\n",
       "      <th>good_work</th>\n",
       "      <th>score_bki</th>\n",
       "      <th>bki_request_cnt</th>\n",
       "      <th>region_rating</th>\n",
       "      <th>home_address</th>\n",
       "      <th>work_address</th>\n",
       "      <th>income</th>\n",
       "      <th>sna</th>\n",
       "      <th>first_time</th>\n",
       "      <th>foreign_passport</th>\n",
       "      <th>sample</th>\n",
       "      <th>default</th>\n",
       "    </tr>\n",
       "  </thead>\n",
       "  <tbody>\n",
       "    <tr>\n",
       "      <th>72997</th>\n",
       "      <td>88822</td>\n",
       "      <td>05APR2014</td>\n",
       "      <td>UGR</td>\n",
       "      <td>F</td>\n",
       "      <td>27</td>\n",
       "      <td>N</td>\n",
       "      <td>N</td>\n",
       "      <td>0</td>\n",
       "      <td>0</td>\n",
       "      <td>-1.306324</td>\n",
       "      <td>4</td>\n",
       "      <td>50</td>\n",
       "      <td>1</td>\n",
       "      <td>2</td>\n",
       "      <td>20000</td>\n",
       "      <td>4</td>\n",
       "      <td>1</td>\n",
       "      <td>N</td>\n",
       "      <td>1</td>\n",
       "      <td>1.0</td>\n",
       "    </tr>\n",
       "    <tr>\n",
       "      <th>36755</th>\n",
       "      <td>2630</td>\n",
       "      <td>08JAN2014</td>\n",
       "      <td>GRD</td>\n",
       "      <td>F</td>\n",
       "      <td>45</td>\n",
       "      <td>Y</td>\n",
       "      <td>N</td>\n",
       "      <td>0</td>\n",
       "      <td>0</td>\n",
       "      <td>-1.794073</td>\n",
       "      <td>0</td>\n",
       "      <td>50</td>\n",
       "      <td>2</td>\n",
       "      <td>3</td>\n",
       "      <td>60000</td>\n",
       "      <td>1</td>\n",
       "      <td>2</td>\n",
       "      <td>N</td>\n",
       "      <td>1</td>\n",
       "      <td>0.0</td>\n",
       "    </tr>\n",
       "    <tr>\n",
       "      <th>63434</th>\n",
       "      <td>29622</td>\n",
       "      <td>05FEB2014</td>\n",
       "      <td>UGR</td>\n",
       "      <td>M</td>\n",
       "      <td>40</td>\n",
       "      <td>Y</td>\n",
       "      <td>Y</td>\n",
       "      <td>0</td>\n",
       "      <td>1</td>\n",
       "      <td>-2.279313</td>\n",
       "      <td>0</td>\n",
       "      <td>80</td>\n",
       "      <td>2</td>\n",
       "      <td>3</td>\n",
       "      <td>130000</td>\n",
       "      <td>1</td>\n",
       "      <td>4</td>\n",
       "      <td>N</td>\n",
       "      <td>1</td>\n",
       "      <td>0.0</td>\n",
       "    </tr>\n",
       "  </tbody>\n",
       "</table>\n",
       "</div>"
      ],
      "text/plain": [
       "       client_id   app_date education sex  age car car_type  decline_app_cnt  \\\n",
       "72997      88822  05APR2014       UGR   F   27   N        N                0   \n",
       "36755       2630  08JAN2014       GRD   F   45   Y        N                0   \n",
       "63434      29622  05FEB2014       UGR   M   40   Y        Y                0   \n",
       "\n",
       "       good_work  score_bki  bki_request_cnt  region_rating  home_address  \\\n",
       "72997          0  -1.306324                4             50             1   \n",
       "36755          0  -1.794073                0             50             2   \n",
       "63434          1  -2.279313                0             80             2   \n",
       "\n",
       "       work_address  income  sna  first_time foreign_passport  sample  default  \n",
       "72997             2   20000    4           1                N       1      1.0  \n",
       "36755             3   60000    1           2                N       1      0.0  \n",
       "63434             3  130000    1           4                N       1      0.0  "
      ]
     },
     "metadata": {},
     "output_type": "display_data"
    },
    {
     "name": "stdout",
     "output_type": "stream",
     "text": [
      "<class 'pandas.core.frame.DataFrame'>\n",
      "RangeIndex: 110148 entries, 0 to 110147\n",
      "Data columns (total 20 columns):\n",
      " #   Column            Non-Null Count   Dtype  \n",
      "---  ------            --------------   -----  \n",
      " 0   client_id         110148 non-null  int64  \n",
      " 1   app_date          110148 non-null  object \n",
      " 2   education         109670 non-null  object \n",
      " 3   sex               110148 non-null  object \n",
      " 4   age               110148 non-null  int64  \n",
      " 5   car               110148 non-null  object \n",
      " 6   car_type          110148 non-null  object \n",
      " 7   decline_app_cnt   110148 non-null  int64  \n",
      " 8   good_work         110148 non-null  int64  \n",
      " 9   score_bki         110148 non-null  float64\n",
      " 10  bki_request_cnt   110148 non-null  int64  \n",
      " 11  region_rating     110148 non-null  int64  \n",
      " 12  home_address      110148 non-null  int64  \n",
      " 13  work_address      110148 non-null  int64  \n",
      " 14  income            110148 non-null  int64  \n",
      " 15  sna               110148 non-null  int64  \n",
      " 16  first_time        110148 non-null  int64  \n",
      " 17  foreign_passport  110148 non-null  object \n",
      " 18  sample            110148 non-null  int64  \n",
      " 19  default           73799 non-null   float64\n",
      "dtypes: float64(2), int64(12), object(6)\n",
      "memory usage: 16.8+ MB\n"
     ]
    }
   ],
   "source": [
    "display(df.sample(3))\n",
    "df.info()"
   ]
  },
  {
   "cell_type": "markdown",
   "metadata": {},
   "source": [
    "<a id=\"sec5.1\"></a>\n",
    "## [Data Types](#sec5.1)"
   ]
  },
  {
   "cell_type": "code",
   "execution_count": 6,
   "metadata": {
    "scrolled": true
   },
   "outputs": [
    {
     "data": {
      "text/html": [
       "<div>\n",
       "<style scoped>\n",
       "    .dataframe tbody tr th:only-of-type {\n",
       "        vertical-align: middle;\n",
       "    }\n",
       "\n",
       "    .dataframe tbody tr th {\n",
       "        vertical-align: top;\n",
       "    }\n",
       "\n",
       "    .dataframe thead th {\n",
       "        text-align: right;\n",
       "    }\n",
       "</style>\n",
       "<table border=\"1\" class=\"dataframe\">\n",
       "  <thead>\n",
       "    <tr style=\"text-align: right;\">\n",
       "      <th></th>\n",
       "      <th>Column Type</th>\n",
       "      <th>Count</th>\n",
       "    </tr>\n",
       "  </thead>\n",
       "  <tbody>\n",
       "    <tr>\n",
       "      <th>0</th>\n",
       "      <td>int64</td>\n",
       "      <td>12</td>\n",
       "    </tr>\n",
       "    <tr>\n",
       "      <th>1</th>\n",
       "      <td>float64</td>\n",
       "      <td>2</td>\n",
       "    </tr>\n",
       "    <tr>\n",
       "      <th>2</th>\n",
       "      <td>object</td>\n",
       "      <td>6</td>\n",
       "    </tr>\n",
       "  </tbody>\n",
       "</table>\n",
       "</div>"
      ],
      "text/plain": [
       "  Column Type  Count\n",
       "0       int64     12\n",
       "1     float64      2\n",
       "2      object      6"
      ]
     },
     "execution_count": 6,
     "metadata": {},
     "output_type": "execute_result"
    }
   ],
   "source": [
    "dtype_df = df.dtypes.reset_index()\n",
    "dtype_df.columns = ['Count', 'Column Type']\n",
    "dtype_df.groupby('Column Type').agg('count').reset_index()"
   ]
  },
  {
   "cell_type": "code",
   "execution_count": 7,
   "metadata": {
    "scrolled": true
   },
   "outputs": [
    {
     "name": "stdout",
     "output_type": "stream",
     "text": [
      "client_id <class 'numpy.int64'>\n",
      "app_date <class 'str'>\n",
      "education <class 'str'>\n",
      "sex <class 'str'>\n",
      "age <class 'numpy.int64'>\n",
      "car <class 'str'>\n",
      "car_type <class 'str'>\n",
      "decline_app_cnt <class 'numpy.int64'>\n",
      "good_work <class 'numpy.int64'>\n",
      "score_bki <class 'numpy.float64'>\n",
      "bki_request_cnt <class 'numpy.int64'>\n",
      "region_rating <class 'numpy.int64'>\n",
      "home_address <class 'numpy.int64'>\n",
      "work_address <class 'numpy.int64'>\n",
      "income <class 'numpy.int64'>\n",
      "sna <class 'numpy.int64'>\n",
      "first_time <class 'numpy.int64'>\n",
      "foreign_passport <class 'str'>\n",
      "sample <class 'numpy.int64'>\n",
      "default <class 'numpy.float64'>\n"
     ]
    }
   ],
   "source": [
    "for i, j in enumerate(df.columns):\n",
    "    print(j, type(df.loc[1][i]))"
   ]
  },
  {
   "cell_type": "markdown",
   "metadata": {},
   "source": [
    "<a id=\"sec5.2\"></a>\n",
    "## [Pandas Profiling](#sec5.2)"
   ]
  },
  {
   "cell_type": "code",
   "execution_count": 11,
   "metadata": {},
   "outputs": [],
   "source": [
    "data_profile = pandas_report(df)\n",
    "data_profile.to_file('result.html') # Check your folder"
   ]
  },
  {
   "cell_type": "markdown",
   "metadata": {},
   "source": [
    " - Dataset has 19 features (excluding feature ''Sample)\n",
    " \n",
    " - Total Number Of observations is 110 148\n",
    " \n",
    " - Missing values is about 0.04%\n",
    " \n",
    " - There is no duplicates\n",
    " \n",
    " \n",
    " - ***Client_id*** has 100% unique values \n",
    " \n",
    " - ***app_date*** has only 120 distinct values (0.1%). Most of presented dates concentrated in MARCH2014, APRIL2014, FEB2014. We need to process this column in further\n",
    " \n",
    " - ***education*** Consists 5 distinct categories: \n",
    "     \n",
    " - - SCH (52%) - School;\n",
    " \n",
    " - - GRD (31%) - Graduated (Master degree);\n",
    " \n",
    " - - UGR (13%) - UnderGraduated (Bachelor degree);\n",
    " \n",
    " - - PGR (1.7%) - PostGraduated;\n",
    " \n",
    " - - ACD (0.3%) - Academic Degree;\n",
    " \n",
    " - - Missing (0.4%)\n",
    " \n",
    " \n",
    " We will see how it is impact on a result and probably generate new feature 'Has/Has No Hi-degree education'\n",
    " \n",
    " - ***sex*** Consists 2 distinct categories:\n",
    " - - Female (56%);\n",
    " \n",
    " - - Male (44%);\n",
    " \n",
    " \n",
    " - ***age*** Is a real Number variable. The distribution is a left-shifted.\n",
    " \n",
    " -- Minimum\t21\n",
    " \n",
    " -- median\t37\n",
    " \n",
    " -- Mean\t39.2\n",
    " \n",
    " -- Maximum\t72\n",
    " \n",
    " -- Interquartile range (IQR)\t18\n",
    " \n",
    " - ***car*** Is a boolean variable. 67% of borrowers has no car.\n",
    " \n",
    " \n",
    " - ***car_type*** Is a boolean variable which shows whethere the borrower has domestic or foreign car. 81% of borrowers has domesatic.\n",
    " \n",
    " \n",
    " - ***decline_app_cnt*** Is a real number value. Distribution is shifted to the left. Most of values (83%) has zeros which is reasonable. Overwhelimng majority of the observations are located between 0 and 6. We might convert this feature to categorical or ordinal.\n",
    " \n",
    " -- Maximum\t33\n",
    "\n",
    "\n",
    " - ***good_work*** Most of borrowers have not good job (83%). It is interesting it here any relations between good job and education? We also want to know, does someone has poor education, bad job and foreign car (Just for fun)\n",
    " \n",
    " \n",
    " - ***score_bki*** Is a real number variable. It consists 93% distinct values. We may note, that it has approximately normal distribution and also consists negative values. Most likely it is already scaled by Standard Scaler.\n",
    " \n",
    " \n",
    " - ***bki_request_cnt*** Is a real number variable with max.requests - 53, min - 0 and median - 1. Most of values scattered from 0 to 8 attempts.\n",
    " \n",
    " - ***region_rating*** It has kind of grade from 20 up to 80. We would say it is more similar with categoreical feature. Most common rating is 50 (37%)\n",
    " \n",
    " - ***home_address, work_address*** Is a categorical data with 3 categories.\n",
    " \n",
    " - ***income*** Biased distribution with large scatter of values - from 1000 to 1 000 000. Here we can try to convert it in a categorical value, assigning the income values to the categories - low income, medium, above medium, etc. \n",
    " \n",
    " - ***sna / first_time***  Are categorical features and have 4 categories.  Nothing intersting seems.\n",
    " \n",
    " - ***foreign_passport*** Is a boolean feature. 67% of borrowers have foreign passport\n",
    " \n",
    " \n",
    " - ***default*** is our target which we have to predict. It is a boolean var, with overwhelming majority of 'good clients'. We may note that this feature is unballanced and the ratio is 1:6.8 which is unballanced a bit. In the feature engenireeng we will try apply under and oversampling and will se results."
   ]
  },
  {
   "cell_type": "markdown",
   "metadata": {},
   "source": [
    "Let's fill the missing vals"
   ]
  },
  {
   "cell_type": "code",
   "execution_count": null,
   "metadata": {},
   "outputs": [],
   "source": [
    "edu_name = df['education'].value_counts().index.to_list(\n",
    ")  # Получаем список значений\n",
    "edu_distr = df['education'].value_counts(\n",
    "    normalize=True).values  # Получаем список вероятностей\n",
    "missing = df['education'].isnull()  # Флаги с наличием пропусков\n",
    "df.loc[missing, ['education']] = np.random.choice(\n",
    "    edu_name, size=len(df[missing]), p=edu_distr\n",
    ")  # Подставляем значения из списка имен в соответствии в вероятностью встречи имени"
   ]
  },
  {
   "cell_type": "markdown",
   "metadata": {},
   "source": [
    "<a id=\"sec6\"></a>\n",
    "# [EDA](#sec6)"
   ]
  },
  {
   "cell_type": "markdown",
   "metadata": {},
   "source": [
    "<img src = 'https://media.makeameme.org/created/analyze-the-data.jpg' width = '400px' >"
   ]
  },
  {
   "cell_type": "code",
   "execution_count": 6,
   "metadata": {},
   "outputs": [],
   "source": [
    "bool_cols = ['sex','car','car_type','good_work','foreign_passport']\n",
    "cat_cols = ['education','region_rating','home_address','work_address','sna','first_time']\n",
    "num_cols = ['age','decline_app_cnt','income','bki_request_cnt','score_bki']"
   ]
  },
  {
   "cell_type": "code",
   "execution_count": 56,
   "metadata": {},
   "outputs": [
    {
     "data": {
      "image/png": "[encoded data removed]",
      "text/plain": [
       "<Figure size 504x360 with 1 Axes>"
      ]
     },
     "metadata": {},
     "output_type": "display_data"
    },
    {
     "data": {
      "image/png": "[encoded data removed]",
      "text/plain": [
       "<Figure size 504x360 with 1 Axes>"
      ]
     },
     "metadata": {},
     "output_type": "display_data"
    },
    {
     "data": {
      "image/png": "[encoded data removed]",
      "text/plain": [
       "<Figure size 504x360 with 1 Axes>"
      ]
     },
     "metadata": {},
     "output_type": "display_data"
    },
    {
     "data": {
      "image/png": "[encoded data removed]",
      "text/plain": [
       "<Figure size 504x360 with 1 Axes>"
      ]
     },
     "metadata": {},
     "output_type": "display_data"
    },
    {
     "data": {
      "image/png": "[encoded data removed]",
      "text/plain": [
       "<Figure size 504x360 with 1 Axes>"
      ]
     },
     "metadata": {},
     "output_type": "display_data"
    }
   ],
   "source": [
    "for i in bool_cols:\n",
    "    plt.figure(figsize=(7, 5))\n",
    "    ax = plt.subplot()\n",
    "    sns.histplot(x = i,hue='default',data=df,multiple='dodge',palette=[colors[0], colors[4]])\n",
    "    plt.title('Categorical Feature Name\\n' + i, fontsize=15)\n",
    "    plt.xlabel(i)\n",
    "    plt.ylabel('Quantity (frequency)')\n",
    "    plt.yticks()\n",
    "    ax.tick_params(direction='out', length=0, width=0, colors='grey')"
   ]
  },
  {
   "cell_type": "code",
   "execution_count": null,
   "metadata": {},
   "outputs": [],
   "source": []
  },
  {
   "cell_type": "code",
   "execution_count": null,
   "metadata": {},
   "outputs": [],
   "source": []
  },
  {
   "cell_type": "code",
   "execution_count": null,
   "metadata": {},
   "outputs": [],
   "source": []
  },
  {
   "cell_type": "code",
   "execution_count": null,
   "metadata": {},
   "outputs": [],
   "source": []
  },
  {
   "cell_type": "code",
   "execution_count": null,
   "metadata": {},
   "outputs": [],
   "source": []
  },
  {
   "cell_type": "code",
   "execution_count": null,
   "metadata": {},
   "outputs": [],
   "source": []
  },
  {
   "cell_type": "code",
   "execution_count": null,
   "metadata": {},
   "outputs": [],
   "source": []
  },
  {
   "cell_type": "code",
   "execution_count": null,
   "metadata": {
    "scrolled": true
   },
   "outputs": [],
   "source": [
    "plt.figure(figsize=(7, 7))\n",
    "sns.countplot(x='default',\n",
    "              hue='default',\n",
    "              data=df,\n",
    "              color=colors[1],\n",
    "              palette=[colors[3], colors[1]])\n",
    "plt.title('Default client distribution', fontsize=15)\n",
    "plt.xlabel('0 - reliable  1 - default')\n",
    "plt.ylabel('Count of clients')\n",
    "plt.show()"
   ]
  },
  {
   "cell_type": "markdown",
   "metadata": {},
   "source": [
    "We may see that our data is not balanced. We have more clients who pay back their loan, which is logically correct. \n",
    "\n",
    "However, we need to take care about it in the future model evaluation."
   ]
  },
  {
   "cell_type": "markdown",
   "metadata": {},
   "source": [
    "Chek missing data"
   ]
  },
  {
   "cell_type": "code",
   "execution_count": null,
   "metadata": {},
   "outputs": [],
   "source": [
    "df.isnull().sum()"
   ]
  },
  {
   "cell_type": "markdown",
   "metadata": {},
   "source": [
    "Let's fix missing data"
   ]
  },
  {
   "cell_type": "code",
   "execution_count": null,
   "metadata": {},
   "outputs": [],
   "source": [
    "df['education'] = df['education'].fillna(\n",
    "    df['education'].value_counts().index[0])"
   ]
  },
  {
   "cell_type": "markdown",
   "metadata": {},
   "source": [
    "Create lists with depicted types of data"
   ]
  },
  {
   "cell_type": "code",
   "execution_count": null,
   "metadata": {},
   "outputs": [],
   "source": [
    "bin_cols = ['sex','car','car_type','good_work','foreign_passport']\n",
    "cat_cols = ['education','home_address','work_address']\n",
    "num_cols = ['age','decline_app_cnt','income','bki_request_cnt']"
   ]
  },
  {
   "cell_type": "markdown",
   "metadata": {},
   "source": [
    "Check the distrinution of numeric columns"
   ]
  },
  {
   "cell_type": "code",
   "execution_count": null,
   "metadata": {
    "scrolled": false
   },
   "outputs": [],
   "source": [
    "for i in num_cols:\n",
    "    plt.figure()\n",
    "    sns.distplot(df[i][df[i] > 0].dropna(), kde = False, rug=False)\n",
    "    plt.title(i)\n",
    "    plt.show()"
   ]
  },
  {
   "cell_type": "markdown",
   "metadata": {},
   "source": [
    "BLA BLA"
   ]
  },
  {
   "cell_type": "code",
   "execution_count": null,
   "metadata": {},
   "outputs": [],
   "source": [
    "df1 = df.copy()\n",
    "for col in num_cols:\n",
    "    df1[col] = df[col].apply(lambda x: np.log(x+1))"
   ]
  },
  {
   "cell_type": "code",
   "execution_count": null,
   "metadata": {},
   "outputs": [],
   "source": [
    "for i in num_cols:\n",
    "    plt.figure(figsize=(20, 3))\n",
    "    plt.subplot(121)\n",
    "    sns.distplot(df1[i].values, bins=20, color=colors[1])\n",
    "    plt.title('variable distribution\\n' + i, fontsize=15)\n",
    "    plt.xlabel(i)\n",
    "    plt.ylabel('Quantity (frequency)')\n",
    "\n",
    "    plt.subplot(122)\n",
    "    sns.boxplot(x = 'default',y = i,data=df1)\n",
    "    plt.title('variable distribution\\n' + i, fontsize=15)\n",
    "    plt.xlabel(i)"
   ]
  },
  {
   "cell_type": "markdown",
   "metadata": {},
   "source": [
    "<a id=\"sec5.1\"></a>\n",
    "## [Correclation](#sec5.1)"
   ]
  },
  {
   "cell_type": "code",
   "execution_count": null,
   "metadata": {},
   "outputs": [],
   "source": [
    "sns.heatmap(df[num_cols].corr().abs(),vmin=0,vmax=1,annot=True,square=True)"
   ]
  },
  {
   "cell_type": "markdown",
   "metadata": {},
   "source": [
    "<a id=\"sec5.2\"></a>\n",
    "## [Significance of continuous variables ](#sec5.2)"
   ]
  },
  {
   "cell_type": "markdown",
   "metadata": {},
   "source": [
    "В основе метода оценки значимости переменных лежит однофакторный дисперсионный анализ (ANOVA). Основу процедуры составляет обобщение результатов двух выборочных t-тестов для независимых выборок (2-sample t). \n",
    "\n",
    "В качестве меры значимости мы будем использовать значение f-статистики. Чем значение статистики выше, тем меньше вероятность того, что средние значения не отличаются, и тем важнее данный признак для нашей линейной модели"
   ]
  },
  {
   "cell_type": "code",
   "execution_count": null,
   "metadata": {},
   "outputs": [],
   "source": [
    "from sklearn.feature_selection import f_classif"
   ]
  },
  {
   "cell_type": "code",
   "execution_count": null,
   "metadata": {},
   "outputs": [],
   "source": [
    "imp_num = pd.Series(f_classif(df[num_cols], df['default'])[0], index = num_cols)\n",
    "imp_num.sort_values(inplace = True)\n",
    "imp_num.plot(kind = 'barh')"
   ]
  },
  {
   "cell_type": "markdown",
   "metadata": {},
   "source": [
    "<a id=\"sec6\"></a>\n",
    "# [Categorical Vars](#sec6)"
   ]
  },
  {
   "cell_type": "markdown",
   "metadata": {},
   "source": [
    "Самый простой способ — отобразить каждое значение категории в уникальное число. Например, в поле sex значение sex = female преобразовать в , а sex = male — в . Эту простую операцию приходится делать достаточно часто, поэтому в модуле sklearn.preprocessing именно для этой задачи реализован класс LabelEncoder.\n",
    "\n",
    "Метод fit этого класса находит все уникальные значения и строит таблицу для соответствия каждой категории некоторому числу, а метод transform непосредственно преобразует значения в числа. После fit у label_encoder будет доступно поле classes_, содержащее все уникальные значения. Можно их пронумеровать и убедиться, что преобразование выполнено верно."
   ]
  },
  {
   "cell_type": "code",
   "execution_count": null,
   "metadata": {},
   "outputs": [],
   "source": [
    "from sklearn.preprocessing import LabelEncoder"
   ]
  },
  {
   "cell_type": "code",
   "execution_count": null,
   "metadata": {},
   "outputs": [],
   "source": [
    "label_encoder = LabelEncoder()\n",
    "mapped_education = pd.Series(label_encoder.fit_transform(df['sex']))\n",
    "print(dict(enumerate(label_encoder.classes_)))"
   ]
  },
  {
   "cell_type": "markdown",
   "metadata": {},
   "source": [
    "Сработало! Теперь всегда можно обратиться к classes_ , если забыли, что закодировали. Применим LabelEncoder ко всему набору бинарных переменных."
   ]
  },
  {
   "cell_type": "code",
   "execution_count": null,
   "metadata": {},
   "outputs": [],
   "source": [
    "# Для бинарных признаков мы будем использовать LabelEncoder\n",
    "\n",
    "label_encoder = LabelEncoder()\n",
    "\n",
    "for column in bin_cols:\n",
    "    df[column] = label_encoder.fit_transform(df[column])\n",
    "    \n",
    "# убедимся в преобразовании    \n",
    "df.head()"
   ]
  },
  {
   "cell_type": "code",
   "execution_count": null,
   "metadata": {},
   "outputs": [],
   "source": [
    "from sklearn.feature_selection import mutual_info_classif"
   ]
  },
  {
   "cell_type": "code",
   "execution_count": null,
   "metadata": {},
   "outputs": [],
   "source": [
    "df2 = df.copy()"
   ]
  },
  {
   "cell_type": "code",
   "execution_count": null,
   "metadata": {},
   "outputs": [],
   "source": [
    "for column in cat_cols:\n",
    "    df2[column] = label_encoder.fit_transform(df[column])\n",
    "    \n",
    "# убедимся в преобразовании    \n",
    "df2.head()"
   ]
  },
  {
   "cell_type": "code",
   "execution_count": null,
   "metadata": {},
   "outputs": [],
   "source": [
    "imp_cat = pd.Series(mutual_info_classif(df2[bin_cols + cat_cols], df2['default'],\n",
    "                                     discrete_features =True), index = bin_cols + cat_cols)\n",
    "imp_cat.sort_values(inplace = True)\n",
    "imp_cat.plot(kind = 'barh')"
   ]
  },
  {
   "cell_type": "markdown",
   "metadata": {},
   "source": [
    "# Подготовка данных к машинному обучению"
   ]
  },
  {
   "cell_type": "code",
   "execution_count": null,
   "metadata": {},
   "outputs": [],
   "source": [
    "from sklearn.preprocessing import OneHotEncoder"
   ]
  },
  {
   "cell_type": "code",
   "execution_count": null,
   "metadata": {},
   "outputs": [],
   "source": [
    "X_cat = OneHotEncoder(sparse = False).fit_transform(df[cat_cols].values)"
   ]
  },
  {
   "cell_type": "code",
   "execution_count": null,
   "metadata": {},
   "outputs": [],
   "source": [
    "X_cat.shape"
   ]
  },
  {
   "cell_type": "code",
   "execution_count": null,
   "metadata": {},
   "outputs": [],
   "source": [
    "from sklearn.preprocessing import StandardScaler\n",
    "# Стандартизация числовых переменных\n",
    "\n",
    "X_num = StandardScaler().fit_transform(df[num_cols].values)"
   ]
  },
  {
   "cell_type": "code",
   "execution_count": null,
   "metadata": {},
   "outputs": [],
   "source": [
    "# Объединяем\n",
    "\n",
    "X = np.hstack([X_num, df[bin_cols].values, X_cat])\n",
    "Y = df['default'].values"
   ]
  },
  {
   "cell_type": "code",
   "execution_count": null,
   "metadata": {},
   "outputs": [],
   "source": [
    "from sklearn.model_selection import train_test_split"
   ]
  },
  {
   "cell_type": "code",
   "execution_count": null,
   "metadata": {},
   "outputs": [],
   "source": [
    "X_train, X_test, y_train, y_test = train_test_split(X, Y, test_size=0.20, random_state=42)"
   ]
  },
  {
   "cell_type": "code",
   "execution_count": null,
   "metadata": {
    "scrolled": true
   },
   "outputs": [],
   "source": [
    "from sklearn.linear_model import LogisticRegression\n",
    "classifier = LogisticRegression()\n",
    "classifier.fit(X_train,y_train)"
   ]
  },
  {
   "cell_type": "code",
   "execution_count": null,
   "metadata": {},
   "outputs": [],
   "source": [
    "from sklearn.metrics import mean_squared_error, f1_score, accuracy_score, roc_curve, roc_auc_score"
   ]
  },
  {
   "cell_type": "code",
   "execution_count": null,
   "metadata": {},
   "outputs": [],
   "source": [
    "probs = classifier.predict_proba(X_test)\n",
    "probs = probs[:,1]\n",
    "fpr, tpr, threshold = roc_curve(y_test, probs)\n",
    "roc_auc = roc_auc_score(y_test, probs)\n",
    "\n",
    "plt.figure()\n",
    "plt.plot([0, 1], label='Baseline', linestyle='--')\n",
    "plt.plot(fpr, tpr, label = 'Regression')\n",
    "plt.title('Logistic Regression ROC AUC = %0.3f' % roc_auc)\n",
    "plt.ylabel('True Positive Rate')\n",
    "plt.xlabel('False Positive Rate')\n",
    "plt.legend(loc = 'lower right')\n",
    "plt.show()"
   ]
  },
  {
   "cell_type": "code",
   "execution_count": null,
   "metadata": {},
   "outputs": [],
   "source": [
    "y_pred = classifier.predict(X_test)"
   ]
  },
  {
   "cell_type": "code",
   "execution_count": null,
   "metadata": {},
   "outputs": [],
   "source": [
    "f1 = f1_score(y_test,y_pred)\n",
    "print(f1)"
   ]
  },
  {
   "cell_type": "code",
   "execution_count": null,
   "metadata": {},
   "outputs": [],
   "source": [
    "y_pred.sum()"
   ]
  },
  {
   "cell_type": "code",
   "execution_count": null,
   "metadata": {},
   "outputs": [],
   "source": [
    "y_test.sum()"
   ]
  },
  {
   "cell_type": "code",
   "execution_count": null,
   "metadata": {},
   "outputs": [],
   "source": [
    "from sklearn.model_selection import GridSearchCV\n",
    "\n",
    "# Добавим типы регуляризации\n",
    "penalty = ['l1', 'l2']\n",
    "\n",
    "# Зададим ограничения для параметра регуляризации\n",
    "C = np.logspace(0, 4, 10)\n",
    "\n",
    "# Создадим гиперпараметры\n",
    "hyperparameters = dict(C=C, penalty=penalty)\n",
    "\n",
    "model = LogisticRegression()\n",
    "model.fit(X_train, y_train)\n",
    "\n",
    "# Создаем сетку поиска с использованием 5-кратной перекрестной проверки\n",
    "clf = GridSearchCV(model, hyperparameters, cv=5, verbose=0)\n",
    "\n",
    "best_model = clf.fit(X_train, y_train)\n",
    "\n",
    "# View best hyperparameters\n",
    "print('Лучшее Penalty:', best_model.best_estimator_.get_params()['penalty'])\n",
    "print('Лучшее C:', best_model.best_estimator_.get_params()['C'])"
   ]
  },
  {
   "cell_type": "code",
   "execution_count": null,
   "metadata": {},
   "outputs": [],
   "source": [
    "from sklearn.linear_model import LogisticRegression\n",
    "model = LogisticRegression(C=100000)\n",
    "model.fit(X_train,y_train)"
   ]
  },
  {
   "cell_type": "code",
   "execution_count": null,
   "metadata": {},
   "outputs": [],
   "source": [
    "y_pred = model.predict(X_test)"
   ]
  },
  {
   "cell_type": "code",
   "execution_count": null,
   "metadata": {},
   "outputs": [],
   "source": [
    "f1 = f1_score(y_test,y_pred)\n",
    "print(f1)"
   ]
  },
  {
   "cell_type": "code",
   "execution_count": null,
   "metadata": {},
   "outputs": [],
   "source": [
    "probs = classifier.predict_proba(X_test)\n",
    "probs = probs[:,1]\n",
    "fpr, tpr, threshold = roc_curve(y_test, probs)\n",
    "roc_auc = roc_auc_score(y_test, probs)\n",
    "\n",
    "plt.figure()\n",
    "plt.plot([0, 1], label='Baseline', linestyle='--')\n",
    "plt.plot(fpr, tpr, label = 'Regression')\n",
    "plt.title('Logistic Regression ROC AUC = %0.3f' % roc_auc)\n",
    "plt.ylabel('True Positive Rate')\n",
    "plt.xlabel('False Positive Rate')\n",
    "plt.legend(loc = 'lower right')\n",
    "plt.show()"
   ]
  },
  {
   "cell_type": "code",
   "execution_count": null,
   "metadata": {},
   "outputs": [],
   "source": []
  }
 ],
 "metadata": {
  "kernelspec": {
   "display_name": "Python 3",
   "language": "python",
   "name": "python3"
  },
  "language_info": {
   "codemirror_mode": {
    "name": "ipython",
    "version": 3
   },
   "file_extension": ".py",
   "mimetype": "text/x-python",
   "name": "python",
   "nbconvert_exporter": "python",
   "pygments_lexer": "ipython3",
   "version": "3.8.5"
  },
  "toc": {
   "base_numbering": 1,
   "nav_menu": {},
   "number_sections": true,
   "sideBar": true,
   "skip_h1_title": false,
   "title_cell": "Table of Contents",
   "title_sidebar": "Contents",
   "toc_cell": false,
   "toc_position": {
    "height": "calc(100% - 180px)",
    "left": "10px",
    "top": "150px",
    "width": "305px"
   },
   "toc_section_display": true,
   "toc_window_display": true
  },
  "varInspector": {
   "cols": {
    "lenName": 16,
    "lenType": 16,
    "lenVar": 40
   },
   "kernels_config": {
    "python": {
     "delete_cmd_postfix": "",
     "delete_cmd_prefix": "del ",
     "library": "var_list.py",
     "varRefreshCmd": "print(var_dic_list())"
    },
    "r": {
     "delete_cmd_postfix": ") ",
     "delete_cmd_prefix": "rm(",
     "library": "var_list.r",
     "varRefreshCmd": "cat(var_dic_list()) "
    }
   },
   "types_to_exclude": [
    "module",
    "function",
    "builtin_function_or_method",
    "instance",
    "_Feature"
   ],
   "window_display": false
  }
 },
 "nbformat": 4,
 "nbformat_minor": 4
}
