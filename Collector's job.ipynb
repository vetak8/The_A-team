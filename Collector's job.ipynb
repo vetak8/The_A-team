{
 "cells": [
  {
   "cell_type": "markdown",
   "metadata": {},
   "source": [
    "***Identify a deafault client (CREDIT SCORING)***"
   ]
  },
  {
   "cell_type": "markdown",
   "metadata": {},
   "source": [
    "<img src = 'https://www.nationalvanguard.org/wp-content/uploads/2016/03/debt-slave.jpg' width='400px' >"
   ]
  },
  {
   "cell_type": "markdown",
   "metadata": {},
   "source": [
    "<a id=\"sec1\"></a>\n",
    "# [Description](#sec1)"
   ]
  },
  {
   "cell_type": "markdown",
   "metadata": {},
   "source": [
    "Enter text here"
   ]
  },
  {
   "cell_type": "markdown",
   "metadata": {},
   "source": [
    "<a id=\"sec1.1\"></a>\n",
    "## [Features Defination](sec1.1)"
   ]
  },
  {
   "cell_type": "markdown",
   "metadata": {},
   "source": [
    "client_id -  client ID\n",
    "\n",
    "education - the level of education\n",
    "\n",
    "sex - borrowe's gender\n",
    "\n",
    "age - borrowers age\n",
    "\n",
    "car - has(has no) car\n",
    "\n",
    "car_type - flag of car type\n",
    "\n",
    "decline_app_cnt - number of rejected past applications\n",
    "\n",
    "good_work - good job flag\n",
    "\n",
    "bki_request_cnt - number of requests to Credit bureau\n",
    "\n",
    "home_address - home address categorizer \n",
    "\n",
    "work_address - work address categorizer \n",
    "\n",
    "income - borrower's income\n",
    "\n",
    "foreign_passport - has (has no) traveling passport\n",
    "\n",
    "sna - Relationships of borrower with the bank's clients\n",
    "\n",
    "first_time - how old the information about the borrower was\n",
    "\n",
    "score_bki - score based on data from Credit bureau\n",
    "\n",
    "region_rating - region rating\n",
    "\n",
    "app_date - application date\n",
    "\n",
    "default - has (has no) default"
   ]
  },
  {
   "cell_type": "markdown",
   "metadata": {},
   "source": [
    "<a id=\"sec2\"></a>\n",
    "# [INDEX](#sec2)\n",
    "1. [Description](#sec1)\n",
    "    * [1.1 Features Defination](#sec1.1)\n",
    "2. [INDEX](#sec2)\n",
    "3. [IMPORT LIBRARRIES](#sec3)\n",
    "4. [Functions and Classes](#sec4)\n",
    "5. [Load and Chek the Dataset](#sec5)\n",
    "    * [Data Types](#sec5.1)\n",
    "    * [Pandas Profiling](#sec5.2)\n",
    "6. [EDA](#sec6)\n",
    "    * [Bolean Feature analysis](#sec6.1)\n",
    "    * [Categorical Feature analysis](#sec6.2)\n",
    "    * [Numerical Feature analysis](#sec6.3)\n",
    "    * [Date_Time analysis](#sec6.4)\n",
    "    * [Draw a conclusion](#sec6.5)\n",
    "7. [Naive Model](#sec7)\n",
    "8. [Feature Engineering](#sec8)\n",
    "\n",
    "5. [Visualization](#sec5)\n",
    "    * [5.1 Correclation](#sec5.1)\n",
    "    * [Significance of continuous variables ](#sec5.2)\n",
    "6. [Categorical Vars](#sec6)"
   ]
  },
  {
   "cell_type": "markdown",
   "metadata": {},
   "source": [
    "<a id=\"sec3\"></a>\n",
    "# [IMPORT LIBRARRIES](sec3)"
   ]
  },
  {
   "cell_type": "code",
   "execution_count": 2,
   "metadata": {},
   "outputs": [],
   "source": [
    "import pandas as pd\n",
    "import pandas_profiling\n",
    "import numpy as np\n",
    "import matplotlib.pyplot as plt\n",
    "import seaborn as sns\n",
    "from datetime import datetime\n",
    "import warnings\n",
    "from sklearn.model_selection import GridSearchCV\n",
    "from sklearn.model_selection import StratifiedKFold, StratifiedShuffleSplit\n",
    "from sklearn.pipeline import Pipeline\n",
    "from sklearn.preprocessing import LabelEncoder, OneHotEncoder\n",
    "from sklearn.preprocessing import StandardScaler, RobustScaler\n",
    "from sklearn.feature_selection import f_classif, mutual_info_classif\n",
    "from sklearn.linear_model import LogisticRegression\n",
    "from sklearn.ensemble import RandomForestClassifier, VotingClassifier \n",
    "from sklearn.metrics import f1_score, accuracy_score, roc_curve, roc_auc_score,plot_roc_curve\n",
    "from sklearn.metrics import classification_report, precision_score, recall_score, plot_precision_recall_curve\n",
    "from sklearn.metrics import confusion_matrix\n",
    "from imblearn.over_sampling import RandomOverSampler\n",
    "# from sklearn.metrics import plot_confusion_matrix\n",
    "from sklearn.model_selection import train_test_split\n",
    "import statsmodels.api as sm\n",
    "\n",
    "from lightgbm import LGBMClassifier\n",
    "\n",
    "from jupyterthemes import jtplot\n",
    "\n",
    "warnings.filterwarnings(\"ignore\")\n",
    "jtplot.style(theme='monokai', context='notebook', ticks=True, grid=False)\n",
    "%matplotlib inline"
   ]
  },
  {
   "cell_type": "code",
   "execution_count": null,
   "metadata": {},
   "outputs": [],
   "source": [
    "# fix the version of the packages so that the experiments are reproducible:\n",
    "#!pip freeze > requirements.txt"
   ]
  },
  {
   "cell_type": "code",
   "execution_count": 2,
   "metadata": {},
   "outputs": [],
   "source": [
    "# Lock a RANDOM SEED to keep experiments reproducible.\n",
    "RANDOM_SEED = 42"
   ]
  },
  {
   "cell_type": "code",
   "execution_count": 3,
   "metadata": {
    "scrolled": true
   },
   "outputs": [
    {
     "data": {
      "image/png": "[encoded data removed]",
      "text/plain": [
       "<Figure size 360x72 with 1 Axes>"
      ]
     },
     "metadata": {
      "needs_background": "dark"
     },
     "output_type": "display_data"
    }
   ],
   "source": [
    "colors = ['#001c57', '#50248f', '#a6a6a6', '#38d1ff','#cc3181']\n",
    "sns.palplot(sns.color_palette(colors))"
   ]
  },
  {
   "cell_type": "markdown",
   "metadata": {},
   "source": [
    "<a id=\"sec4\"></a>\n",
    "# [Functions and Classes](#sec4)"
   ]
  },
  {
   "cell_type": "code",
   "execution_count": 4,
   "metadata": {},
   "outputs": [],
   "source": [
    "def pandas_report(data):\n",
    "    ''' Function is called for generating of dataset profile-report'''\n",
    "\n",
    "    profile = data.profile_report(\n",
    "        title='Credit Scoring',\n",
    "        progress_bar=False,\n",
    "        correlations={\n",
    "            'pearson': {'calculate': True,\n",
    "                        'warn_high_correlations': True,\n",
    "                        'threshold': 0.9},\n",
    "            'spearman': {'calculate': True,\n",
    "                        'warn_high_correlations': True,\n",
    "                        'threshold': 0.9},\n",
    "            'kendall': {'calculate': False},\n",
    "            'phi_k': {'calculate': False},\n",
    "            'cramers': {'calculate': False}        \n",
    "        },\n",
    "        \n",
    "        interactions={\n",
    "            'continuous': True,\n",
    "            'targets': []\n",
    "        },\n",
    "        missing_diagrams={\n",
    "            'heatmap': True,\n",
    "            'dendrogram': True,\n",
    "            'matrix': True\n",
    "        },\n",
    "        vars={\n",
    "            'cat' : {'n_obs':10}\n",
    "        }\n",
    "    )\n",
    "    \n",
    "    return profile"
   ]
  },
  {
   "cell_type": "code",
   "execution_count": 5,
   "metadata": {},
   "outputs": [],
   "source": [
    "def get_boxplot(data,col1,col2,hue=None):\n",
    "    '''Function is called to plot boxplots'''\n",
    "    fig, ax = plt.subplots(figsize=(7, 5))\n",
    "    sns.boxplot(x=col1, y=col2, hue=hue,data=data, palette=colors)\n",
    "    plt.xticks(rotation=45)\n",
    "#     ax.set_title('Boxplot for ' + col1 + 'and' + col2,fontsize=14)\n",
    "    ax.set_title(f'Boxplot for {col1} and {col2}',fontsize=14)\n",
    "    plt.show()"
   ]
  },
  {
   "cell_type": "code",
   "execution_count": 6,
   "metadata": {},
   "outputs": [],
   "source": [
    "class Preprocessing:\n",
    "    def __init__(self,data):\n",
    "        self.data = data\n",
    "#         self.column = column\n",
    "    \n",
    "    def label_encoder(self,column):\n",
    "        le = LabelEncoder()\n",
    "        self.data[column] = le.fit_transform(self.data[column])\n",
    "        \n",
    "    def hot_enc(self,column):\n",
    "        ohe = OneHotEncoder(handle_unknown='ignore', sparse=False)\n",
    "        aux_df = pd.DataFrame(ohe.fit_transform(self.data[[column]]))\n",
    "        aux_df.columns = ohe.get_feature_names(['hot_encode'])\n",
    "        self.data = self.data.drop(col,axis=1)\n",
    "        self.data = pd.concat([self.data, aux_df], axis=1)\n",
    "        return self.data       "
   ]
  },
  {
   "cell_type": "code",
   "execution_count": 7,
   "metadata": {},
   "outputs": [],
   "source": [
    "# def pre_processing(column,data):\n",
    "#     '''Function is called to encode feature'''\n",
    "#     le = LabelEncoder()\n",
    "#     data[column] = le.fit_transform(data[column])"
   ]
  },
  {
   "cell_type": "code",
   "execution_count": 8,
   "metadata": {},
   "outputs": [],
   "source": [
    "def missing_vars(data,col = 'education', random_proba=True):\n",
    "    # With using probability and random choise\n",
    "\n",
    "    if random_proba:\n",
    "        col_name = data[col].value_counts(\n",
    "        ).index.to_list()  # get list of values\n",
    "        col_distr = data[col].value_counts(\n",
    "            normalize=True).values  # get l;ist of probs\n",
    "        missing = data[col].isnull()  # flag of missing val\n",
    "        # substitute values from the list of names in accordance with the probability of meeting the name \n",
    "        data.loc[missing, [col]] = np.random.choice(\n",
    "            col_name, size=len(data[missing]), p=col_distr)\n",
    "    \n",
    "    # Using  most common in  column\n",
    "    data[col] = data[col].fillna(\n",
    "    data[col].value_counts().index[0])"
   ]
  },
  {
   "cell_type": "code",
   "execution_count": 9,
   "metadata": {},
   "outputs": [],
   "source": [
    "def corr_matrix(data, det=True, pltx = 10, plty=10):\n",
    "    X = data.corr()\n",
    "    if det:\n",
    "        \n",
    "        evals,evec = np.linalg.eig(X)\n",
    "        ev_product = np.prod(evals)\n",
    "    \n",
    "        print(f'Rank of Matrix: {np.linalg.matrix_rank(X)}')\n",
    "        print(f'Determinat of matrix: {np.round(ev_product,4)}')\n",
    "        print(f'Shape of matrix: {np.shape(X)}')\n",
    "    \n",
    "    plt.figure(figsize=(pltx,plty))\n",
    "    sns.heatmap(X,vmin=0,vmax=.9,annot=True,square=True)\n",
    "    plt.show()"
   ]
  },
  {
   "cell_type": "code",
   "execution_count": 10,
   "metadata": {},
   "outputs": [],
   "source": [
    "def get_num_info(col,title = None):\n",
    "    '''Function is called to plot feture distribution'''\n",
    "    \n",
    "    title = title if title is not None else f\"Distribution for '{col}\"\n",
    "    fig,(ax1,ax2,ax3) = plt.subplots(1,3,figsize=(15,5),)\n",
    "    fig = sm.qqplot(col, fit=True,line='45',ax=ax1)\n",
    "    fig.suptitle(title,fontsize=20)\n",
    "    \n",
    "    sns.distplot(col.values, bins=20, color=colors[1],ax=ax2)\n",
    "    \n",
    "#     sns.boxplot(col,width=.2,color=colors[3])\n",
    "    sns.violinplot(col.values,color=colors[3],bw=.3,cut=1,linewidth=4)\n",
    "    \n",
    "    \n",
    "    ax1.set_title('QQ-plot')\n",
    "    ax2.set_title('Distribution')\n",
    "    ax3.set_title('Violinplot')\n",
    "    \n",
    "    plt.show()"
   ]
  },
  {
   "cell_type": "code",
   "execution_count": 11,
   "metadata": {},
   "outputs": [],
   "source": [
    "def detect_outliers(data):\n",
    "    '''Function is called to detect outliers'''\n",
    "    q1,q3 = np.percentile(sorted(data),[25,75])\n",
    "    \n",
    "    IQR = q3 - q1\n",
    "    \n",
    "    l_b = q1 - (1.5 * IQR)\n",
    "    u_b = q3 + (1.5 * IQR)\n",
    "    outl_count = len(data[data < l_b]) + len(data[data > u_b])\n",
    "    \n",
    "    print(f'Lower Bound: {round(l_b,3)}, Upper Bound {round(u_b,3)}, Outliers Count: {outl_count}')"
   ]
  },
  {
   "cell_type": "code",
   "execution_count": 12,
   "metadata": {},
   "outputs": [],
   "source": [
    "'''Функция, возвращающая порядковый день в году'''\n",
    "def get_days_count(x):  \n",
    "    day = ((x.month-1) * 30)+x.day\n",
    "    return day\n",
    "'''Функция, возвращающая количество дней между датой заявки и сегодняшним числом'''\n",
    "def get_days_beetwen(x):\n",
    "    curr_date = datetime.today()\n",
    "    count = (curr_date-x).days\n",
    "    return count\n",
    "    \n",
    "'''Функция, возвращающая флаг подачи заявки в выходной день'''\n",
    "def if_weekend(x):\n",
    "    if x.weekday() in [5,6]:\n",
    "        return 1\n",
    "    else:\n",
    "        return 0\n",
    "\n",
    "def month(x):\n",
    "    month = x.month\n",
    "    return month"
   ]
  },
  {
   "cell_type": "code",
   "execution_count": 13,
   "metadata": {},
   "outputs": [],
   "source": [
    "def make_confusion_matrix(cf, group_names=['TN', 'FP', 'FN', 'TP'],\n",
    "                           categories='auto',\n",
    "                           sum_stats=True,\n",
    "                           count=True,\n",
    "                           cbar=True,\n",
    "                           percent=True,\n",
    "                           cmap='Blues'):\n",
    "    '''Function is called for making a confusion matrix\n",
    "    args\n",
    "    ------\n",
    "    cf - confusion matrix\n",
    "    group_names - Names for each group\n",
    "    categories -  categories to be displayed on the x,y axis. Default is 'auto'\n",
    "    sum_stats -   shows Accuracies. Deafult is TRUE\n",
    "    c_bar -       If True, show the color bar. The cbar values are based off the values in the confusion matrix. \n",
    "                  Default is True\n",
    "    percent -     to be displayed on the x,y axis. Default is True\n",
    "    '''\n",
    "    # CODE TO GENERATE TEXT INSIDE EACH SQUARE\n",
    "    blanks = ['' for i in range(cf.size)]\n",
    "\n",
    "\n",
    "    group_labels = [\"{}\\n\".format(value) for value in group_names]\n",
    "\n",
    "    if count:\n",
    "        group_counts = [\"{0:0.0f}\\n\".format(value) for value in cf.flatten()]\n",
    "    else:\n",
    "        group_counts = blanks\n",
    "\n",
    "    if percent:\n",
    "        group_percentages = [\"{0:.2%}\".format(\n",
    "            value) for value in cf.flatten()/np.sum(cf)]\n",
    "    else:\n",
    "        group_percentages = blanks\n",
    "\n",
    "    box_labels = [f\"{v1}{v2}{v3}\".strip() for v1, v2, v3 in zip(\n",
    "        group_labels, group_counts, group_percentages)]\n",
    "    box_labels = np.asarray(box_labels).reshape(cf.shape[0], cf.shape[1])\n",
    "\n",
    "    # Metrics\n",
    "    if sum_stats:\n",
    "        # Accuracy is sum of diagonal divided by total observations\n",
    "        accuracy = np.trace(cf) / float(np.sum(cf))\n",
    "        ball_accuracy = .5*(cf[1, 1] / sum(cf[1, :]) +\n",
    "                            cf[0, 0] / sum(cf[0, :]))\n",
    "\n",
    "        # if it is a binary confusion matrix, show some more stats\n",
    "        if len(cf) == 2:\n",
    "            # pr = how many real true\n",
    "            precision = cf[1, 1] / sum(cf[:, 1])\n",
    "            # How many positives from all positives\n",
    "            recall = cf[1, 1] / sum(cf[1, :])\n",
    "            # F1 score\n",
    "            f1_score = 2*precision*recall / (precision + recall)\n",
    "            stats_text = \"\\n\\nAccuracy={:0.3f}\\nBallancedAcc={:0.3f}\\nPrecision={:0.3f}\\nRecall={:0.3f}\\nF1 Score={:0.3f}\".format(\n",
    "                accuracy, ball_accuracy, precision, recall, f1_score)\n",
    "        else:\n",
    "            stats_text = \"\\n\\nAccuracy={:0.3f}\".format(accuracy)\n",
    "    else:\n",
    "        stats_text = \"\"\n",
    "\n",
    "    plt.rcParams.get('figure.figsize')\n",
    "    plt.figure(figsize=(5, 5))\n",
    "    sns.heatmap(cf, annot=box_labels, fmt=\"\", cmap=cmap, cbar=cbar,\n",
    "                xticklabels=categories, yticklabels=categories)\n",
    "    plt.ylabel('True label')\n",
    "    plt.xlabel('Predicted label' + stats_text)"
   ]
  },
  {
   "cell_type": "code",
   "execution_count": 14,
   "metadata": {},
   "outputs": [],
   "source": [
    "def make_roc_auc(model,X,y):\n",
    "    fig, (ax1, ax2) = plt.subplots(1, 2, figsize=(13, 5))\n",
    "    plot_precision_recall_curve(model, X, y, ax=ax1)\n",
    "    plot_roc_curve(model, X_test, y_test, ax=ax2);\n",
    "    plt.show()"
   ]
  },
  {
   "cell_type": "code",
   "execution_count": 15,
   "metadata": {},
   "outputs": [],
   "source": [
    "# Функция для возвращения таблицы с метриками\n",
    "def get_scores(report_df, model, X_test, y_test, name):\n",
    "\n",
    "    report = pd.DataFrame(columns={'ROC-AUC'}, data=[0])\n",
    "    report['ROC-AUC'] = roc_auc_score(y_test,\n",
    "                                      model.predict_proba(X_test)[:, 1])\n",
    "    report['PR-AUC'] = precision_score(y_test,model.predict(X_test))\n",
    "    report['F1'] = f1_score(y_test, model.predict(X_test))\n",
    "    report['precision_Neg'] = precision_score(\n",
    "        y_test, model.predict(X_test), pos_label=0)\n",
    "    report['precision_Pos'] = precision_score(\n",
    "        y_test, model.predict(X_test), pos_label=1)\n",
    "    report['recall_Neg'] = recall_score(\n",
    "        y_test, model.predict(X_test), pos_label=0)\n",
    "    report['recall_Pos'] = recall_score(\n",
    "        y_test, model.predict(X_test), pos_label=1)\n",
    "\n",
    "    report.index = [name]\n",
    "    report_df = report_df.append(report)\n",
    "    return report_df"
   ]
  },
  {
   "cell_type": "markdown",
   "metadata": {},
   "source": [
    "<a id=\"sec4\"></a>\n",
    "# [Load and Chek the Dataset](#sec4)"
   ]
  },
  {
   "cell_type": "code",
   "execution_count": 18,
   "metadata": {
    "scrolled": true
   },
   "outputs": [],
   "source": [
    "df_train = pd.read_csv(\n",
    "    r'C:\\Users\\wangshu202040\\The A-Team\\sf-dst-scoring\\train.csv')\n",
    "# df_train = pd.read_csv(\n",
    "#     r'C:\\Users\\Paul\\The_A-team\\sf-dst-scoring\\train.csv')\n",
    "\n",
    "df_test = pd.read_csv(\n",
    "    r'C:\\Users\\wangshu202040\\The A-Team\\sf-dst-scoring\\test.csv')\n",
    "\n",
    "# df_test = pd.read_csv(\n",
    "#     r'C:\\Users\\Paul\\The_A-team\\sf-dst-scoring\\test.csv')\n",
    "\n",
    "\n",
    "submission = pd.read_csv(\n",
    "    r'C:\\Users\\wangshu202040\\The A-Team\\sf-dst-scoring\\sample_submission.csv')\n",
    "\n",
    "# submission = pd.read_csv(\n",
    "#     r'C:\\Users\\Paul\\The_A-team\\sf-dst-scoring\\sample_submission.csv')"
   ]
  },
  {
   "cell_type": "markdown",
   "metadata": {},
   "source": [
    "For the processing and EDA, let's concatenate two dataframes into a one."
   ]
  },
  {
   "cell_type": "code",
   "execution_count": 19,
   "metadata": {},
   "outputs": [],
   "source": [
    "# For the correct processing of features, combine train and test sets into a one dataset\n",
    "\n",
    "df_train['sample'] = 1  # train\n",
    "df_test['sample'] = 0  # test\n",
    "# as we have to predict rating, in test set we just fill it with 0\n",
    "#df_test['default'] = 0\n",
    "\n",
    "df1 = df_test.append(df_train, sort=False).reset_index(\n",
    "    drop=True)  # combine sets"
   ]
  },
  {
   "cell_type": "code",
   "execution_count": null,
   "metadata": {},
   "outputs": [],
   "source": [
    "display(df.sample(3))\n",
    "df.info()"
   ]
  },
  {
   "cell_type": "markdown",
   "metadata": {},
   "source": [
    "<a id=\"sec5.1\"></a>\n",
    "## [Data Types](#sec5.1)"
   ]
  },
  {
   "cell_type": "code",
   "execution_count": null,
   "metadata": {
    "scrolled": true
   },
   "outputs": [],
   "source": [
    "dtype_df = df.dtypes.reset_index()\n",
    "dtype_df.columns = ['Count', 'Column Type']\n",
    "dtype_df.groupby('Column Type').agg('count').reset_index()"
   ]
  },
  {
   "cell_type": "code",
   "execution_count": null,
   "metadata": {
    "scrolled": true
   },
   "outputs": [],
   "source": [
    "for i, j in enumerate(df.columns):\n",
    "    print(j, type(df.loc[1][i]))"
   ]
  },
  {
   "cell_type": "markdown",
   "metadata": {},
   "source": [
    "<a id=\"sec5.2\"></a>\n",
    "## [Pandas Profiling](#sec5.2)"
   ]
  },
  {
   "cell_type": "code",
   "execution_count": null,
   "metadata": {},
   "outputs": [],
   "source": [
    "#data_profile = pandas_report(df_train)\n",
    "#data_profile.to_file('result.html') # Check your folder"
   ]
  },
  {
   "cell_type": "markdown",
   "metadata": {},
   "source": [
    " - Dataset has 19 features (excluding feature ''Sample)\n",
    " \n",
    " - Total Number Of observations is 110 148\n",
    " \n",
    " - Missing values is about 0.04%\n",
    " \n",
    " - There is no duplicates\n",
    " \n",
    " \n",
    " - ***Client_id*** has 100% unique values \n",
    " \n",
    " - ***app_date*** has only 120 distinct values (0.1%). Most of presented dates concentrated in MARCH2014, APRIL2014, FEB2014. We need to process this column in further\n",
    " \n",
    " - ***education*** Consists 5 distinct categories: \n",
    "     \n",
    " - - SCH (52%) - School;\n",
    " \n",
    " - - GRD (31%) - Graduated (Master degree);\n",
    " \n",
    " - - UGR (13%) - UnderGraduated (Bachelor degree);\n",
    " \n",
    " - - PGR (1.7%) - PostGraduated;\n",
    " \n",
    " - - ACD (0.3%) - Academic Degree;\n",
    " \n",
    " - - Missing (0.4%)\n",
    " \n",
    " \n",
    " We will see how it is impact on a result and probably generate new feature 'Has/Has No Hi-degree education'\n",
    " \n",
    " - ***sex*** Consists 2 distinct categories:\n",
    " - - Female (56%);\n",
    " \n",
    " - - Male (44%);\n",
    " \n",
    " \n",
    " - ***age*** Is a real Number variable. The distribution is a left-shifted.\n",
    " \n",
    " -- Minimum\t21\n",
    " \n",
    " -- median\t37\n",
    " \n",
    " -- Mean\t39.2\n",
    " \n",
    " -- Maximum\t72\n",
    " \n",
    " -- Interquartile range (IQR)\t18\n",
    " \n",
    " - ***car*** Is a boolean variable. 67% of borrowers has no car.\n",
    " \n",
    " \n",
    " - ***car_type*** Is a boolean variable which shows whethere the borrower has domestic or foreign car. 81% of borrowers has domesatic.\n",
    " \n",
    " \n",
    " - ***decline_app_cnt*** Is a real number value. Distribution is shifted to the left. Most of values (83%) has zeros which is reasonable. Overwhelimng majority of the observations are located between 0 and 6. We might convert this feature to categorical or ordinal.\n",
    " \n",
    " -- Maximum\t33\n",
    "\n",
    "\n",
    " - ***good_work*** Most of borrowers have not good job (83%). It is interesting it here any relations between good job and education? We also want to know, does someone has poor education, bad job and foreign car (Just for fun)\n",
    " \n",
    " \n",
    " - ***score_bki*** Is a real number variable. It consists 93% distinct values. We may note, that it has approximately normal distribution and also consists negative values. Most likely it is already scaled by Standard Scaler.\n",
    " \n",
    " \n",
    " - ***bki_request_cnt*** Is a real number variable with max.requests - 53, min - 0 and median - 1. Most of values scattered from 0 to 8 attempts.\n",
    " \n",
    " - ***region_rating*** It has kind of grade from 20 up to 80. We would say it is more similar with categoreical feature. Most common rating is 50 (37%)\n",
    " \n",
    " - ***home_address, work_address*** Is a categorical data with 3 categories.\n",
    " \n",
    " - ***income*** Biased distribution with large scatter of values - from 1000 to 1 000 000. Here we can try to convert it in a categorical value, assigning the income values to the categories - low income, medium, above medium, etc. \n",
    " \n",
    " - ***sna / first_time***  Are categorical features and have 4 categories.  Nothing intersting seems.\n",
    " \n",
    " - ***foreign_passport*** Is a boolean feature. 67% of borrowers have foreign passport\n",
    " \n",
    " \n",
    " - ***default*** is our target which we have to predict. It is a boolean var, with overwhelming majority of 'good clients'. We may note that this feature is unballanced and the ratio is 1:6.8 which is unballanced a bit. In the feature engenireeng we will try apply under and oversampling and will se results."
   ]
  },
  {
   "cell_type": "markdown",
   "metadata": {},
   "source": [
    "<a id=\"sec6\"></a>\n",
    "# [ANALYZE DATA](#sec6)"
   ]
  },
  {
   "cell_type": "markdown",
   "metadata": {},
   "source": [
    "<img src = 'https://media.makeameme.org/created/analyze-the-data.jpg' width = '400px' >"
   ]
  },
  {
   "cell_type": "code",
   "execution_count": null,
   "metadata": {},
   "outputs": [],
   "source": [
    "bool_cols = ['sex', 'car', 'car_type', 'good_work', 'foreign_passport']\n",
    "cat_cols = [\n",
    "    'education', 'region_rating', 'home_address', 'work_address', 'sna',\n",
    "    'first_time'\n",
    "]\n",
    "num_cols = ['age', 'decline_app_cnt', 'income', 'bki_request_cnt', 'score_bki']"
   ]
  },
  {
   "cell_type": "markdown",
   "metadata": {},
   "source": [
    "<a id=\"sec6.1\"></a>\n",
    "## [Boolean feature analysis](#sec6.1)"
   ]
  },
  {
   "cell_type": "code",
   "execution_count": null,
   "metadata": {},
   "outputs": [],
   "source": [
    "plt.figure(figsize=[20, 20])\n",
    "i = 1\n",
    "\n",
    "# y, hue = 'Proportion', 'default'\n",
    "\n",
    "for k in bool_cols:\n",
    "    plt.subplot(4, 3, i)\n",
    "    sns.barplot(x=k, y='proportion', hue='default',  data=df_train[[\n",
    "                k, 'default']].value_counts(normalize=True).rename('proportion').reset_index(),palette=[colors[3], colors[4]])\n",
    "    plt.title('Binary Feature Name\\n' + k, fontsize=15)\n",
    "    i += 1\n",
    "plt.tight_layout()\n",
    "plt.show()\n"
   ]
  },
  {
   "cell_type": "markdown",
   "metadata": {},
   "source": [
    "By looking at plots, we may note that female borrowers tend to be default slightly more than males. \n",
    "\n",
    "Borrowers, who has a car could be considered as more reliable.Borrowers who do not have a car tend not to repay their loans twice as often as those who have a car.\n",
    "\n",
    "Those borrowers who have a car and that car is made abroad,tend to be more reliable. However, if we want to see the distribution more clear, we need to create a new category in this col: Has a domestic car, has a foreign car, has no car.\n",
    "\n",
    "People, who have good jobs and foreign passport tend to return loans more often than those, who have bad jobs."
   ]
  },
  {
   "cell_type": "markdown",
   "metadata": {},
   "source": [
    "Let's check the how our features statistically significant?"
   ]
  },
  {
   "cell_type": "markdown",
   "metadata": {},
   "source": [
    "To do so, let's encode it to binary entities."
   ]
  },
  {
   "cell_type": "code",
   "execution_count": null,
   "metadata": {},
   "outputs": [],
   "source": [
    "encoder = Preprocessing(df_train)"
   ]
  },
  {
   "cell_type": "code",
   "execution_count": null,
   "metadata": {
    "scrolled": true
   },
   "outputs": [],
   "source": [
    "for col in bool_cols:\n",
    "    encoder.label_encoder(col)\n",
    "\n",
    "df_train.sample(3)"
   ]
  },
  {
   "cell_type": "code",
   "execution_count": null,
   "metadata": {},
   "outputs": [],
   "source": [
    "imp_bol = pd.Series(mutual_info_classif(df_train[bool_cols], df_train['default'], \n",
    "                                     discrete_features=True), index=[bool_cols])\n",
    "imp_bol.sort_values(inplace=True)\n",
    "imp_bol.plot(kind='barh')"
   ]
  },
  {
   "cell_type": "markdown",
   "metadata": {},
   "source": [
    "Well, most significant feature to client's default is ***foreign_passport*** and ***car_type***"
   ]
  },
  {
   "cell_type": "markdown",
   "metadata": {},
   "source": [
    "Now, get a look into a correlation matrix"
   ]
  },
  {
   "cell_type": "code",
   "execution_count": null,
   "metadata": {},
   "outputs": [],
   "source": [
    "corr_matrix(df_train[bool_cols])"
   ]
  },
  {
   "cell_type": "markdown",
   "metadata": {},
   "source": [
    "We have strong correlation between car and car_type. This can be explained by the fact that the column ***car*** indicates the presence of a car, and in the column ***car_type*** the presence of a foreign car, however, the absence of a car or whether the car is domestic is not indicated in ***car_type***. In feature engineering section we will combine information from these to columns into a one. It allows us reduce matrix of features without loosing information.\n",
    "\n",
    "In addition, car is correlated with sex a bit."
   ]
  },
  {
   "cell_type": "markdown",
   "metadata": {},
   "source": [
    "<a id=\"sec6.2\"></a>\n",
    "## [Categorical Feature analysis](#sec6.2)"
   ]
  },
  {
   "cell_type": "markdown",
   "metadata": {},
   "source": [
    "Before we do, let's convert categories into a numbers"
   ]
  },
  {
   "cell_type": "code",
   "execution_count": null,
   "metadata": {},
   "outputs": [],
   "source": [
    "missing_vars(df_train)"
   ]
  },
  {
   "cell_type": "code",
   "execution_count": null,
   "metadata": {
    "scrolled": true
   },
   "outputs": [],
   "source": [
    "plt.figure(figsize=[20, 20])\n",
    "i = 1\n",
    "\n",
    "# y, hue = 'Proportion', 'default'\n",
    "\n",
    "for k in cat_cols:\n",
    "    plt.subplot(4, 3, i)\n",
    "    sns.barplot(x=k, y='proportion', hue='default',  data=df_train[[\n",
    "                k, 'default']].value_counts(normalize=True).rename('proportion').reset_index(),palette=[colors[3], colors[4]])\n",
    "    plt.title('Binary Feature Name\\n' + k, fontsize=15)\n",
    "    i += 1\n",
    "plt.tight_layout()\n",
    "plt.show()"
   ]
  },
  {
   "cell_type": "markdown",
   "metadata": {},
   "source": [
    "Here we can see that people with low-grade education fail to return loans more often than people with high-grade education.\n",
    "\n",
    "The feature ***region_rating*** gives an interesting insight. The lower rating of the region, the higher share of overdue loan payments.\n",
    "\n",
    "Home address and work addres are almost the same. We just can see that share of failed borrowers different from each address. Perhaps it has some insights. We will check later.\n",
    "\n",
    "The category 4 in ***sna*** feature has a higher ratio of failed borrowers. And it falls by reducing the category from 4 to 1.\n",
    "\n",
    "First time columns also shows us the fall of share of failed borrowers."
   ]
  },
  {
   "cell_type": "markdown",
   "metadata": {},
   "source": [
    "Let's see, how the region rating depends on education"
   ]
  },
  {
   "cell_type": "code",
   "execution_count": null,
   "metadata": {},
   "outputs": [],
   "source": [
    "get_boxplot(df_train,'education','region_rating')"
   ]
  },
  {
   "cell_type": "markdown",
   "metadata": {},
   "source": [
    "People with high level of education prefer to live in a region with higher level"
   ]
  },
  {
   "cell_type": "markdown",
   "metadata": {},
   "source": [
    "OK, and now let's see the distribution of the failed borrowers by region_rating"
   ]
  },
  {
   "cell_type": "code",
   "execution_count": null,
   "metadata": {},
   "outputs": [],
   "source": [
    "get_boxplot(df_train,'default','region_rating')"
   ]
  },
  {
   "cell_type": "markdown",
   "metadata": {},
   "source": [
    "We may see that default clients lives in mid level regions. The higher rating of the city, the lower the chance of default. It must be a good insight for a model"
   ]
  },
  {
   "cell_type": "markdown",
   "metadata": {},
   "source": [
    "It's interesting, can we observe some relationships between education level and the connection of borrowers with another clients of a bank?\n",
    "Let's see that. "
   ]
  },
  {
   "cell_type": "code",
   "execution_count": null,
   "metadata": {},
   "outputs": [],
   "source": [
    "get_boxplot(df_train,'education','sna',hue='default')"
   ]
  },
  {
   "cell_type": "markdown",
   "metadata": {},
   "source": [
    "Связи с клиентами банка имеют люди, в основном с низким уровнем образования. Возможно это можно объяснить тем, что люди с низким образованием работают в больших коллективах (заводы, фабрики) и обмен информации лучше или людям с высоким образованием не нужны поручители. Дефолтных клиентов также больше именно в этих категориях.\n",
    "\n",
    "People, mostly with a low level of education, have connections with the bank's clients. Perhaps this can be explained by the fact that people with low education work in large teams (factories, factories) and the exchange of information is better, or people with higher education do not need guarantors. There are also more default clients in these categories. "
   ]
  },
  {
   "cell_type": "markdown",
   "metadata": {},
   "source": [
    "Check the significance and correlation"
   ]
  },
  {
   "cell_type": "code",
   "execution_count": null,
   "metadata": {},
   "outputs": [],
   "source": [
    "for col in cat_cols:\n",
    "    encoder.label_encoder(col)"
   ]
  },
  {
   "cell_type": "code",
   "execution_count": null,
   "metadata": {
    "scrolled": true
   },
   "outputs": [],
   "source": [
    "imp_cat = pd.Series(mutual_info_classif(df_train[cat_cols], df_train['default'], \n",
    "                                     discrete_features=True), index=[cat_cols])\n",
    "imp_cat.sort_values(inplace=True)\n",
    "imp_cat.plot(kind='barh')"
   ]
  },
  {
   "cell_type": "code",
   "execution_count": null,
   "metadata": {},
   "outputs": [],
   "source": [
    "corr_matrix(df_train[cat_cols])"
   ]
  },
  {
   "cell_type": "markdown",
   "metadata": {},
   "source": [
    "We have quite stong correlation between sna and first_time. Also, these two columns has best significance to a target variable. We may guess, that these two features can be explained as follows: This person has long been a client of the bank and, as a result, has acquired connections with other clients (possibly guarantors ).\n",
    "\n",
    "Home and work addresses also correlated. We need to think what can we do with these features."
   ]
  },
  {
   "cell_type": "markdown",
   "metadata": {},
   "source": [
    "<a id=\"sec6.3\"></a>\n",
    "## [Numerical Feature analysis](#sec6.3)"
   ]
  },
  {
   "cell_type": "code",
   "execution_count": null,
   "metadata": {
    "scrolled": true
   },
   "outputs": [],
   "source": [
    "for col in num_cols:\n",
    "    get_num_info(df_train[col],title=col)\n",
    "    detect_outliers(df_train[col])"
   ]
  },
  {
   "cell_type": "markdown",
   "metadata": {},
   "source": [
    "Looking at QQ plots, we may note, that only column ***score_bki*** has a distribution close to normal. Moreover, as was mentioned above, seems this feature already scaled. ***Age*** has left-biased distribution. Data has outliers, but later we will decide what to do with it. \n",
    "\n",
    "We have several options: 1. Apply logarithm  function do data, convert some data to categorical features, Apply combination of logarithm and converting to categorical features."
   ]
  },
  {
   "cell_type": "code",
   "execution_count": null,
   "metadata": {
    "scrolled": true
   },
   "outputs": [],
   "source": [
    "imp_num = pd.Series(f_classif(df_train[num_cols], df_train['default'])[\n",
    "                    0], index=[num_cols])\n",
    "imp_num.sort_values(inplace=True)\n",
    "imp_num.plot(kind='barh')"
   ]
  },
  {
   "cell_type": "code",
   "execution_count": null,
   "metadata": {},
   "outputs": [],
   "source": [
    "corr_matrix(df_train[num_cols])"
   ]
  },
  {
   "cell_type": "markdown",
   "metadata": {},
   "source": [
    "Most statistically significant variables are Score_bki, decline_app_cnt.  There is no strong correlations between features. It is confirmed by rank of matrix. The value of determinant is good, there is an inverse matrix."
   ]
  },
  {
   "cell_type": "markdown",
   "metadata": {},
   "source": [
    "<a id=\"sec6.4\"></a>\n",
    "## [Date_Time analysis](#sec6.4)"
   ]
  },
  {
   "cell_type": "code",
   "execution_count": null,
   "metadata": {
    "scrolled": false
   },
   "outputs": [],
   "source": [
    "df_train['app_date'] = pd.to_datetime(\n",
    "    df_train['app_date'])  # Преобразуем в datetime\n",
    "# df_train['weekend'] = df_train['app_date'].apply(\n",
    "#     lambda x: (if_weekend(x)))  # Флаг выходного дня\n",
    "df_train['days_numb'] = df_train['app_date'].apply(\n",
    "    lambda x: (get_days_count(x)))  # Порядковый номер дня в году\n",
    "df_train['days_beetwen'] = df_train['app_date'].apply(\n",
    "    lambda x: (get_days_beetwen(x)\n",
    "               ))  # Кол- во дней между подачей заявки и сегодняшним числом\n",
    "df_train['month'] = df_train['app_date'].apply(lambda x: (month(x)))"
   ]
  },
  {
   "cell_type": "code",
   "execution_count": null,
   "metadata": {},
   "outputs": [],
   "source": [
    "df_train = df_train.drop('app_date', axis=1)  # Удалим столбец app_date"
   ]
  },
  {
   "cell_type": "code",
   "execution_count": null,
   "metadata": {
    "scrolled": true
   },
   "outputs": [],
   "source": [
    "df_train['month'].value_counts()"
   ]
  },
  {
   "cell_type": "markdown",
   "metadata": {},
   "source": [
    "Well, our dataset has only four (4) monts."
   ]
  },
  {
   "cell_type": "markdown",
   "metadata": {},
   "source": [
    "Let's see is there any relationships between target data and dates."
   ]
  },
  {
   "cell_type": "code",
   "execution_count": null,
   "metadata": {},
   "outputs": [],
   "source": [
    "num_cols = num_cols + ['days_beetwen'] + ['days_numb']\n",
    "cat_cols = cat_cols + ['month']"
   ]
  },
  {
   "cell_type": "code",
   "execution_count": null,
   "metadata": {
    "scrolled": false
   },
   "outputs": [],
   "source": [
    "imp_num = pd.Series(f_classif(df_train[num_cols], df_train['default'])[\n",
    "                    0], index=[num_cols])\n",
    "imp_num.sort_values(inplace=True)\n",
    "imp_num.plot(kind='barh')"
   ]
  },
  {
   "cell_type": "markdown",
   "metadata": {},
   "source": [
    "Added feature **days_beetwen** has no significant impact. However it has more than **age**. Keep this feature. "
   ]
  },
  {
   "cell_type": "code",
   "execution_count": null,
   "metadata": {
    "scrolled": true
   },
   "outputs": [],
   "source": [
    "imp_cat = pd.Series(mutual_info_classif(df_train[cat_cols], df_train['default'], \n",
    "                                     discrete_features=True), index=[cat_cols])\n",
    "imp_cat.sort_values(inplace=True)\n",
    "imp_cat.plot(kind='barh')"
   ]
  },
  {
   "cell_type": "code",
   "execution_count": null,
   "metadata": {},
   "outputs": [],
   "source": [
    "corr_matrix(df_train[cat_cols])"
   ]
  },
  {
   "cell_type": "markdown",
   "metadata": {},
   "source": [
    "Feature **Month** has statistic significance. Somehow the month is correlated with work_address"
   ]
  },
  {
   "cell_type": "markdown",
   "metadata": {},
   "source": [
    "Let's see full correlation matrix"
   ]
  },
  {
   "cell_type": "code",
   "execution_count": null,
   "metadata": {},
   "outputs": [],
   "source": [
    "corr_matrix(df_train.drop(['sample'],axis=1),det=False,pltx=20,plty=20)"
   ]
  },
  {
   "cell_type": "markdown",
   "metadata": {},
   "source": [
    "We can see the complete correlation of the **client_id** and **days_num** features (the ordinal number of the day in the year). This indicates a certain system of assigning a customer number. Most likely, these signs will give us anything useful.\n",
    "\n",
    "***car_type*** has correlation with income. It can be explained by assumption that if borrower has more income then he has better car and vice versa.\n",
    "\n",
    "***sna*** has quite strong correlation with ***foreign_passport***"
   ]
  },
  {
   "cell_type": "markdown",
   "metadata": {},
   "source": [
    "<a id=\"sec6.5\"></a>\n",
    "## [Draw a conclusion](#sec6.5)"
   ]
  },
  {
   "cell_type": "markdown",
   "metadata": {},
   "source": [
    "**Binary:**\n",
    "\n",
    " - Car and car_type strongly correlated.\n",
    "\n",
    " - The column car indicates the presence of a car, and in the column car_type the presence of a foreign car. Combine them further\n",
    "\n",
    " - Quantity of male and female default borrowers almost the same. However, female tend to loan money more oftenly.\n",
    "\n",
    "**Category:**\n",
    "\n",
    " - People with low-grade education fail to return loans more often than people with high-grade education.\n",
    "\n",
    " - More relationships of borrower with another clients - more overduie payments. Feature **has no guarantors** can be added to people with high-level education\n",
    "\n",
    " - People with high level of education prefer to live in a region with higher level\n",
    "\n",
    " - The higher rating of the city, the lower chance of default\n",
    "\n",
    " - Correlation between sna and first_time, Home and work addresses.\n",
    " \n",
    "**Numerical:**\n",
    "\n",
    " - score_bki has a distribution close to normal. It is already scaled by STD (most likely)\n",
    " \n",
    " - Data has outliers. Hoiwever it is better to convert some features into a categorical type\n",
    " \n",
    " - There is no strong correlations between features\n",
    " \n",
    " - car_type has correlation with income\n",
    " \n",
    " - sna has quite strong correlation with foreign_passport\n",
    " \n",
    " \n",
    "***Statistically most significant:***\n",
    "\n",
    " - foreign_passport\n",
    "\n",
    " - car_type\n",
    "\n",
    " - sna\n",
    "\n",
    " - first_time\n",
    "\n",
    " - region_rating\n",
    " \n",
    " - Score_bki \n",
    " \n",
    " - decline_app_cnt.\n",
    " \n",
    "As we have lot's of no obvious correlation and connection between features, it is better to use descicion tree models, or logistic regressions.\n"
   ]
  },
  {
   "cell_type": "markdown",
   "metadata": {},
   "source": [
    "<a id=\"sec7\"></a>\n",
    "# [Naive Model](#sec7)"
   ]
  },
  {
   "cell_type": "code",
   "execution_count": null,
   "metadata": {},
   "outputs": [],
   "source": [
    "X = df_train.drop(['default'], axis=1)\n",
    "y = df_train['default']"
   ]
  },
  {
   "cell_type": "code",
   "execution_count": null,
   "metadata": {},
   "outputs": [],
   "source": [
    "X_train, X_test, y_train, y_test = train_test_split(X,\n",
    "                                                    y,\n",
    "                                                    test_size=.2,\n",
    "                                                    random_state=RANDOM_SEED)"
   ]
  },
  {
   "cell_type": "code",
   "execution_count": null,
   "metadata": {
    "scrolled": true
   },
   "outputs": [],
   "source": [
    "classifier = LogisticRegression()\n",
    "classifier.fit(X_train,y_train)"
   ]
  },
  {
   "cell_type": "code",
   "execution_count": null,
   "metadata": {},
   "outputs": [],
   "source": [
    "def make_roc_auc(model,X,y):\n",
    "    fig, (ax1, ax2) = plt.subplots(1, 2, figsize=(13, 5))\n",
    "    plot_precision_recall_curve(model, X, y, ax=ax1)\n",
    "    plot_roc_curve(model, X_test, y_test, ax=ax2);\n",
    "    plt.show()"
   ]
  },
  {
   "cell_type": "code",
   "execution_count": null,
   "metadata": {},
   "outputs": [],
   "source": [
    "y_pred = classifier.predict(X_train)\n",
    "f1_1 = f1_score(y_train,y_pred)\n",
    "print(f1_1)"
   ]
  },
  {
   "cell_type": "code",
   "execution_count": null,
   "metadata": {},
   "outputs": [],
   "source": [
    "cf_matrix = confusion_matrix(y_train,y_pred)"
   ]
  },
  {
   "cell_type": "code",
   "execution_count": null,
   "metadata": {
    "scrolled": true
   },
   "outputs": [],
   "source": [
    "categories = ['Regular guy', 'DEFAULT']\n",
    "make_confusion_matrix1(cf_matrix,categories=categories)\n",
    "make_roc_auc(classifier,X_train,y_train)"
   ]
  },
  {
   "cell_type": "markdown",
   "metadata": {},
   "source": [
    "<a id=\"sec8\"></a>\n",
    "# [Feature Engineering](#sec8)"
   ]
  },
  {
   "cell_type": "markdown",
   "metadata": {},
   "source": [
    "1. Объединить кар и кар тайп\n",
    "\n",
    "2. Сделать градацию возраста. (Label_enc)\n",
    "\n",
    "3. Удалить ИД клиента\n",
    "\n",
    "4. Придумать, что сделать с home address Work_address (PCA?)\n",
    "\n",
    "5. Hot encoding для образования. (One_hot)\n",
    "\n",
    "6. Перевести в категории decline count, bki_request (K-means?)\n",
    "\n",
    "7. Сделать градацию заработка (Label_enc)\n",
    "\n",
    "8. Сделать SVD\n",
    "\n",
    "9. Рейтиенг региона в категрию\n",
    "\n",
    "10. stratifiedKfold или underover sampling\n",
    "\n",
    "9. Жахнуть по Багдаду"
   ]
  },
  {
   "cell_type": "code",
   "execution_count": 20,
   "metadata": {},
   "outputs": [],
   "source": [
    "df = df1.copy()"
   ]
  },
  {
   "cell_type": "markdown",
   "metadata": {},
   "source": [
    "<a id=\"sec8.1\"></a>\n",
    "## [Car_Car_type](#sec8.1)"
   ]
  },
  {
   "cell_type": "code",
   "execution_count": 21,
   "metadata": {},
   "outputs": [],
   "source": [
    "# fill up missing vars\n",
    "missing_vars(df)\n",
    "\n",
    "#Drop client_id\n",
    "df = df.drop(['client_id'],axis=1)\n",
    "\n",
    "# Encode some binary features\n",
    "encoder = Preprocessing(df)\n",
    "for i in list(['car','car_type']):\n",
    "    encoder.label_encoder(i)\n",
    "\n",
    "# reduce size. Combine car and car_type. Encode it.\n",
    "# 0 - Has no car, 1-Has semi-car, 3- has a car\n",
    "df['car_comb'] = df['car'] + df['car_type']\n",
    "df = df.drop(['car','car_type'],axis=1)\n"
   ]
  },
  {
   "cell_type": "code",
   "execution_count": 22,
   "metadata": {},
   "outputs": [
    {
     "data": {
      "text/html": [
       "<div>\n",
       "<style scoped>\n",
       "    .dataframe tbody tr th:only-of-type {\n",
       "        vertical-align: middle;\n",
       "    }\n",
       "\n",
       "    .dataframe tbody tr th {\n",
       "        vertical-align: top;\n",
       "    }\n",
       "\n",
       "    .dataframe thead th {\n",
       "        text-align: right;\n",
       "    }\n",
       "</style>\n",
       "<table border=\"1\" class=\"dataframe\">\n",
       "  <thead>\n",
       "    <tr style=\"text-align: right;\">\n",
       "      <th></th>\n",
       "      <th>app_date</th>\n",
       "      <th>education</th>\n",
       "      <th>sex</th>\n",
       "      <th>age</th>\n",
       "      <th>decline_app_cnt</th>\n",
       "      <th>good_work</th>\n",
       "      <th>score_bki</th>\n",
       "      <th>bki_request_cnt</th>\n",
       "      <th>region_rating</th>\n",
       "      <th>home_address</th>\n",
       "      <th>work_address</th>\n",
       "      <th>income</th>\n",
       "      <th>sna</th>\n",
       "      <th>first_time</th>\n",
       "      <th>foreign_passport</th>\n",
       "      <th>sample</th>\n",
       "      <th>default</th>\n",
       "      <th>car_comb</th>\n",
       "    </tr>\n",
       "  </thead>\n",
       "  <tbody>\n",
       "    <tr>\n",
       "      <th>289</th>\n",
       "      <td>17FEB2014</td>\n",
       "      <td>SCH</td>\n",
       "      <td>M</td>\n",
       "      <td>24</td>\n",
       "      <td>0</td>\n",
       "      <td>0</td>\n",
       "      <td>-1.030202</td>\n",
       "      <td>2</td>\n",
       "      <td>50</td>\n",
       "      <td>3</td>\n",
       "      <td>3</td>\n",
       "      <td>18000</td>\n",
       "      <td>4</td>\n",
       "      <td>1</td>\n",
       "      <td>N</td>\n",
       "      <td>0</td>\n",
       "      <td>NaN</td>\n",
       "      <td>0</td>\n",
       "    </tr>\n",
       "    <tr>\n",
       "      <th>16392</th>\n",
       "      <td>20APR2014</td>\n",
       "      <td>SCH</td>\n",
       "      <td>F</td>\n",
       "      <td>27</td>\n",
       "      <td>0</td>\n",
       "      <td>0</td>\n",
       "      <td>-1.904082</td>\n",
       "      <td>1</td>\n",
       "      <td>40</td>\n",
       "      <td>2</td>\n",
       "      <td>3</td>\n",
       "      <td>50000</td>\n",
       "      <td>4</td>\n",
       "      <td>1</td>\n",
       "      <td>N</td>\n",
       "      <td>0</td>\n",
       "      <td>NaN</td>\n",
       "      <td>1</td>\n",
       "    </tr>\n",
       "    <tr>\n",
       "      <th>37764</th>\n",
       "      <td>04APR2014</td>\n",
       "      <td>GRD</td>\n",
       "      <td>F</td>\n",
       "      <td>48</td>\n",
       "      <td>0</td>\n",
       "      <td>0</td>\n",
       "      <td>-2.859594</td>\n",
       "      <td>0</td>\n",
       "      <td>50</td>\n",
       "      <td>2</td>\n",
       "      <td>3</td>\n",
       "      <td>40000</td>\n",
       "      <td>1</td>\n",
       "      <td>3</td>\n",
       "      <td>N</td>\n",
       "      <td>1</td>\n",
       "      <td>0.0</td>\n",
       "      <td>0</td>\n",
       "    </tr>\n",
       "  </tbody>\n",
       "</table>\n",
       "</div>"
      ],
      "text/plain": [
       "        app_date education sex  age  decline_app_cnt  good_work  score_bki  \\\n",
       "289    17FEB2014       SCH   M   24                0          0  -1.030202   \n",
       "16392  20APR2014       SCH   F   27                0          0  -1.904082   \n",
       "37764  04APR2014       GRD   F   48                0          0  -2.859594   \n",
       "\n",
       "       bki_request_cnt  region_rating  home_address  work_address  income  \\\n",
       "289                  2             50             3             3   18000   \n",
       "16392                1             40             2             3   50000   \n",
       "37764                0             50             2             3   40000   \n",
       "\n",
       "       sna  first_time foreign_passport  sample  default  car_comb  \n",
       "289      4           1                N       0      NaN         0  \n",
       "16392    4           1                N       0      NaN         1  \n",
       "37764    1           3                N       1      0.0         0  "
      ]
     },
     "execution_count": 22,
     "metadata": {},
     "output_type": "execute_result"
    }
   ],
   "source": [
    "df.sample(3)"
   ]
  },
  {
   "cell_type": "markdown",
   "metadata": {},
   "source": [
    "<a id=\"sec8.2\"></a>\n",
    "## [age](#sec8.2)"
   ]
  },
  {
   "cell_type": "code",
   "execution_count": 23,
   "metadata": {},
   "outputs": [],
   "source": [
    "# age\n",
    "# Devide age into categories: young,'semi-man','midle','oldfag'\n",
    "def age_to_cat(age):\n",
    "    if age <= 28:\n",
    "        cat_age = 'young'\n",
    "        return cat_age             \n",
    "    if 28 < age <= 35:\n",
    "        cat_age = 'semi-man'\n",
    "        return cat_age\n",
    "    if 35 < age <= 50:\n",
    "        cat_age = 'midle'\n",
    "        return cat_age\n",
    "    if age > 50:\n",
    "        cat_age = 'oldfag'\n",
    "        return cat_age"
   ]
  },
  {
   "cell_type": "code",
   "execution_count": 24,
   "metadata": {},
   "outputs": [],
   "source": [
    "df['age_cat'] = 0\n",
    "df['age_cat'] = df['age'].apply(lambda x:age_to_cat(x))\n",
    "\n",
    "# # To Logarithm age\n",
    "# df['age'] = df['age'].apply(lambda x: np.log(x+1))"
   ]
  },
  {
   "cell_type": "code",
   "execution_count": 25,
   "metadata": {},
   "outputs": [
    {
     "data": {
      "text/html": [
       "<div>\n",
       "<style scoped>\n",
       "    .dataframe tbody tr th:only-of-type {\n",
       "        vertical-align: middle;\n",
       "    }\n",
       "\n",
       "    .dataframe tbody tr th {\n",
       "        vertical-align: top;\n",
       "    }\n",
       "\n",
       "    .dataframe thead th {\n",
       "        text-align: right;\n",
       "    }\n",
       "</style>\n",
       "<table border=\"1\" class=\"dataframe\">\n",
       "  <thead>\n",
       "    <tr style=\"text-align: right;\">\n",
       "      <th></th>\n",
       "      <th>app_date</th>\n",
       "      <th>education</th>\n",
       "      <th>sex</th>\n",
       "      <th>age</th>\n",
       "      <th>decline_app_cnt</th>\n",
       "      <th>good_work</th>\n",
       "      <th>score_bki</th>\n",
       "      <th>bki_request_cnt</th>\n",
       "      <th>region_rating</th>\n",
       "      <th>home_address</th>\n",
       "      <th>work_address</th>\n",
       "      <th>income</th>\n",
       "      <th>sna</th>\n",
       "      <th>first_time</th>\n",
       "      <th>foreign_passport</th>\n",
       "      <th>sample</th>\n",
       "      <th>default</th>\n",
       "      <th>car_comb</th>\n",
       "      <th>age_cat</th>\n",
       "    </tr>\n",
       "  </thead>\n",
       "  <tbody>\n",
       "    <tr>\n",
       "      <th>83672</th>\n",
       "      <td>04FEB2014</td>\n",
       "      <td>GRD</td>\n",
       "      <td>F</td>\n",
       "      <td>37</td>\n",
       "      <td>0</td>\n",
       "      <td>0</td>\n",
       "      <td>-1.181057</td>\n",
       "      <td>7</td>\n",
       "      <td>50</td>\n",
       "      <td>2</td>\n",
       "      <td>3</td>\n",
       "      <td>20000</td>\n",
       "      <td>1</td>\n",
       "      <td>2</td>\n",
       "      <td>N</td>\n",
       "      <td>1</td>\n",
       "      <td>0.0</td>\n",
       "      <td>0</td>\n",
       "      <td>midle</td>\n",
       "    </tr>\n",
       "    <tr>\n",
       "      <th>43343</th>\n",
       "      <td>25FEB2014</td>\n",
       "      <td>GRD</td>\n",
       "      <td>F</td>\n",
       "      <td>38</td>\n",
       "      <td>0</td>\n",
       "      <td>0</td>\n",
       "      <td>-1.742211</td>\n",
       "      <td>2</td>\n",
       "      <td>60</td>\n",
       "      <td>1</td>\n",
       "      <td>2</td>\n",
       "      <td>50000</td>\n",
       "      <td>1</td>\n",
       "      <td>3</td>\n",
       "      <td>Y</td>\n",
       "      <td>1</td>\n",
       "      <td>0.0</td>\n",
       "      <td>2</td>\n",
       "      <td>midle</td>\n",
       "    </tr>\n",
       "    <tr>\n",
       "      <th>43038</th>\n",
       "      <td>20JAN2014</td>\n",
       "      <td>GRD</td>\n",
       "      <td>F</td>\n",
       "      <td>61</td>\n",
       "      <td>0</td>\n",
       "      <td>0</td>\n",
       "      <td>-0.643536</td>\n",
       "      <td>0</td>\n",
       "      <td>80</td>\n",
       "      <td>2</td>\n",
       "      <td>3</td>\n",
       "      <td>14000</td>\n",
       "      <td>3</td>\n",
       "      <td>1</td>\n",
       "      <td>N</td>\n",
       "      <td>1</td>\n",
       "      <td>0.0</td>\n",
       "      <td>0</td>\n",
       "      <td>oldfag</td>\n",
       "    </tr>\n",
       "  </tbody>\n",
       "</table>\n",
       "</div>"
      ],
      "text/plain": [
       "        app_date education sex  age  decline_app_cnt  good_work  score_bki  \\\n",
       "83672  04FEB2014       GRD   F   37                0          0  -1.181057   \n",
       "43343  25FEB2014       GRD   F   38                0          0  -1.742211   \n",
       "43038  20JAN2014       GRD   F   61                0          0  -0.643536   \n",
       "\n",
       "       bki_request_cnt  region_rating  home_address  work_address  income  \\\n",
       "83672                7             50             2             3   20000   \n",
       "43343                2             60             1             2   50000   \n",
       "43038                0             80             2             3   14000   \n",
       "\n",
       "       sna  first_time foreign_passport  sample  default  car_comb age_cat  \n",
       "83672    1           2                N       1      0.0         0   midle  \n",
       "43343    1           3                Y       1      0.0         2   midle  \n",
       "43038    3           1                N       1      0.0         0  oldfag  "
      ]
     },
     "execution_count": 25,
     "metadata": {},
     "output_type": "execute_result"
    }
   ],
   "source": [
    "df.sample(3)"
   ]
  },
  {
   "cell_type": "code",
   "execution_count": 26,
   "metadata": {
    "scrolled": true
   },
   "outputs": [
    {
     "data": {
      "text/plain": [
       "midle       38960\n",
       "semi-man    26265\n",
       "young       22823\n",
       "oldfag      22100\n",
       "Name: age_cat, dtype: int64"
      ]
     },
     "execution_count": 26,
     "metadata": {},
     "output_type": "execute_result"
    },
    {
     "data": {
      "image/png": "[encoded data removed]",
      "text/plain": [
       "<Figure size 432x288 with 1 Axes>"
      ]
     },
     "metadata": {
      "needs_background": "dark"
     },
     "output_type": "display_data"
    }
   ],
   "source": [
    "sns.countplot(df['age_cat'],palette=colors)\n",
    "df['age_cat'].value_counts()"
   ]
  },
  {
   "cell_type": "markdown",
   "metadata": {},
   "source": [
    "Well, we can see that our dataset has more people with middle age. However, there is nothing strange"
   ]
  },
  {
   "cell_type": "markdown",
   "metadata": {},
   "source": [
    "<a id=\"sec8.3\"></a>\n",
    "## [Numerical to category](#sec8.3)"
   ]
  },
  {
   "cell_type": "markdown",
   "metadata": {},
   "source": [
    "Sort **decline_app_cnt** by groups:\n",
    "1. 0\n",
    "\n",
    "2. 1\n",
    "\n",
    "3. 2\n",
    "\n",
    "4. More or equal 4"
   ]
  },
  {
   "cell_type": "code",
   "execution_count": 27,
   "metadata": {},
   "outputs": [],
   "source": [
    "df['decline_cat'] = df['decline_app_cnt'].apply(lambda x: 4 if x >= 4 else x)\n",
    "# df['bki_request_cat'] = df['bki_request_cnt'].apply(lambda x: 4 if x >= 4 else x) # option 1"
   ]
  },
  {
   "cell_type": "code",
   "execution_count": 29,
   "metadata": {},
   "outputs": [],
   "source": [
    "# OPTION TWO. Create a cluster \n",
    "X = df[['bki_request_cnt','income','age']].values  # попробовать разные сочетания\n",
    "from sklearn.preprocessing import StandardScaler\n",
    "X = StandardScaler().fit_transform(X)"
   ]
  },
  {
   "cell_type": "code",
   "execution_count": 30,
   "metadata": {},
   "outputs": [],
   "source": [
    "from sklearn.cluster import KMeans\n",
    "clusterNum = 7 # old val 7\n",
    "k_means = KMeans(init='k-means++',n_clusters=clusterNum,n_init=15)\n",
    "k_means.fit(X)\n",
    "labels = k_means.labels_"
   ]
  },
  {
   "cell_type": "code",
   "execution_count": 31,
   "metadata": {},
   "outputs": [],
   "source": [
    "df['clus_bki_req'] = labels"
   ]
  },
  {
   "cell_type": "code",
   "execution_count": 32,
   "metadata": {},
   "outputs": [
    {
     "data": {
      "image/png": "[encoded data removed]",
      "text/plain": [
       "<Figure size 576x432 with 1 Axes>"
      ]
     },
     "metadata": {
      "needs_background": "dark"
     },
     "output_type": "display_data"
    }
   ],
   "source": [
    "from mpl_toolkits.mplot3d import Axes3D\n",
    "fig = plt.figure(1,figsize=(8,6))\n",
    "plt.clf()\n",
    "ax = Axes3D(fig,rect=[0,0,.95,1], elev = 48, azim=134)\n",
    "\n",
    "ax.set_xlabel('bki_request_cnt')\n",
    "ax.set_ylabel('income')\n",
    "ax.set_zlabel('age')\n",
    "\n",
    "ax.scatter(X[:, 1], X[:, 0], X[:, 2],c=labels.astype(np.float))\n",
    "plt.show()"
   ]
  },
  {
   "cell_type": "markdown",
   "metadata": {},
   "source": [
    "As we can see, we created 3 clusters depends on age, income and bki_request "
   ]
  },
  {
   "cell_type": "markdown",
   "metadata": {},
   "source": [
    "<a id=\"sec8.3\"></a>\n",
    "## [Home and work address](#sec8.3)"
   ]
  },
  {
   "cell_type": "code",
   "execution_count": null,
   "metadata": {},
   "outputs": [],
   "source": [
    "# Option 1. Drop one of them.\n",
    "#df = df.drop('work_address',axis=1)"
   ]
  },
  {
   "cell_type": "code",
   "execution_count": 33,
   "metadata": {
    "scrolled": true
   },
   "outputs": [],
   "source": [
    "#Option 2. Use PCA\n",
    "from sklearn.decomposition import PCA\n",
    "from sklearn.preprocessing import StandardScaler\n",
    "data = df[['work_address','home_address']].values\n",
    "scaler = StandardScaler()\n",
    "\n",
    "scaled_data = scaler.fit_transform(data)\n",
    "pca = PCA(n_components=1)\n",
    "pca.fit(scaled_data)\n",
    "pca_data = pca.transform(scaled_data)\n",
    "df['pca_address'] = pca_data"
   ]
  },
  {
   "cell_type": "markdown",
   "metadata": {},
   "source": [
    "<a id=\"sec8.4\"></a>\n",
    "## [Date_time Features](#sec8.4)"
   ]
  },
  {
   "cell_type": "code",
   "execution_count": 34,
   "metadata": {},
   "outputs": [],
   "source": [
    "df['app_date'] = pd.to_datetime(\n",
    "    df['app_date'])  # Преобразуем в datetime\n",
    "\n",
    "df['days_beetwen'] = df['app_date'].apply(\n",
    "    lambda x: (get_days_beetwen(x)\n",
    "               ))  # Кол- во дней между подачей заявки и сегодняшним числом\n",
    "df['month'] = df['app_date'].apply(lambda x: (month(x)))"
   ]
  },
  {
   "cell_type": "markdown",
   "metadata": {},
   "source": [
    "<a id=\"sec8.5\"></a>\n",
    "## [Guarantors](#sec8.5)"
   ]
  },
  {
   "cell_type": "code",
   "execution_count": 35,
   "metadata": {},
   "outputs": [],
   "source": [
    "# with a reference to EDA add new feature - has no guarantors\n",
    "def has_no_garant(edu, grnt):\n",
    "    if edu == 'PGR' or edu == 'ACD':\n",
    "        grnt = 1\n",
    "        return grnt\n",
    "    else:\n",
    "        grnt = 0\n",
    "        return grnt\n",
    "\n",
    "\n",
    "df['has_no_guarantor'] = 0\n",
    "df['has_no_guarantor'] = df[['education', 'has_no_guarantor']].apply(\n",
    "    lambda x: has_no_garant(*x), axis=1)"
   ]
  },
  {
   "cell_type": "code",
   "execution_count": 36,
   "metadata": {
    "scrolled": false
   },
   "outputs": [
    {
     "data": {
      "text/html": [
       "<div>\n",
       "<style scoped>\n",
       "    .dataframe tbody tr th:only-of-type {\n",
       "        vertical-align: middle;\n",
       "    }\n",
       "\n",
       "    .dataframe tbody tr th {\n",
       "        vertical-align: top;\n",
       "    }\n",
       "\n",
       "    .dataframe thead th {\n",
       "        text-align: right;\n",
       "    }\n",
       "</style>\n",
       "<table border=\"1\" class=\"dataframe\">\n",
       "  <thead>\n",
       "    <tr style=\"text-align: right;\">\n",
       "      <th></th>\n",
       "      <th>app_date</th>\n",
       "      <th>education</th>\n",
       "      <th>sex</th>\n",
       "      <th>age</th>\n",
       "      <th>decline_app_cnt</th>\n",
       "      <th>good_work</th>\n",
       "      <th>score_bki</th>\n",
       "      <th>bki_request_cnt</th>\n",
       "      <th>region_rating</th>\n",
       "      <th>home_address</th>\n",
       "      <th>...</th>\n",
       "      <th>sample</th>\n",
       "      <th>default</th>\n",
       "      <th>car_comb</th>\n",
       "      <th>age_cat</th>\n",
       "      <th>decline_cat</th>\n",
       "      <th>clus_bki_req</th>\n",
       "      <th>pca_address</th>\n",
       "      <th>days_beetwen</th>\n",
       "      <th>month</th>\n",
       "      <th>has_no_guarantor</th>\n",
       "    </tr>\n",
       "  </thead>\n",
       "  <tbody>\n",
       "    <tr>\n",
       "      <th>108355</th>\n",
       "      <td>2014-02-11</td>\n",
       "      <td>SCH</td>\n",
       "      <td>F</td>\n",
       "      <td>36</td>\n",
       "      <td>0</td>\n",
       "      <td>0</td>\n",
       "      <td>-1.860146</td>\n",
       "      <td>3</td>\n",
       "      <td>50</td>\n",
       "      <td>2</td>\n",
       "      <td>...</td>\n",
       "      <td>1</td>\n",
       "      <td>0.0</td>\n",
       "      <td>0</td>\n",
       "      <td>midle</td>\n",
       "      <td>0</td>\n",
       "      <td>1</td>\n",
       "      <td>1.086059</td>\n",
       "      <td>2617</td>\n",
       "      <td>2</td>\n",
       "      <td>0</td>\n",
       "    </tr>\n",
       "    <tr>\n",
       "      <th>26297</th>\n",
       "      <td>2014-03-20</td>\n",
       "      <td>GRD</td>\n",
       "      <td>F</td>\n",
       "      <td>47</td>\n",
       "      <td>0</td>\n",
       "      <td>0</td>\n",
       "      <td>-1.699824</td>\n",
       "      <td>0</td>\n",
       "      <td>80</td>\n",
       "      <td>2</td>\n",
       "      <td>...</td>\n",
       "      <td>0</td>\n",
       "      <td>NaN</td>\n",
       "      <td>0</td>\n",
       "      <td>midle</td>\n",
       "      <td>0</td>\n",
       "      <td>6</td>\n",
       "      <td>1.086059</td>\n",
       "      <td>2580</td>\n",
       "      <td>3</td>\n",
       "      <td>0</td>\n",
       "    </tr>\n",
       "    <tr>\n",
       "      <th>20180</th>\n",
       "      <td>2014-01-15</td>\n",
       "      <td>UGR</td>\n",
       "      <td>F</td>\n",
       "      <td>24</td>\n",
       "      <td>0</td>\n",
       "      <td>0</td>\n",
       "      <td>-2.334005</td>\n",
       "      <td>3</td>\n",
       "      <td>50</td>\n",
       "      <td>1</td>\n",
       "      <td>...</td>\n",
       "      <td>0</td>\n",
       "      <td>NaN</td>\n",
       "      <td>0</td>\n",
       "      <td>young</td>\n",
       "      <td>0</td>\n",
       "      <td>0</td>\n",
       "      <td>-1.282573</td>\n",
       "      <td>2644</td>\n",
       "      <td>1</td>\n",
       "      <td>0</td>\n",
       "    </tr>\n",
       "  </tbody>\n",
       "</table>\n",
       "<p>3 rows × 25 columns</p>\n",
       "</div>"
      ],
      "text/plain": [
       "         app_date education sex  age  decline_app_cnt  good_work  score_bki  \\\n",
       "108355 2014-02-11       SCH   F   36                0          0  -1.860146   \n",
       "26297  2014-03-20       GRD   F   47                0          0  -1.699824   \n",
       "20180  2014-01-15       UGR   F   24                0          0  -2.334005   \n",
       "\n",
       "        bki_request_cnt  region_rating  home_address  ...  sample  default  \\\n",
       "108355                3             50             2  ...       1      0.0   \n",
       "26297                 0             80             2  ...       0      NaN   \n",
       "20180                 3             50             1  ...       0      NaN   \n",
       "\n",
       "        car_comb  age_cat decline_cat  clus_bki_req  pca_address  \\\n",
       "108355         0    midle           0             1     1.086059   \n",
       "26297          0    midle           0             6     1.086059   \n",
       "20180          0    young           0             0    -1.282573   \n",
       "\n",
       "        days_beetwen month  has_no_guarantor  \n",
       "108355          2617     2                 0  \n",
       "26297           2580     3                 0  \n",
       "20180           2644     1                 0  \n",
       "\n",
       "[3 rows x 25 columns]"
      ]
     },
     "execution_count": 36,
     "metadata": {},
     "output_type": "execute_result"
    }
   ],
   "source": [
    "df.sample(3)"
   ]
  },
  {
   "cell_type": "code",
   "execution_count": 37,
   "metadata": {},
   "outputs": [
    {
     "ename": "NameError",
     "evalue": "name 'df_ansam' is not defined",
     "output_type": "error",
     "traceback": [
      "\u001b[1;31m---------------------------------------------------------------------------\u001b[0m",
      "\u001b[1;31mNameError\u001b[0m                                 Traceback (most recent call last)",
      "\u001b[1;32m<ipython-input-37-6fca1f3fa8cd>\u001b[0m in \u001b[0;36m<module>\u001b[1;34m\u001b[0m\n\u001b[1;32m----> 1\u001b[1;33m \u001b[0mdf_ansam\u001b[0m\u001b[1;33m.\u001b[0m\u001b[0mcolumns\u001b[0m\u001b[1;33m\u001b[0m\u001b[1;33m\u001b[0m\u001b[0m\n\u001b[0m",
      "\u001b[1;31mNameError\u001b[0m: name 'df_ansam' is not defined"
     ]
    }
   ],
   "source": [
    "df_ansam.columns"
   ]
  },
  {
   "cell_type": "code",
   "execution_count": 38,
   "metadata": {
    "scrolled": true
   },
   "outputs": [],
   "source": [
    "df_ansam = df.copy()\n",
    "to_categ = ['good_work','region_rating','sna',\n",
    "            'good_work','first_time','car_comb',\n",
    "           'clus_bki_req','month','decline_cat']\n",
    "for col in to_categ:\n",
    "    df_ansam[col] = df_ansam[col].astype('category')"
   ]
  },
  {
   "cell_type": "code",
   "execution_count": null,
   "metadata": {},
   "outputs": [],
   "source": []
  },
  {
   "cell_type": "markdown",
   "metadata": {},
   "source": [
    "<a id=\"sec8.7\"></a>\n",
    "## [ENCODING](#sec8.7)"
   ]
  },
  {
   "cell_type": "code",
   "execution_count": 39,
   "metadata": {},
   "outputs": [],
   "source": [
    "encoder = Preprocessing(df)"
   ]
  },
  {
   "cell_type": "code",
   "execution_count": 40,
   "metadata": {},
   "outputs": [],
   "source": [
    "# label Encoder\n",
    "for i in list(['sex','foreign_passport','good_work']): #has nogarantore\n",
    "    encoder.label_encoder(i)"
   ]
  },
  {
   "cell_type": "code",
   "execution_count": 41,
   "metadata": {},
   "outputs": [],
   "source": [
    "cols_to_hot = ['education','region_rating',\n",
    "               'sna','first_time','car_comb',\n",
    "               'age_cat','decline_cat','clus_bki_req',\n",
    "              'month'] # month\n",
    "for col in cols_to_hot:\n",
    "    df = encoder.hot_enc(col)"
   ]
  },
  {
   "cell_type": "markdown",
   "metadata": {},
   "source": [
    "<a id=\"sec8.7\"></a>\n",
    "## [Dropping Cols](#sec8.7)"
   ]
  },
  {
   "cell_type": "code",
   "execution_count": 42,
   "metadata": {},
   "outputs": [],
   "source": [
    "cols_to_drop = ['decline_app_cnt', 'bki_request_cnt',\n",
    "                'work_address', 'home_address','app_date','age'] # AGE\n",
    "df = df.drop(cols_to_drop, axis=1)\n",
    "\n",
    "df_ansam = df_ansam.drop(cols_to_drop, axis=1)"
   ]
  },
  {
   "cell_type": "code",
   "execution_count": null,
   "metadata": {},
   "outputs": [],
   "source": []
  },
  {
   "cell_type": "markdown",
   "metadata": {},
   "source": [
    "<a id=\"sec8.3\"></a>\n",
    "## [LOG FUNC](#sec8.3)"
   ]
  },
  {
   "cell_type": "code",
   "execution_count": 43,
   "metadata": {},
   "outputs": [],
   "source": [
    "df['pca_address'] = df['pca_address'] + 5\n",
    "cols_to_log = ['income','days_beetwen','pca_address'] # 'pca_address' 'age'\n",
    "\n",
    "df_ansam['pca_address'] = df_ansam['pca_address'] + 5"
   ]
  },
  {
   "cell_type": "code",
   "execution_count": 44,
   "metadata": {},
   "outputs": [],
   "source": [
    "for col in cols_to_log:\n",
    "    df[col] = df[col].apply(lambda x: np.log(x) +1)\n",
    "    \n",
    "for col in cols_to_log:\n",
    "    df_ansam[col] = df_ansam[col].apply(lambda x: np.log(x) +1)"
   ]
  },
  {
   "cell_type": "code",
   "execution_count": 45,
   "metadata": {},
   "outputs": [
    {
     "data": {
      "text/html": [
       "<div>\n",
       "<style scoped>\n",
       "    .dataframe tbody tr th:only-of-type {\n",
       "        vertical-align: middle;\n",
       "    }\n",
       "\n",
       "    .dataframe tbody tr th {\n",
       "        vertical-align: top;\n",
       "    }\n",
       "\n",
       "    .dataframe thead th {\n",
       "        text-align: right;\n",
       "    }\n",
       "</style>\n",
       "<table border=\"1\" class=\"dataframe\">\n",
       "  <thead>\n",
       "    <tr style=\"text-align: right;\">\n",
       "      <th></th>\n",
       "      <th>sex</th>\n",
       "      <th>good_work</th>\n",
       "      <th>score_bki</th>\n",
       "      <th>income</th>\n",
       "      <th>foreign_passport</th>\n",
       "      <th>sample</th>\n",
       "      <th>default</th>\n",
       "      <th>pca_address</th>\n",
       "      <th>days_beetwen</th>\n",
       "      <th>has_no_guarantor</th>\n",
       "      <th>...</th>\n",
       "      <th>hot_encode_1</th>\n",
       "      <th>hot_encode_2</th>\n",
       "      <th>hot_encode_3</th>\n",
       "      <th>hot_encode_4</th>\n",
       "      <th>hot_encode_5</th>\n",
       "      <th>hot_encode_6</th>\n",
       "      <th>hot_encode_1</th>\n",
       "      <th>hot_encode_2</th>\n",
       "      <th>hot_encode_3</th>\n",
       "      <th>hot_encode_4</th>\n",
       "    </tr>\n",
       "  </thead>\n",
       "  <tbody>\n",
       "    <tr>\n",
       "      <th>102789</th>\n",
       "      <td>0</td>\n",
       "      <td>0</td>\n",
       "      <td>-1.992069</td>\n",
       "      <td>11.308953</td>\n",
       "      <td>0</td>\n",
       "      <td>1</td>\n",
       "      <td>1.0</td>\n",
       "      <td>2.806001</td>\n",
       "      <td>8.864804</td>\n",
       "      <td>0</td>\n",
       "      <td>...</td>\n",
       "      <td>0.0</td>\n",
       "      <td>0.0</td>\n",
       "      <td>0.0</td>\n",
       "      <td>0.0</td>\n",
       "      <td>0.0</td>\n",
       "      <td>0.0</td>\n",
       "      <td>0.0</td>\n",
       "      <td>1.0</td>\n",
       "      <td>0.0</td>\n",
       "      <td>0.0</td>\n",
       "    </tr>\n",
       "    <tr>\n",
       "      <th>88035</th>\n",
       "      <td>1</td>\n",
       "      <td>0</td>\n",
       "      <td>-2.567662</td>\n",
       "      <td>10.998798</td>\n",
       "      <td>0</td>\n",
       "      <td>1</td>\n",
       "      <td>0.0</td>\n",
       "      <td>2.806001</td>\n",
       "      <td>8.841100</td>\n",
       "      <td>0</td>\n",
       "      <td>...</td>\n",
       "      <td>0.0</td>\n",
       "      <td>0.0</td>\n",
       "      <td>0.0</td>\n",
       "      <td>0.0</td>\n",
       "      <td>0.0</td>\n",
       "      <td>0.0</td>\n",
       "      <td>0.0</td>\n",
       "      <td>0.0</td>\n",
       "      <td>0.0</td>\n",
       "      <td>1.0</td>\n",
       "    </tr>\n",
       "    <tr>\n",
       "      <th>87804</th>\n",
       "      <td>1</td>\n",
       "      <td>0</td>\n",
       "      <td>-1.738156</td>\n",
       "      <td>11.463103</td>\n",
       "      <td>0</td>\n",
       "      <td>1</td>\n",
       "      <td>0.0</td>\n",
       "      <td>2.806001</td>\n",
       "      <td>8.844633</td>\n",
       "      <td>0</td>\n",
       "      <td>...</td>\n",
       "      <td>1.0</td>\n",
       "      <td>0.0</td>\n",
       "      <td>0.0</td>\n",
       "      <td>0.0</td>\n",
       "      <td>0.0</td>\n",
       "      <td>0.0</td>\n",
       "      <td>0.0</td>\n",
       "      <td>0.0</td>\n",
       "      <td>0.0</td>\n",
       "      <td>1.0</td>\n",
       "    </tr>\n",
       "  </tbody>\n",
       "</table>\n",
       "<p>3 rows × 53 columns</p>\n",
       "</div>"
      ],
      "text/plain": [
       "        sex  good_work  score_bki     income  foreign_passport  sample  \\\n",
       "102789    0          0  -1.992069  11.308953                 0       1   \n",
       "88035     1          0  -2.567662  10.998798                 0       1   \n",
       "87804     1          0  -1.738156  11.463103                 0       1   \n",
       "\n",
       "        default  pca_address  days_beetwen  has_no_guarantor  ...  \\\n",
       "102789      1.0     2.806001      8.864804                 0  ...   \n",
       "88035       0.0     2.806001      8.841100                 0  ...   \n",
       "87804       0.0     2.806001      8.844633                 0  ...   \n",
       "\n",
       "        hot_encode_1  hot_encode_2  hot_encode_3  hot_encode_4  hot_encode_5  \\\n",
       "102789           0.0           0.0           0.0           0.0           0.0   \n",
       "88035            0.0           0.0           0.0           0.0           0.0   \n",
       "87804            1.0           0.0           0.0           0.0           0.0   \n",
       "\n",
       "        hot_encode_6  hot_encode_1  hot_encode_2  hot_encode_3  hot_encode_4  \n",
       "102789           0.0           0.0           1.0           0.0           0.0  \n",
       "88035            0.0           0.0           0.0           0.0           1.0  \n",
       "87804            0.0           0.0           0.0           0.0           1.0  \n",
       "\n",
       "[3 rows x 53 columns]"
      ]
     },
     "execution_count": 45,
     "metadata": {},
     "output_type": "execute_result"
    }
   ],
   "source": [
    "df.sample(3)"
   ]
  },
  {
   "cell_type": "code",
   "execution_count": 46,
   "metadata": {},
   "outputs": [
    {
     "data": {
      "text/html": [
       "<div>\n",
       "<style scoped>\n",
       "    .dataframe tbody tr th:only-of-type {\n",
       "        vertical-align: middle;\n",
       "    }\n",
       "\n",
       "    .dataframe tbody tr th {\n",
       "        vertical-align: top;\n",
       "    }\n",
       "\n",
       "    .dataframe thead th {\n",
       "        text-align: right;\n",
       "    }\n",
       "</style>\n",
       "<table border=\"1\" class=\"dataframe\">\n",
       "  <thead>\n",
       "    <tr style=\"text-align: right;\">\n",
       "      <th></th>\n",
       "      <th>education</th>\n",
       "      <th>sex</th>\n",
       "      <th>good_work</th>\n",
       "      <th>score_bki</th>\n",
       "      <th>region_rating</th>\n",
       "      <th>income</th>\n",
       "      <th>sna</th>\n",
       "      <th>first_time</th>\n",
       "      <th>foreign_passport</th>\n",
       "      <th>sample</th>\n",
       "      <th>default</th>\n",
       "      <th>car_comb</th>\n",
       "      <th>age_cat</th>\n",
       "      <th>decline_cat</th>\n",
       "      <th>clus_bki_req</th>\n",
       "      <th>pca_address</th>\n",
       "      <th>days_beetwen</th>\n",
       "      <th>month</th>\n",
       "      <th>has_no_guarantor</th>\n",
       "    </tr>\n",
       "  </thead>\n",
       "  <tbody>\n",
       "    <tr>\n",
       "      <th>24856</th>\n",
       "      <td>UGR</td>\n",
       "      <td>F</td>\n",
       "      <td>0</td>\n",
       "      <td>-2.122389</td>\n",
       "      <td>70</td>\n",
       "      <td>12.082143</td>\n",
       "      <td>1</td>\n",
       "      <td>3</td>\n",
       "      <td>Y</td>\n",
       "      <td>0</td>\n",
       "      <td>NaN</td>\n",
       "      <td>1</td>\n",
       "      <td>midle</td>\n",
       "      <td>0</td>\n",
       "      <td>6</td>\n",
       "      <td>2.806001</td>\n",
       "      <td>8.869784</td>\n",
       "      <td>2</td>\n",
       "      <td>0</td>\n",
       "    </tr>\n",
       "    <tr>\n",
       "      <th>10090</th>\n",
       "      <td>SCH</td>\n",
       "      <td>M</td>\n",
       "      <td>1</td>\n",
       "      <td>-2.194528</td>\n",
       "      <td>60</td>\n",
       "      <td>11.819778</td>\n",
       "      <td>4</td>\n",
       "      <td>2</td>\n",
       "      <td>N</td>\n",
       "      <td>0</td>\n",
       "      <td>NaN</td>\n",
       "      <td>2</td>\n",
       "      <td>midle</td>\n",
       "      <td>0</td>\n",
       "      <td>1</td>\n",
       "      <td>2.313032</td>\n",
       "      <td>8.875119</td>\n",
       "      <td>1</td>\n",
       "      <td>0</td>\n",
       "    </tr>\n",
       "    <tr>\n",
       "      <th>43183</th>\n",
       "      <td>GRD</td>\n",
       "      <td>F</td>\n",
       "      <td>0</td>\n",
       "      <td>-2.279091</td>\n",
       "      <td>50</td>\n",
       "      <td>11.819778</td>\n",
       "      <td>1</td>\n",
       "      <td>4</td>\n",
       "      <td>N</td>\n",
       "      <td>1</td>\n",
       "      <td>0.0</td>\n",
       "      <td>0</td>\n",
       "      <td>midle</td>\n",
       "      <td>0</td>\n",
       "      <td>1</td>\n",
       "      <td>1.989217</td>\n",
       "      <td>8.860956</td>\n",
       "      <td>3</td>\n",
       "      <td>0</td>\n",
       "    </tr>\n",
       "  </tbody>\n",
       "</table>\n",
       "</div>"
      ],
      "text/plain": [
       "      education sex good_work  score_bki region_rating     income sna  \\\n",
       "24856       UGR   F         0  -2.122389            70  12.082143   1   \n",
       "10090       SCH   M         1  -2.194528            60  11.819778   4   \n",
       "43183       GRD   F         0  -2.279091            50  11.819778   1   \n",
       "\n",
       "      first_time foreign_passport  sample  default car_comb age_cat  \\\n",
       "24856          3                Y       0      NaN        1   midle   \n",
       "10090          2                N       0      NaN        2   midle   \n",
       "43183          4                N       1      0.0        0   midle   \n",
       "\n",
       "      decline_cat clus_bki_req  pca_address  days_beetwen month  \\\n",
       "24856           0            6     2.806001      8.869784     2   \n",
       "10090           0            1     2.313032      8.875119     1   \n",
       "43183           0            1     1.989217      8.860956     3   \n",
       "\n",
       "       has_no_guarantor  \n",
       "24856                 0  \n",
       "10090                 0  \n",
       "43183                 0  "
      ]
     },
     "execution_count": 46,
     "metadata": {},
     "output_type": "execute_result"
    }
   ],
   "source": [
    "df_ansam.sample(3)"
   ]
  },
  {
   "cell_type": "code",
   "execution_count": null,
   "metadata": {},
   "outputs": [],
   "source": []
  },
  {
   "cell_type": "markdown",
   "metadata": {},
   "source": [
    "<a id=\"sec9\"></a>\n",
    "# [Model](#sec9)"
   ]
  },
  {
   "cell_type": "markdown",
   "metadata": {},
   "source": [
    "<a id=\"sec9.1\"></a>\n",
    "## [LOG REGRESSION (naive)](#sec9.1)"
   ]
  },
  {
   "cell_type": "code",
   "execution_count": 84,
   "metadata": {},
   "outputs": [],
   "source": [
    "# Extract the part of dataframe for testing\n",
    "df_train = df.query('sample == 1').drop(['sample'], axis=1)\n",
    "df_valid = df.query('sample == 0').drop(['sample'], axis=1)\n",
    "\n",
    "X = df_train.drop(['default'], axis=1)\n",
    "X_val = df_valid.drop(['default'], axis=1)\n",
    "y = df_train.default.values"
   ]
  },
  {
   "cell_type": "code",
   "execution_count": 85,
   "metadata": {},
   "outputs": [],
   "source": [
    "X_train, X_test, y_train, y_test = train_test_split(\n",
    "    X, y, test_size=.2, random_state=RANDOM_SEED)"
   ]
  },
  {
   "cell_type": "code",
   "execution_count": 86,
   "metadata": {},
   "outputs": [],
   "source": [
    "scaler = RobustScaler()\n",
    "X_train = scaler.fit_transform(X_train)\n",
    "X_test = scaler.transform(X_test)\n",
    "X_val = scaler.transform(X_val)"
   ]
  },
  {
   "cell_type": "code",
   "execution_count": null,
   "metadata": {},
   "outputs": [],
   "source": [
    "# pipe_line_lr = Pipeline(steps=[('scaling', RobustScaler()),\n",
    "#                                ('Logregression',LogisticRegression())])\n",
    "# model = pipe_line_lr.fit(X_train,y_train)\n",
    "# # y_pred_proba = model.predict_proba(X_test)[:,1]\n",
    "# y_pred = model.predict(X_test)\n",
    "# print(classification_report(y_test,y_pred))\n",
    "# cf_matrix = confusion_matrix(y_test,y_pred)"
   ]
  },
  {
   "cell_type": "code",
   "execution_count": 87,
   "metadata": {},
   "outputs": [],
   "source": [
    "lr = LogisticRegression()\n",
    "lr.fit(X_train, y_train)\n",
    "y_pred_proba = lr.predict_proba(X_test)[:, 1]\n",
    "y_pred = lr.predict(X_test)\n",
    "cf_matrix = confusion_matrix(y_test,y_pred)"
   ]
  },
  {
   "cell_type": "code",
   "execution_count": 88,
   "metadata": {
    "scrolled": true
   },
   "outputs": [
    {
     "data": {
      "image/png": "[encoded data removed]",
      "text/plain": [
       "<Figure size 360x360 with 2 Axes>"
      ]
     },
     "metadata": {
      "needs_background": "dark"
     },
     "output_type": "display_data"
    },
    {
     "data": {
      "image/png": "[encoded data removed]",
      "text/plain": [
       "<Figure size 936x360 with 2 Axes>"
      ]
     },
     "metadata": {
      "needs_background": "dark"
     },
     "output_type": "display_data"
    },
    {
     "name": "stdout",
     "output_type": "stream",
     "text": [
      "              precision    recall  f1-score   support\n",
      "\n",
      "         0.0       0.88      1.00      0.93     12933\n",
      "         1.0       0.40      0.02      0.04      1827\n",
      "\n",
      "    accuracy                           0.88     14760\n",
      "   macro avg       0.64      0.51      0.49     14760\n",
      "weighted avg       0.82      0.88      0.82     14760\n",
      "\n"
     ]
    }
   ],
   "source": [
    "categories = ['Regular guy', 'DEFAULT']\n",
    "make_confusion_matrix(cf_matrix,categories=categories,sum_stats=True)\n",
    "make_roc_auc(lr,X_test,y_test)\n",
    "print(classification_report(y_test,y_pred))"
   ]
  },
  {
   "cell_type": "markdown",
   "metadata": {},
   "source": [
    "As ROC-AUC is not good to apply when classed disballanced, let's check precision-Recall\n",
    "\n",
    "True-positive - Is correctly classified as default client\n",
    "\n",
    "False positive - Not default clients incorrectly classified as default\n",
    "\n",
    "False Negative - Default clients incorectly classified as not default(regular guy)\n",
    "\n",
    "As our main target is to identify positive class ( Default Client), then we need to look at sensitivity metric (recall). In other words, check the proportion of default clients were correctly classified\n",
    "\n",
    "PR-REC AUC is very low (0.28),f1_score also extreamely low(0.01) which means that the algorithm is not yet able to distinguish between classes in any way, most of all it assigns class 0 (Not Default) to objects, we will try to choose the best parameters, and also we will make a stratification, which is often used when class disbalanced"
   ]
  },
  {
   "cell_type": "markdown",
   "metadata": {},
   "source": [
    "Let's create a table with our results for further comparisons"
   ]
  },
  {
   "cell_type": "code",
   "execution_count": 89,
   "metadata": {},
   "outputs": [],
   "source": [
    "df_report = pd.DataFrame(data=None)\n",
    "df_report = get_scores(df_report, lr, X_test,\n",
    "                       y_test, 'LogisticRegression')"
   ]
  },
  {
   "cell_type": "code",
   "execution_count": null,
   "metadata": {},
   "outputs": [],
   "source": [
    "# df_report = pd.DataFrame(columns={'ROC-AUC'}, data=[0])\n",
    "\n",
    "# df_report['ROC-AUC'] = roc_auc_score(y_test, y_pred_proba)\n",
    "# df_report['PR-AUC'] = precision_score(y_test,y_pred)\n",
    "# df_report['F1'] = f1_score(y_test, y_pred)\n",
    "# df_report['precision_0'] = precision_score(y_test, y_pred, pos_label=0)\n",
    "# df_report['recall_0'] = recall_score(y_test, y_pred, pos_label=0)\n",
    "# df_report['precision_1'] = precision_score(y_test, y_pred, pos_label=1)\n",
    "# df_report['recall_1'] = recall_score(y_test, y_pred, pos_label=1)\n",
    "\n",
    "# df_report.index = ['LogisticRegression']"
   ]
  },
  {
   "cell_type": "code",
   "execution_count": 90,
   "metadata": {},
   "outputs": [
    {
     "data": {
      "text/html": [
       "<div>\n",
       "<style scoped>\n",
       "    .dataframe tbody tr th:only-of-type {\n",
       "        vertical-align: middle;\n",
       "    }\n",
       "\n",
       "    .dataframe tbody tr th {\n",
       "        vertical-align: top;\n",
       "    }\n",
       "\n",
       "    .dataframe thead th {\n",
       "        text-align: right;\n",
       "    }\n",
       "</style>\n",
       "<table border=\"1\" class=\"dataframe\">\n",
       "  <thead>\n",
       "    <tr style=\"text-align: right;\">\n",
       "      <th></th>\n",
       "      <th>ROC-AUC</th>\n",
       "      <th>PR-AUC</th>\n",
       "      <th>F1</th>\n",
       "      <th>precision_Neg</th>\n",
       "      <th>precision_Pos</th>\n",
       "      <th>recall_Neg</th>\n",
       "      <th>recall_Pos</th>\n",
       "    </tr>\n",
       "  </thead>\n",
       "  <tbody>\n",
       "    <tr>\n",
       "      <th>LogisticRegression</th>\n",
       "      <td>0.740839</td>\n",
       "      <td>0.404255</td>\n",
       "      <td>0.039563</td>\n",
       "      <td>0.878017</td>\n",
       "      <td>0.404255</td>\n",
       "      <td>0.99567</td>\n",
       "      <td>0.020799</td>\n",
       "    </tr>\n",
       "  </tbody>\n",
       "</table>\n",
       "</div>"
      ],
      "text/plain": [
       "                     ROC-AUC    PR-AUC        F1  precision_Neg  \\\n",
       "LogisticRegression  0.740839  0.404255  0.039563       0.878017   \n",
       "\n",
       "                    precision_Pos  recall_Neg  recall_Pos  \n",
       "LogisticRegression       0.404255     0.99567    0.020799  "
      ]
     },
     "execution_count": 90,
     "metadata": {},
     "output_type": "execute_result"
    }
   ],
   "source": [
    "df_report"
   ]
  },
  {
   "cell_type": "markdown",
   "metadata": {},
   "source": [
    "<a id=\"sec9.3\"></a>\n",
    "## [LOG REGRESSION with gridsearch & strat](#sec9.2)"
   ]
  },
  {
   "cell_type": "code",
   "execution_count": null,
   "metadata": {
    "scrolled": false
   },
   "outputs": [],
   "source": [
    "# pipeline = \n",
    "# lr_skf = LogisticRegression(class_weight='balanced')\n",
    "# skf = StratifiedShuffleSplit(n_splits=5, random_state=RANDOM_SEED)\n",
    "\n",
    "# param = {'C': np.linspace(0.001, 10, 10), 'penalty': ['l1', 'l2']}\n",
    "\n",
    "# # refit - пол умолчаю, то есть при предикте уже используем лучшую модель\n",
    "# clf_lr = GridSearchCV(\n",
    "#     lr_skf, param, scoring='roc_auc', refit=True, cv=skf)\n",
    "# clf_lr.fit(X_train, y_train)\n",
    "# #cf_matrix = confusion_matrix(y_test,y_pred)\n",
    "\n",
    "# print('Best roc_auc: {:.4}, with best C: {}'.format(\n",
    "#     clf_lr.best_score_, clf_lr.best_params_))"
   ]
  },
  {
   "cell_type": "code",
   "execution_count": null,
   "metadata": {},
   "outputs": [],
   "source": [
    "# # to_scal = ['age', 'income', 'days_beetwen','pca_address','income']\n",
    "# to_scal = ['age', 'income', 'days_beetwen','pca_address']\n",
    "\n",
    "# scaler = RobustScaler()\n",
    "# X_train = scaler.fit_transform(X_train.values)\n",
    "# X_test = scaler.transform(X_test.values)"
   ]
  },
  {
   "cell_type": "markdown",
   "metadata": {},
   "source": [
    "Let's apply best hyperparameters search and stratification for log regression"
   ]
  },
  {
   "cell_type": "code",
   "execution_count": 91,
   "metadata": {},
   "outputs": [
    {
     "name": "stdout",
     "output_type": "stream",
     "text": [
      "Best roc_auc: 0.7278, with best C: {'C': 1.1119999999999999, 'penalty': 'l2'}\n"
     ]
    }
   ],
   "source": [
    "lr_skf = LogisticRegression(class_weight='balanced')\n",
    "skf = StratifiedShuffleSplit(n_splits=10, random_state=RANDOM_SEED)\n",
    "\n",
    "param = {'C': np.linspace(0.001, 10, 10), 'penalty': ['l1', 'l2']}\n",
    "\n",
    "# refit - пол умолчаю, то есть при предикте уже используем лучшую модель\n",
    "clf_lr = GridSearchCV(\n",
    "    lr_skf, param, scoring='roc_auc', refit=True, cv=skf)\n",
    "clf_lr.fit(X_train, y_train)\n",
    "y_pred_skf = clf_lr.predict(X_test)\n",
    "cf_matrix = confusion_matrix(y_test,y_pred_skf)\n",
    "\n",
    "print('Best roc_auc: {:.4}, with best C: {}'.format(\n",
    "    clf_lr.best_score_, clf_lr.best_params_))"
   ]
  },
  {
   "cell_type": "code",
   "execution_count": 92,
   "metadata": {
    "scrolled": true
   },
   "outputs": [
    {
     "data": {
      "image/png": "[encoded data removed]",
      "text/plain": [
       "<Figure size 360x360 with 2 Axes>"
      ]
     },
     "metadata": {
      "needs_background": "dark"
     },
     "output_type": "display_data"
    },
    {
     "data": {
      "image/png": "[encoded data removed]",
      "text/plain": [
       "<Figure size 936x360 with 2 Axes>"
      ]
     },
     "metadata": {
      "needs_background": "dark"
     },
     "output_type": "display_data"
    }
   ],
   "source": [
    "make_confusion_matrix(cf_matrix,categories=categories,sum_stats=True)\n",
    "make_roc_auc(clf_lr,X_test,y_test)"
   ]
  },
  {
   "cell_type": "code",
   "execution_count": 93,
   "metadata": {},
   "outputs": [],
   "source": [
    "df_report = get_scores(df_report, clf_lr, X_test,\n",
    "                       y_test, 'LogisticRegression_skf')"
   ]
  },
  {
   "cell_type": "code",
   "execution_count": 94,
   "metadata": {},
   "outputs": [
    {
     "data": {
      "text/html": [
       "<div>\n",
       "<style scoped>\n",
       "    .dataframe tbody tr th:only-of-type {\n",
       "        vertical-align: middle;\n",
       "    }\n",
       "\n",
       "    .dataframe tbody tr th {\n",
       "        vertical-align: top;\n",
       "    }\n",
       "\n",
       "    .dataframe thead th {\n",
       "        text-align: right;\n",
       "    }\n",
       "</style>\n",
       "<table border=\"1\" class=\"dataframe\">\n",
       "  <thead>\n",
       "    <tr style=\"text-align: right;\">\n",
       "      <th></th>\n",
       "      <th>ROC-AUC</th>\n",
       "      <th>PR-AUC</th>\n",
       "      <th>F1</th>\n",
       "      <th>precision_Neg</th>\n",
       "      <th>precision_Pos</th>\n",
       "      <th>recall_Neg</th>\n",
       "      <th>recall_Pos</th>\n",
       "    </tr>\n",
       "  </thead>\n",
       "  <tbody>\n",
       "    <tr>\n",
       "      <th>LogisticRegression</th>\n",
       "      <td>0.740839</td>\n",
       "      <td>0.404255</td>\n",
       "      <td>0.039563</td>\n",
       "      <td>0.878017</td>\n",
       "      <td>0.404255</td>\n",
       "      <td>0.995670</td>\n",
       "      <td>0.020799</td>\n",
       "    </tr>\n",
       "    <tr>\n",
       "      <th>LogisticRegression_skf</th>\n",
       "      <td>0.740575</td>\n",
       "      <td>0.224837</td>\n",
       "      <td>0.337913</td>\n",
       "      <td>0.936661</td>\n",
       "      <td>0.224837</td>\n",
       "      <td>0.668909</td>\n",
       "      <td>0.679803</td>\n",
       "    </tr>\n",
       "  </tbody>\n",
       "</table>\n",
       "</div>"
      ],
      "text/plain": [
       "                         ROC-AUC    PR-AUC        F1  precision_Neg  \\\n",
       "LogisticRegression      0.740839  0.404255  0.039563       0.878017   \n",
       "LogisticRegression_skf  0.740575  0.224837  0.337913       0.936661   \n",
       "\n",
       "                        precision_Pos  recall_Neg  recall_Pos  \n",
       "LogisticRegression           0.404255    0.995670    0.020799  \n",
       "LogisticRegression_skf       0.224837    0.668909    0.679803  "
      ]
     },
     "execution_count": 94,
     "metadata": {},
     "output_type": "execute_result"
    }
   ],
   "source": [
    "df_report"
   ]
  },
  {
   "cell_type": "markdown",
   "metadata": {},
   "source": [
    "Well, the model started to predict better than before. Sensitivity (recall) is noticebly grown. F1 score also grown. Proportion of positive samples (precision) that were correctly classified dropped. Our model incorrectly classified default clients (FP=28%), while TP is only 8.5%\n",
    "\n",
    "Let's try to add objects of the missing class for balancing dataset"
   ]
  },
  {
   "cell_type": "code",
   "execution_count": 95,
   "metadata": {},
   "outputs": [],
   "source": [
    "oversample = RandomOverSampler(sampling_strategy=1.0)\n",
    "X_over, y_over = oversample.fit_resample(X_train, y_train)"
   ]
  },
  {
   "cell_type": "code",
   "execution_count": 96,
   "metadata": {
    "scrolled": true
   },
   "outputs": [
    {
     "name": "stdout",
     "output_type": "stream",
     "text": [
      "Fitting 10 folds for each of 20 candidates, totalling 200 fits\n",
      "Best roc_auc: 0.7285, with best C: {'C': 6.667000000000001, 'penalty': 'l2'}\n"
     ]
    }
   ],
   "source": [
    "lr_skf = LogisticRegression()\n",
    "skf = StratifiedShuffleSplit(n_splits=10, random_state=RANDOM_SEED)\n",
    "\n",
    "param = {'C': np.linspace(0.001, 10, 10), 'penalty': ['l1', 'l2']}\n",
    "\n",
    "# verbose - печать резльутата выполнения обучения, чем больше  значение (по умол 0), тем больше информации\n",
    "clf_lr_over = GridSearchCV(lr_skf, param, scoring='roc_auc', cv=skf, verbose=1)\n",
    "clf_lr_over.fit(X_over, y_over)\n",
    "\n",
    "y_pred_skf_over = clf_lr_over.predict(X_test)\n",
    "cf_matrix = confusion_matrix(y_test,y_pred_skf_over)\n",
    "\n",
    "print('Best roc_auc: {:.4}, with best C: {}'.format(\n",
    "    clf_lr_over.best_score_, clf_lr_over.best_params_))"
   ]
  },
  {
   "cell_type": "code",
   "execution_count": 97,
   "metadata": {},
   "outputs": [
    {
     "data": {
      "image/png": "[encoded data removed]",
      "text/plain": [
       "<Figure size 360x360 with 2 Axes>"
      ]
     },
     "metadata": {
      "needs_background": "dark"
     },
     "output_type": "display_data"
    },
    {
     "data": {
      "image/png": "[encoded data removed]",
      "text/plain": [
       "<Figure size 936x360 with 2 Axes>"
      ]
     },
     "metadata": {
      "needs_background": "dark"
     },
     "output_type": "display_data"
    }
   ],
   "source": [
    "make_confusion_matrix(cf_matrix,categories=categories,sum_stats=True)\n",
    "make_roc_auc(clf_lr_over,X_test,y_test)"
   ]
  },
  {
   "cell_type": "code",
   "execution_count": 98,
   "metadata": {},
   "outputs": [],
   "source": [
    "df_report = get_scores(df_report, clf_lr_over, X_test,\n",
    "                       y_test, 'LogisticRegression_skf_imb')"
   ]
  },
  {
   "cell_type": "code",
   "execution_count": 99,
   "metadata": {
    "scrolled": true
   },
   "outputs": [
    {
     "data": {
      "text/html": [
       "<div>\n",
       "<style scoped>\n",
       "    .dataframe tbody tr th:only-of-type {\n",
       "        vertical-align: middle;\n",
       "    }\n",
       "\n",
       "    .dataframe tbody tr th {\n",
       "        vertical-align: top;\n",
       "    }\n",
       "\n",
       "    .dataframe thead th {\n",
       "        text-align: right;\n",
       "    }\n",
       "</style>\n",
       "<table border=\"1\" class=\"dataframe\">\n",
       "  <thead>\n",
       "    <tr style=\"text-align: right;\">\n",
       "      <th></th>\n",
       "      <th>ROC-AUC</th>\n",
       "      <th>PR-AUC</th>\n",
       "      <th>F1</th>\n",
       "      <th>precision_Neg</th>\n",
       "      <th>precision_Pos</th>\n",
       "      <th>recall_Neg</th>\n",
       "      <th>recall_Pos</th>\n",
       "    </tr>\n",
       "  </thead>\n",
       "  <tbody>\n",
       "    <tr>\n",
       "      <th>LogisticRegression</th>\n",
       "      <td>0.740839</td>\n",
       "      <td>0.404255</td>\n",
       "      <td>0.039563</td>\n",
       "      <td>0.878017</td>\n",
       "      <td>0.404255</td>\n",
       "      <td>0.995670</td>\n",
       "      <td>0.020799</td>\n",
       "    </tr>\n",
       "    <tr>\n",
       "      <th>LogisticRegression_skf</th>\n",
       "      <td>0.740575</td>\n",
       "      <td>0.224837</td>\n",
       "      <td>0.337913</td>\n",
       "      <td>0.936661</td>\n",
       "      <td>0.224837</td>\n",
       "      <td>0.668909</td>\n",
       "      <td>0.679803</td>\n",
       "    </tr>\n",
       "    <tr>\n",
       "      <th>LogisticRegression_skf_imb</th>\n",
       "      <td>0.740240</td>\n",
       "      <td>0.223184</td>\n",
       "      <td>0.335774</td>\n",
       "      <td>0.936069</td>\n",
       "      <td>0.223184</td>\n",
       "      <td>0.666821</td>\n",
       "      <td>0.677614</td>\n",
       "    </tr>\n",
       "  </tbody>\n",
       "</table>\n",
       "</div>"
      ],
      "text/plain": [
       "                             ROC-AUC    PR-AUC        F1  precision_Neg  \\\n",
       "LogisticRegression          0.740839  0.404255  0.039563       0.878017   \n",
       "LogisticRegression_skf      0.740575  0.224837  0.337913       0.936661   \n",
       "LogisticRegression_skf_imb  0.740240  0.223184  0.335774       0.936069   \n",
       "\n",
       "                            precision_Pos  recall_Neg  recall_Pos  \n",
       "LogisticRegression               0.404255    0.995670    0.020799  \n",
       "LogisticRegression_skf           0.224837    0.668909    0.679803  \n",
       "LogisticRegression_skf_imb       0.223184    0.666821    0.677614  "
      ]
     },
     "execution_count": 99,
     "metadata": {},
     "output_type": "execute_result"
    }
   ],
   "source": [
    "df_report"
   ]
  },
  {
   "cell_type": "markdown",
   "metadata": {},
   "source": [
    "Well, oversampling did not give us significant increase of metrics. It is still predicts not good."
   ]
  },
  {
   "cell_type": "markdown",
   "metadata": {},
   "source": [
    "<a id=\"sec9.4\"></a>\n",
    "## [Random Forest](#sec9.4)"
   ]
  },
  {
   "cell_type": "code",
   "execution_count": 101,
   "metadata": {},
   "outputs": [],
   "source": [
    "# Try use unscaled data\n",
    "# Extract the part of dataframe for testing\n",
    "df_train_ = df.query('sample == 1').drop(['sample'], axis=1)\n",
    "df_valid_ = df.query('sample == 0').drop(['sample'], axis=1)\n",
    "\n",
    "X_ = df_train_.drop(['default'], axis=1)\n",
    "X_val_ = df_valid_.drop(['default'], axis=1)\n",
    "y_ = df_train_.default.values"
   ]
  },
  {
   "cell_type": "code",
   "execution_count": 102,
   "metadata": {},
   "outputs": [],
   "source": [
    "X_train, X_test, y_train, y_test = train_test_split(X_,\n",
    "                                                    y_,\n",
    "                                                    test_size=.2,\n",
    "                                                    random_state=RANDOM_SEED)"
   ]
  },
  {
   "cell_type": "code",
   "execution_count": 104,
   "metadata": {},
   "outputs": [],
   "source": [
    "# oversample = RandomOverSampler(sampling_strategy=1.0)\n",
    "# X_over, y_over = oversample.fit_resample(X_train_, y_train_)"
   ]
  },
  {
   "cell_type": "code",
   "execution_count": 105,
   "metadata": {},
   "outputs": [],
   "source": [
    "rf = RandomForestClassifier()\n",
    "rf.fit(X_train, y_train)\n",
    "\n",
    "y_pred_rf = rf.predict(X_test)\n",
    "cf_matrix = confusion_matrix(y_test,y_pred_rf)\n",
    "\n",
    "df_report = get_scores(df_report, rf, X_test, y_test, 'RandomForestClassifier')"
   ]
  },
  {
   "cell_type": "code",
   "execution_count": 106,
   "metadata": {},
   "outputs": [
    {
     "data": {
      "image/png": "[encoded data removed]",
      "text/plain": [
       "<Figure size 360x360 with 2 Axes>"
      ]
     },
     "metadata": {
      "needs_background": "dark"
     },
     "output_type": "display_data"
    }
   ],
   "source": [
    "make_confusion_matrix(cf_matrix,categories=categories,sum_stats=True)"
   ]
  },
  {
   "cell_type": "code",
   "execution_count": 107,
   "metadata": {
    "scrolled": false
   },
   "outputs": [
    {
     "data": {
      "text/html": [
       "<div>\n",
       "<style scoped>\n",
       "    .dataframe tbody tr th:only-of-type {\n",
       "        vertical-align: middle;\n",
       "    }\n",
       "\n",
       "    .dataframe tbody tr th {\n",
       "        vertical-align: top;\n",
       "    }\n",
       "\n",
       "    .dataframe thead th {\n",
       "        text-align: right;\n",
       "    }\n",
       "</style>\n",
       "<table border=\"1\" class=\"dataframe\">\n",
       "  <thead>\n",
       "    <tr style=\"text-align: right;\">\n",
       "      <th></th>\n",
       "      <th>ROC-AUC</th>\n",
       "      <th>PR-AUC</th>\n",
       "      <th>F1</th>\n",
       "      <th>precision_Neg</th>\n",
       "      <th>precision_Pos</th>\n",
       "      <th>recall_Neg</th>\n",
       "      <th>recall_Pos</th>\n",
       "    </tr>\n",
       "  </thead>\n",
       "  <tbody>\n",
       "    <tr>\n",
       "      <th>LogisticRegression</th>\n",
       "      <td>0.740839</td>\n",
       "      <td>0.404255</td>\n",
       "      <td>0.039563</td>\n",
       "      <td>0.878017</td>\n",
       "      <td>0.404255</td>\n",
       "      <td>0.995670</td>\n",
       "      <td>0.020799</td>\n",
       "    </tr>\n",
       "    <tr>\n",
       "      <th>LogisticRegression_skf</th>\n",
       "      <td>0.740575</td>\n",
       "      <td>0.224837</td>\n",
       "      <td>0.337913</td>\n",
       "      <td>0.936661</td>\n",
       "      <td>0.224837</td>\n",
       "      <td>0.668909</td>\n",
       "      <td>0.679803</td>\n",
       "    </tr>\n",
       "    <tr>\n",
       "      <th>LogisticRegression_skf_imb</th>\n",
       "      <td>0.740240</td>\n",
       "      <td>0.223184</td>\n",
       "      <td>0.335774</td>\n",
       "      <td>0.936069</td>\n",
       "      <td>0.223184</td>\n",
       "      <td>0.666821</td>\n",
       "      <td>0.677614</td>\n",
       "    </tr>\n",
       "    <tr>\n",
       "      <th>RandomForestClassifier</th>\n",
       "      <td>0.702200</td>\n",
       "      <td>0.401869</td>\n",
       "      <td>0.044467</td>\n",
       "      <td>0.878250</td>\n",
       "      <td>0.401869</td>\n",
       "      <td>0.995051</td>\n",
       "      <td>0.023536</td>\n",
       "    </tr>\n",
       "  </tbody>\n",
       "</table>\n",
       "</div>"
      ],
      "text/plain": [
       "                             ROC-AUC    PR-AUC        F1  precision_Neg  \\\n",
       "LogisticRegression          0.740839  0.404255  0.039563       0.878017   \n",
       "LogisticRegression_skf      0.740575  0.224837  0.337913       0.936661   \n",
       "LogisticRegression_skf_imb  0.740240  0.223184  0.335774       0.936069   \n",
       "RandomForestClassifier      0.702200  0.401869  0.044467       0.878250   \n",
       "\n",
       "                            precision_Pos  recall_Neg  recall_Pos  \n",
       "LogisticRegression               0.404255    0.995670    0.020799  \n",
       "LogisticRegression_skf           0.224837    0.668909    0.679803  \n",
       "LogisticRegression_skf_imb       0.223184    0.666821    0.677614  \n",
       "RandomForestClassifier           0.401869    0.995051    0.023536  "
      ]
     },
     "execution_count": 107,
     "metadata": {},
     "output_type": "execute_result"
    }
   ],
   "source": [
    "df_report"
   ]
  },
  {
   "cell_type": "markdown",
   "metadata": {},
   "source": [
    "Let's try grid search and Stratification"
   ]
  },
  {
   "cell_type": "code",
   "execution_count": 108,
   "metadata": {
    "scrolled": true
   },
   "outputs": [
    {
     "name": "stdout",
     "output_type": "stream",
     "text": [
      "Fitting 5 folds for each of 4 candidates, totalling 20 fits\n",
      "Best roc_auc: 0.7281, with best C: {'bootstrap': True, 'max_depth': 10, 'n_estimators': 1000}\n"
     ]
    }
   ],
   "source": [
    "# Grid Search\n",
    "rf_skf = RandomForestClassifier(class_weight='balanced')\n",
    "skf = StratifiedShuffleSplit(n_splits=5, random_state=10)\n",
    "\n",
    "param = {'bootstrap': [True],\n",
    "         'max_depth': [10, 30],\n",
    "         'n_estimators': [600, 1000]}\n",
    "\n",
    "clf_rf = GridSearchCV(\n",
    "    rf_skf, param, scoring='roc_auc', refit=True, cv=skf, verbose=3, n_jobs=-1)\n",
    "clf_rf.fit(X_train, y_train)\n",
    "\n",
    "y_pred_rf_skf = clf_rf.predict(X_test)\n",
    "cf_matrix = confusion_matrix(y_test,y_pred_rf_skf)\n",
    "\n",
    "print('Best roc_auc: {:.4}, with best C: {}'.format(\n",
    "    clf_rf.best_score_, clf_rf.best_params_))"
   ]
  },
  {
   "cell_type": "code",
   "execution_count": 109,
   "metadata": {},
   "outputs": [
    {
     "data": {
      "image/png": "[encoded data removed]",
      "text/plain": [
       "<Figure size 360x360 with 2 Axes>"
      ]
     },
     "metadata": {
      "needs_background": "dark"
     },
     "output_type": "display_data"
    }
   ],
   "source": [
    "df_report = get_scores(df_report, clf_rf, X_test, y_test, 'RandomForestClassifier_skf')\n",
    "make_confusion_matrix(cf_matrix,categories=categories,sum_stats=True)"
   ]
  },
  {
   "cell_type": "code",
   "execution_count": null,
   "metadata": {},
   "outputs": [],
   "source": [
    "# df_report = get_scores(df_report, clf_rf, X_test, y_test, 'RandomForestClassifier_skf')\n",
    "\n",
    "# fig, (ax1, ax2) = plt.subplots(1, 2, figsize=(13, 5))\n",
    "\n",
    "# plot_precision_recall_curve(clf_rf, X_test, y_test, ax=ax1)\n",
    "# plot_roc_curve(clf_rf, X_test, y_test, ax=ax2);"
   ]
  },
  {
   "cell_type": "code",
   "execution_count": 110,
   "metadata": {},
   "outputs": [
    {
     "data": {
      "text/html": [
       "<div>\n",
       "<style scoped>\n",
       "    .dataframe tbody tr th:only-of-type {\n",
       "        vertical-align: middle;\n",
       "    }\n",
       "\n",
       "    .dataframe tbody tr th {\n",
       "        vertical-align: top;\n",
       "    }\n",
       "\n",
       "    .dataframe thead th {\n",
       "        text-align: right;\n",
       "    }\n",
       "</style>\n",
       "<table border=\"1\" class=\"dataframe\">\n",
       "  <thead>\n",
       "    <tr style=\"text-align: right;\">\n",
       "      <th></th>\n",
       "      <th>ROC-AUC</th>\n",
       "      <th>PR-AUC</th>\n",
       "      <th>F1</th>\n",
       "      <th>precision_Neg</th>\n",
       "      <th>precision_Pos</th>\n",
       "      <th>recall_Neg</th>\n",
       "      <th>recall_Pos</th>\n",
       "    </tr>\n",
       "  </thead>\n",
       "  <tbody>\n",
       "    <tr>\n",
       "      <th>LogisticRegression</th>\n",
       "      <td>0.740839</td>\n",
       "      <td>0.404255</td>\n",
       "      <td>0.039563</td>\n",
       "      <td>0.878017</td>\n",
       "      <td>0.404255</td>\n",
       "      <td>0.995670</td>\n",
       "      <td>0.020799</td>\n",
       "    </tr>\n",
       "    <tr>\n",
       "      <th>LogisticRegression_skf</th>\n",
       "      <td>0.740575</td>\n",
       "      <td>0.224837</td>\n",
       "      <td>0.337913</td>\n",
       "      <td>0.936661</td>\n",
       "      <td>0.224837</td>\n",
       "      <td>0.668909</td>\n",
       "      <td>0.679803</td>\n",
       "    </tr>\n",
       "    <tr>\n",
       "      <th>LogisticRegression_skf_imb</th>\n",
       "      <td>0.740240</td>\n",
       "      <td>0.223184</td>\n",
       "      <td>0.335774</td>\n",
       "      <td>0.936069</td>\n",
       "      <td>0.223184</td>\n",
       "      <td>0.666821</td>\n",
       "      <td>0.677614</td>\n",
       "    </tr>\n",
       "    <tr>\n",
       "      <th>RandomForestClassifier</th>\n",
       "      <td>0.702200</td>\n",
       "      <td>0.401869</td>\n",
       "      <td>0.044467</td>\n",
       "      <td>0.878250</td>\n",
       "      <td>0.401869</td>\n",
       "      <td>0.995051</td>\n",
       "      <td>0.023536</td>\n",
       "    </tr>\n",
       "    <tr>\n",
       "      <th>RandomForestClassifier_skf</th>\n",
       "      <td>0.732214</td>\n",
       "      <td>0.238728</td>\n",
       "      <td>0.341539</td>\n",
       "      <td>0.928115</td>\n",
       "      <td>0.238728</td>\n",
       "      <td>0.729761</td>\n",
       "      <td>0.599891</td>\n",
       "    </tr>\n",
       "  </tbody>\n",
       "</table>\n",
       "</div>"
      ],
      "text/plain": [
       "                             ROC-AUC    PR-AUC        F1  precision_Neg  \\\n",
       "LogisticRegression          0.740839  0.404255  0.039563       0.878017   \n",
       "LogisticRegression_skf      0.740575  0.224837  0.337913       0.936661   \n",
       "LogisticRegression_skf_imb  0.740240  0.223184  0.335774       0.936069   \n",
       "RandomForestClassifier      0.702200  0.401869  0.044467       0.878250   \n",
       "RandomForestClassifier_skf  0.732214  0.238728  0.341539       0.928115   \n",
       "\n",
       "                            precision_Pos  recall_Neg  recall_Pos  \n",
       "LogisticRegression               0.404255    0.995670    0.020799  \n",
       "LogisticRegression_skf           0.224837    0.668909    0.679803  \n",
       "LogisticRegression_skf_imb       0.223184    0.666821    0.677614  \n",
       "RandomForestClassifier           0.401869    0.995051    0.023536  \n",
       "RandomForestClassifier_skf       0.238728    0.729761    0.599891  "
      ]
     },
     "execution_count": 110,
     "metadata": {},
     "output_type": "execute_result"
    }
   ],
   "source": [
    "df_report"
   ]
  },
  {
   "cell_type": "code",
   "execution_count": 111,
   "metadata": {},
   "outputs": [
    {
     "name": "stdout",
     "output_type": "stream",
     "text": [
      "Fitting 5 folds for each of 4 candidates, totalling 20 fits\n",
      "Best roc_auc: 0.9998, with best C: {'bootstrap': True, 'max_depth': 30, 'n_estimators': 200}\n"
     ]
    }
   ],
   "source": [
    "# Grid Search\n",
    "rf_skf = RandomForestClassifier()\n",
    "skf = StratifiedShuffleSplit(n_splits=5, random_state=10)\n",
    "\n",
    "param = {'bootstrap': [True],\n",
    "         'max_depth': [10, 30],\n",
    "         'n_estimators': [200, 600]}\n",
    "\n",
    "clf_rf_over = GridSearchCV(\n",
    "    rf_skf, param, scoring='roc_auc', refit=True, cv=skf, verbose=3, n_jobs=-1)\n",
    "clf_rf_over.fit(X_over, y_over)\n",
    "\n",
    "y_pred_rf_over = clf_rf_over.predict(X_test)\n",
    "cf_matrix = confusion_matrix(y_test,y_pred_rf_over)\n",
    "\n",
    "print('Best roc_auc: {:.4}, with best C: {}'.format(\n",
    "    clf_rf_over.best_score_, clf_rf_over.best_params_))"
   ]
  },
  {
   "cell_type": "code",
   "execution_count": 112,
   "metadata": {},
   "outputs": [
    {
     "data": {
      "image/png": "[encoded data removed]",
      "text/plain": [
       "<Figure size 360x360 with 2 Axes>"
      ]
     },
     "metadata": {
      "needs_background": "dark"
     },
     "output_type": "display_data"
    }
   ],
   "source": [
    "df_report = get_scores(df_report, clf_rf_over, X_test, y_test,\n",
    "                       'RandomForestClassifier_skf_imb')\n",
    "make_confusion_matrix(cf_matrix,categories=categories,sum_stats=True)"
   ]
  },
  {
   "cell_type": "code",
   "execution_count": 113,
   "metadata": {
    "scrolled": true
   },
   "outputs": [
    {
     "data": {
      "text/html": [
       "<div>\n",
       "<style scoped>\n",
       "    .dataframe tbody tr th:only-of-type {\n",
       "        vertical-align: middle;\n",
       "    }\n",
       "\n",
       "    .dataframe tbody tr th {\n",
       "        vertical-align: top;\n",
       "    }\n",
       "\n",
       "    .dataframe thead th {\n",
       "        text-align: right;\n",
       "    }\n",
       "</style>\n",
       "<table border=\"1\" class=\"dataframe\">\n",
       "  <thead>\n",
       "    <tr style=\"text-align: right;\">\n",
       "      <th></th>\n",
       "      <th>ROC-AUC</th>\n",
       "      <th>PR-AUC</th>\n",
       "      <th>F1</th>\n",
       "      <th>precision_Neg</th>\n",
       "      <th>precision_Pos</th>\n",
       "      <th>recall_Neg</th>\n",
       "      <th>recall_Pos</th>\n",
       "    </tr>\n",
       "  </thead>\n",
       "  <tbody>\n",
       "    <tr>\n",
       "      <th>LogisticRegression</th>\n",
       "      <td>0.740839</td>\n",
       "      <td>0.404255</td>\n",
       "      <td>0.039563</td>\n",
       "      <td>0.878017</td>\n",
       "      <td>0.404255</td>\n",
       "      <td>0.995670</td>\n",
       "      <td>0.020799</td>\n",
       "    </tr>\n",
       "    <tr>\n",
       "      <th>LogisticRegression_skf</th>\n",
       "      <td>0.740575</td>\n",
       "      <td>0.224837</td>\n",
       "      <td>0.337913</td>\n",
       "      <td>0.936661</td>\n",
       "      <td>0.224837</td>\n",
       "      <td>0.668909</td>\n",
       "      <td>0.679803</td>\n",
       "    </tr>\n",
       "    <tr>\n",
       "      <th>LogisticRegression_skf_imb</th>\n",
       "      <td>0.740240</td>\n",
       "      <td>0.223184</td>\n",
       "      <td>0.335774</td>\n",
       "      <td>0.936069</td>\n",
       "      <td>0.223184</td>\n",
       "      <td>0.666821</td>\n",
       "      <td>0.677614</td>\n",
       "    </tr>\n",
       "    <tr>\n",
       "      <th>RandomForestClassifier</th>\n",
       "      <td>0.702200</td>\n",
       "      <td>0.401869</td>\n",
       "      <td>0.044467</td>\n",
       "      <td>0.878250</td>\n",
       "      <td>0.401869</td>\n",
       "      <td>0.995051</td>\n",
       "      <td>0.023536</td>\n",
       "    </tr>\n",
       "    <tr>\n",
       "      <th>RandomForestClassifier_skf</th>\n",
       "      <td>0.732214</td>\n",
       "      <td>0.238728</td>\n",
       "      <td>0.341539</td>\n",
       "      <td>0.928115</td>\n",
       "      <td>0.238728</td>\n",
       "      <td>0.729761</td>\n",
       "      <td>0.599891</td>\n",
       "    </tr>\n",
       "    <tr>\n",
       "      <th>RandomForestClassifier_skf_imb</th>\n",
       "      <td>0.578183</td>\n",
       "      <td>0.000000</td>\n",
       "      <td>0.000000</td>\n",
       "      <td>0.876220</td>\n",
       "      <td>0.000000</td>\n",
       "      <td>1.000000</td>\n",
       "      <td>0.000000</td>\n",
       "    </tr>\n",
       "  </tbody>\n",
       "</table>\n",
       "</div>"
      ],
      "text/plain": [
       "                                 ROC-AUC    PR-AUC        F1  precision_Neg  \\\n",
       "LogisticRegression              0.740839  0.404255  0.039563       0.878017   \n",
       "LogisticRegression_skf          0.740575  0.224837  0.337913       0.936661   \n",
       "LogisticRegression_skf_imb      0.740240  0.223184  0.335774       0.936069   \n",
       "RandomForestClassifier          0.702200  0.401869  0.044467       0.878250   \n",
       "RandomForestClassifier_skf      0.732214  0.238728  0.341539       0.928115   \n",
       "RandomForestClassifier_skf_imb  0.578183  0.000000  0.000000       0.876220   \n",
       "\n",
       "                                precision_Pos  recall_Neg  recall_Pos  \n",
       "LogisticRegression                   0.404255    0.995670    0.020799  \n",
       "LogisticRegression_skf               0.224837    0.668909    0.679803  \n",
       "LogisticRegression_skf_imb           0.223184    0.666821    0.677614  \n",
       "RandomForestClassifier               0.401869    0.995051    0.023536  \n",
       "RandomForestClassifier_skf           0.238728    0.729761    0.599891  \n",
       "RandomForestClassifier_skf_imb       0.000000    1.000000    0.000000  "
      ]
     },
     "execution_count": 113,
     "metadata": {},
     "output_type": "execute_result"
    }
   ],
   "source": [
    "df_report"
   ]
  },
  {
   "cell_type": "markdown",
   "metadata": {},
   "source": [
    "We may note that ifor this dataset log regression showed better results of metrics. We won't use Random forest algorithm."
   ]
  },
  {
   "cell_type": "markdown",
   "metadata": {},
   "source": [
    "<a id=\"sec9.5\"></a>\n",
    "## [Lightgbm](#sec9.5)"
   ]
  },
  {
   "cell_type": "markdown",
   "metadata": {},
   "source": [
    "Let's try to use Boosting (Lightgbm). It is good because it learns first of all by learning from the errors of algorithms built sequentially and, of course, it works out faster than random forests"
   ]
  },
  {
   "cell_type": "code",
   "execution_count": 114,
   "metadata": {},
   "outputs": [],
   "source": [
    "# Extract the part of dataframe for testing\n",
    "df_train = df_ansam.query('sample == 1').drop(['sample'], axis=1)\n",
    "df_valid = df_ansam.query('sample == 0').drop(['sample'], axis=1)\n",
    "\n",
    "X_ = df_train.drop(['default'], axis=1)\n",
    "X_val_ = df_valid.drop(['default'], axis=1)\n",
    "y_ = df_train.default.values"
   ]
  },
  {
   "cell_type": "code",
   "execution_count": 115,
   "metadata": {},
   "outputs": [],
   "source": [
    "for c in X_.columns:\n",
    "    col_type = X_[c].dtype\n",
    "    if col_type == 'object' or col_type.name == 'category':\n",
    "        X_[c] = X_[c].astype('category')"
   ]
  },
  {
   "cell_type": "code",
   "execution_count": 116,
   "metadata": {},
   "outputs": [],
   "source": [
    "X_train_, X_test_, y_train_, y_test_ = train_test_split(\n",
    "    X_, y_, test_size=.2, random_state=RANDOM_SEED)"
   ]
  },
  {
   "cell_type": "code",
   "execution_count": 121,
   "metadata": {},
   "outputs": [],
   "source": [
    "lgb = LGBMClassifier()\n",
    "lgb.fit(X_train_, y_train_, categorical_feature='auto')\n",
    "\n",
    "df_report = get_scores(df_report, lgb, X_test_,\n",
    "                       y_test_, 'LGBMClassifier')\n",
    "\n",
    "y_pred_lgb = lgb.predict(X_test_)\n",
    "cf_matrix = confusion_matrix(y_test_,y_pred_lgb)"
   ]
  },
  {
   "cell_type": "code",
   "execution_count": 123,
   "metadata": {},
   "outputs": [
    {
     "data": {
      "image/png": "[encoded data removed]",
      "text/plain": [
       "<Figure size 360x360 with 2 Axes>"
      ]
     },
     "metadata": {
      "needs_background": "dark"
     },
     "output_type": "display_data"
    }
   ],
   "source": [
    "make_confusion_matrix(cf_matrix,categories=categories,sum_stats=True)"
   ]
  },
  {
   "cell_type": "code",
   "execution_count": 128,
   "metadata": {},
   "outputs": [
    {
     "data": {
      "image/png": "[encoded data removed]",
      "text/plain": [
       "<Figure size 936x360 with 2 Axes>"
      ]
     },
     "metadata": {
      "needs_background": "dark"
     },
     "output_type": "display_data"
    }
   ],
   "source": [
    "fig, (ax1, ax2) = plt.subplots(1, 2, figsize=(13, 5))\n",
    "\n",
    "plot_precision_recall_curve(lgb, X_test_, y_test_, ax=ax1)\n",
    "plot_roc_curve(lgb, X_test_, y_test_, ax=ax2);"
   ]
  },
  {
   "cell_type": "code",
   "execution_count": 129,
   "metadata": {
    "scrolled": true
   },
   "outputs": [
    {
     "data": {
      "text/html": [
       "<div>\n",
       "<style scoped>\n",
       "    .dataframe tbody tr th:only-of-type {\n",
       "        vertical-align: middle;\n",
       "    }\n",
       "\n",
       "    .dataframe tbody tr th {\n",
       "        vertical-align: top;\n",
       "    }\n",
       "\n",
       "    .dataframe thead th {\n",
       "        text-align: right;\n",
       "    }\n",
       "</style>\n",
       "<table border=\"1\" class=\"dataframe\">\n",
       "  <thead>\n",
       "    <tr style=\"text-align: right;\">\n",
       "      <th></th>\n",
       "      <th>ROC-AUC</th>\n",
       "      <th>PR-AUC</th>\n",
       "      <th>F1</th>\n",
       "      <th>precision_Neg</th>\n",
       "      <th>precision_Pos</th>\n",
       "      <th>recall_Neg</th>\n",
       "      <th>recall_Pos</th>\n",
       "    </tr>\n",
       "  </thead>\n",
       "  <tbody>\n",
       "    <tr>\n",
       "      <th>LogisticRegression</th>\n",
       "      <td>0.740839</td>\n",
       "      <td>0.404255</td>\n",
       "      <td>0.039563</td>\n",
       "      <td>0.878017</td>\n",
       "      <td>0.404255</td>\n",
       "      <td>0.995670</td>\n",
       "      <td>0.020799</td>\n",
       "    </tr>\n",
       "    <tr>\n",
       "      <th>LogisticRegression_skf</th>\n",
       "      <td>0.740575</td>\n",
       "      <td>0.224837</td>\n",
       "      <td>0.337913</td>\n",
       "      <td>0.936661</td>\n",
       "      <td>0.224837</td>\n",
       "      <td>0.668909</td>\n",
       "      <td>0.679803</td>\n",
       "    </tr>\n",
       "    <tr>\n",
       "      <th>LogisticRegression_skf_imb</th>\n",
       "      <td>0.740240</td>\n",
       "      <td>0.223184</td>\n",
       "      <td>0.335774</td>\n",
       "      <td>0.936069</td>\n",
       "      <td>0.223184</td>\n",
       "      <td>0.666821</td>\n",
       "      <td>0.677614</td>\n",
       "    </tr>\n",
       "    <tr>\n",
       "      <th>RandomForestClassifier</th>\n",
       "      <td>0.702200</td>\n",
       "      <td>0.401869</td>\n",
       "      <td>0.044467</td>\n",
       "      <td>0.878250</td>\n",
       "      <td>0.401869</td>\n",
       "      <td>0.995051</td>\n",
       "      <td>0.023536</td>\n",
       "    </tr>\n",
       "    <tr>\n",
       "      <th>RandomForestClassifier_skf</th>\n",
       "      <td>0.732214</td>\n",
       "      <td>0.238728</td>\n",
       "      <td>0.341539</td>\n",
       "      <td>0.928115</td>\n",
       "      <td>0.238728</td>\n",
       "      <td>0.729761</td>\n",
       "      <td>0.599891</td>\n",
       "    </tr>\n",
       "    <tr>\n",
       "      <th>RandomForestClassifier_skf_imb</th>\n",
       "      <td>0.578183</td>\n",
       "      <td>0.000000</td>\n",
       "      <td>0.000000</td>\n",
       "      <td>0.876220</td>\n",
       "      <td>0.000000</td>\n",
       "      <td>1.000000</td>\n",
       "      <td>0.000000</td>\n",
       "    </tr>\n",
       "    <tr>\n",
       "      <th>LGBMClassifier</th>\n",
       "      <td>0.739682</td>\n",
       "      <td>0.384615</td>\n",
       "      <td>0.031496</td>\n",
       "      <td>0.877605</td>\n",
       "      <td>0.384615</td>\n",
       "      <td>0.996289</td>\n",
       "      <td>0.016420</td>\n",
       "    </tr>\n",
       "  </tbody>\n",
       "</table>\n",
       "</div>"
      ],
      "text/plain": [
       "                                 ROC-AUC    PR-AUC        F1  precision_Neg  \\\n",
       "LogisticRegression              0.740839  0.404255  0.039563       0.878017   \n",
       "LogisticRegression_skf          0.740575  0.224837  0.337913       0.936661   \n",
       "LogisticRegression_skf_imb      0.740240  0.223184  0.335774       0.936069   \n",
       "RandomForestClassifier          0.702200  0.401869  0.044467       0.878250   \n",
       "RandomForestClassifier_skf      0.732214  0.238728  0.341539       0.928115   \n",
       "RandomForestClassifier_skf_imb  0.578183  0.000000  0.000000       0.876220   \n",
       "LGBMClassifier                  0.739682  0.384615  0.031496       0.877605   \n",
       "\n",
       "                                precision_Pos  recall_Neg  recall_Pos  \n",
       "LogisticRegression                   0.404255    0.995670    0.020799  \n",
       "LogisticRegression_skf               0.224837    0.668909    0.679803  \n",
       "LogisticRegression_skf_imb           0.223184    0.666821    0.677614  \n",
       "RandomForestClassifier               0.401869    0.995051    0.023536  \n",
       "RandomForestClassifier_skf           0.238728    0.729761    0.599891  \n",
       "RandomForestClassifier_skf_imb       0.000000    1.000000    0.000000  \n",
       "LGBMClassifier                       0.384615    0.996289    0.016420  "
      ]
     },
     "execution_count": 129,
     "metadata": {},
     "output_type": "execute_result"
    }
   ],
   "source": [
    "df_report"
   ]
  },
  {
   "cell_type": "code",
   "execution_count": null,
   "metadata": {},
   "outputs": [],
   "source": []
  },
  {
   "cell_type": "code",
   "execution_count": 130,
   "metadata": {},
   "outputs": [
    {
     "name": "stdout",
     "output_type": "stream",
     "text": [
      "Fitting 5 folds for each of 8 candidates, totalling 40 fits\n",
      "Best roc_auc: 0.7295, with best C: {'learning_rate': 0.005, 'n_estimators': 600, 'num_leaves': 30}\n"
     ]
    }
   ],
   "source": [
    "lgb_skf = LGBMClassifier(class_weight='balanced', categorical_feature='auto')\n",
    "skf = StratifiedShuffleSplit(n_splits=5, random_state=10)\n",
    "\n",
    "param = {'learning_rate': [0.005, 0.1],\n",
    "         'num_leaves': [30, 50],\n",
    "         'n_estimators': [500, 600]}\n",
    "\n",
    "clf_lgb = GridSearchCV(lgb_skf, param, scoring='roc_auc',\n",
    "                       cv=skf, verbose=3, n_jobs=-1)\n",
    "clf_lgb.fit(X_train_, y_train_)\n",
    "\n",
    "y_pred_lgb_clf = clf_lgb.predict(X_test_)\n",
    "cf_matrix = confusion_matrix(y_test_,y_pred_lgb_clf)\n",
    "\n",
    "print('Best roc_auc: {:.4}, with best C: {}'.format(\n",
    "    clf_lgb.best_score_, clf_lgb.best_params_))"
   ]
  },
  {
   "cell_type": "code",
   "execution_count": 131,
   "metadata": {},
   "outputs": [],
   "source": [
    "df_report = get_scores(df_report, clf_lgb, X_test_, y_test_,\n",
    "                       'LGBMClassifier_skf')"
   ]
  },
  {
   "cell_type": "code",
   "execution_count": 132,
   "metadata": {},
   "outputs": [
    {
     "data": {
      "image/png": "[encoded data removed]",
      "text/plain": [
       "<Figure size 360x360 with 2 Axes>"
      ]
     },
     "metadata": {
      "needs_background": "dark"
     },
     "output_type": "display_data"
    }
   ],
   "source": [
    "make_confusion_matrix(cf_matrix,categories=categories,sum_stats=True)"
   ]
  },
  {
   "cell_type": "code",
   "execution_count": 133,
   "metadata": {},
   "outputs": [
    {
     "data": {
      "text/html": [
       "<div>\n",
       "<style scoped>\n",
       "    .dataframe tbody tr th:only-of-type {\n",
       "        vertical-align: middle;\n",
       "    }\n",
       "\n",
       "    .dataframe tbody tr th {\n",
       "        vertical-align: top;\n",
       "    }\n",
       "\n",
       "    .dataframe thead th {\n",
       "        text-align: right;\n",
       "    }\n",
       "</style>\n",
       "<table border=\"1\" class=\"dataframe\">\n",
       "  <thead>\n",
       "    <tr style=\"text-align: right;\">\n",
       "      <th></th>\n",
       "      <th>ROC-AUC</th>\n",
       "      <th>PR-AUC</th>\n",
       "      <th>F1</th>\n",
       "      <th>precision_Neg</th>\n",
       "      <th>precision_Pos</th>\n",
       "      <th>recall_Neg</th>\n",
       "      <th>recall_Pos</th>\n",
       "    </tr>\n",
       "  </thead>\n",
       "  <tbody>\n",
       "    <tr>\n",
       "      <th>LogisticRegression</th>\n",
       "      <td>0.740839</td>\n",
       "      <td>0.404255</td>\n",
       "      <td>0.039563</td>\n",
       "      <td>0.878017</td>\n",
       "      <td>0.404255</td>\n",
       "      <td>0.995670</td>\n",
       "      <td>0.020799</td>\n",
       "    </tr>\n",
       "    <tr>\n",
       "      <th>LogisticRegression_skf</th>\n",
       "      <td>0.740575</td>\n",
       "      <td>0.224837</td>\n",
       "      <td>0.337913</td>\n",
       "      <td>0.936661</td>\n",
       "      <td>0.224837</td>\n",
       "      <td>0.668909</td>\n",
       "      <td>0.679803</td>\n",
       "    </tr>\n",
       "    <tr>\n",
       "      <th>LogisticRegression_skf_imb</th>\n",
       "      <td>0.740240</td>\n",
       "      <td>0.223184</td>\n",
       "      <td>0.335774</td>\n",
       "      <td>0.936069</td>\n",
       "      <td>0.223184</td>\n",
       "      <td>0.666821</td>\n",
       "      <td>0.677614</td>\n",
       "    </tr>\n",
       "    <tr>\n",
       "      <th>RandomForestClassifier</th>\n",
       "      <td>0.702200</td>\n",
       "      <td>0.401869</td>\n",
       "      <td>0.044467</td>\n",
       "      <td>0.878250</td>\n",
       "      <td>0.401869</td>\n",
       "      <td>0.995051</td>\n",
       "      <td>0.023536</td>\n",
       "    </tr>\n",
       "    <tr>\n",
       "      <th>RandomForestClassifier_skf</th>\n",
       "      <td>0.732214</td>\n",
       "      <td>0.238728</td>\n",
       "      <td>0.341539</td>\n",
       "      <td>0.928115</td>\n",
       "      <td>0.238728</td>\n",
       "      <td>0.729761</td>\n",
       "      <td>0.599891</td>\n",
       "    </tr>\n",
       "    <tr>\n",
       "      <th>RandomForestClassifier_skf_imb</th>\n",
       "      <td>0.578183</td>\n",
       "      <td>0.000000</td>\n",
       "      <td>0.000000</td>\n",
       "      <td>0.876220</td>\n",
       "      <td>0.000000</td>\n",
       "      <td>1.000000</td>\n",
       "      <td>0.000000</td>\n",
       "    </tr>\n",
       "    <tr>\n",
       "      <th>LGBMClassifier</th>\n",
       "      <td>0.739682</td>\n",
       "      <td>0.384615</td>\n",
       "      <td>0.031496</td>\n",
       "      <td>0.877605</td>\n",
       "      <td>0.384615</td>\n",
       "      <td>0.996289</td>\n",
       "      <td>0.016420</td>\n",
       "    </tr>\n",
       "    <tr>\n",
       "      <th>LGBMClassifier_skf</th>\n",
       "      <td>0.741589</td>\n",
       "      <td>0.222083</td>\n",
       "      <td>0.334460</td>\n",
       "      <td>0.935800</td>\n",
       "      <td>0.222083</td>\n",
       "      <td>0.664966</td>\n",
       "      <td>0.677066</td>\n",
       "    </tr>\n",
       "  </tbody>\n",
       "</table>\n",
       "</div>"
      ],
      "text/plain": [
       "                                 ROC-AUC    PR-AUC        F1  precision_Neg  \\\n",
       "LogisticRegression              0.740839  0.404255  0.039563       0.878017   \n",
       "LogisticRegression_skf          0.740575  0.224837  0.337913       0.936661   \n",
       "LogisticRegression_skf_imb      0.740240  0.223184  0.335774       0.936069   \n",
       "RandomForestClassifier          0.702200  0.401869  0.044467       0.878250   \n",
       "RandomForestClassifier_skf      0.732214  0.238728  0.341539       0.928115   \n",
       "RandomForestClassifier_skf_imb  0.578183  0.000000  0.000000       0.876220   \n",
       "LGBMClassifier                  0.739682  0.384615  0.031496       0.877605   \n",
       "LGBMClassifier_skf              0.741589  0.222083  0.334460       0.935800   \n",
       "\n",
       "                                precision_Pos  recall_Neg  recall_Pos  \n",
       "LogisticRegression                   0.404255    0.995670    0.020799  \n",
       "LogisticRegression_skf               0.224837    0.668909    0.679803  \n",
       "LogisticRegression_skf_imb           0.223184    0.666821    0.677614  \n",
       "RandomForestClassifier               0.401869    0.995051    0.023536  \n",
       "RandomForestClassifier_skf           0.238728    0.729761    0.599891  \n",
       "RandomForestClassifier_skf_imb       0.000000    1.000000    0.000000  \n",
       "LGBMClassifier                       0.384615    0.996289    0.016420  \n",
       "LGBMClassifier_skf                   0.222083    0.664966    0.677066  "
      ]
     },
     "execution_count": 133,
     "metadata": {},
     "output_type": "execute_result"
    }
   ],
   "source": [
    "df_report"
   ]
  },
  {
   "cell_type": "code",
   "execution_count": 134,
   "metadata": {},
   "outputs": [],
   "source": [
    "X_over_, y_over_ = oversample.fit_resample(X_train_, y_train_)"
   ]
  },
  {
   "cell_type": "code",
   "execution_count": 135,
   "metadata": {},
   "outputs": [
    {
     "name": "stdout",
     "output_type": "stream",
     "text": [
      "Fitting 5 folds for each of 8 candidates, totalling 40 fits\n",
      "Best roc_auc: 0.9336, with best C: {'learning_rate': 0.1, 'n_estimators': 600, 'num_leaves': 50}\n"
     ]
    }
   ],
   "source": [
    "lgb_skf = LGBMClassifier(categorical_feature='auto')\n",
    "skf = StratifiedShuffleSplit(n_splits=5, random_state=10)\n",
    "\n",
    "param = {'learning_rate': [0.005, 0.1],\n",
    "         'num_leaves': [30, 50],\n",
    "         'n_estimators': [500, 600]}\n",
    "\n",
    "clf_lgb_over = GridSearchCV(lgb_skf, param, scoring='roc_auc',\n",
    "                            cv=skf, verbose=3, n_jobs=-1)\n",
    "clf_lgb_over.fit(X_over_, y_over_)\n",
    "\n",
    "y_pred_lgb_over = clf_lgb_over.predict(X_test_)\n",
    "cf_matrix = confusion_matrix(y_test_,y_pred_lgb_over)\n",
    "\n",
    "print('Best roc_auc: {:.4}, with best C: {}'.format(\n",
    "    clf_lgb_over.best_score_, clf_lgb_over.best_params_))"
   ]
  },
  {
   "cell_type": "code",
   "execution_count": 136,
   "metadata": {},
   "outputs": [
    {
     "data": {
      "image/png": "[encoded data removed]",
      "text/plain": [
       "<Figure size 360x360 with 2 Axes>"
      ]
     },
     "metadata": {
      "needs_background": "dark"
     },
     "output_type": "display_data"
    }
   ],
   "source": [
    "make_confusion_matrix(cf_matrix,categories=categories,sum_stats=True)"
   ]
  },
  {
   "cell_type": "code",
   "execution_count": 137,
   "metadata": {},
   "outputs": [
    {
     "data": {
      "image/png": "[encoded data removed]",
      "text/plain": [
       "<Figure size 936x360 with 2 Axes>"
      ]
     },
     "metadata": {
      "needs_background": "dark"
     },
     "output_type": "display_data"
    }
   ],
   "source": [
    "df_report = get_scores(df_report, clf_lgb_over, X_test_, y_test_,\n",
    "                       'LGBMClassifier_skf_imb')\n",
    "\n",
    "fig, (ax1, ax2) = plt.subplots(1, 2, figsize=(13, 5))\n",
    "\n",
    "plot_precision_recall_curve(clf_lgb_over, X_test_, y_test_, ax=ax1)\n",
    "plot_roc_curve(clf_lgb_over, X_test_, y_test_, ax=ax2);"
   ]
  },
  {
   "cell_type": "code",
   "execution_count": 138,
   "metadata": {
    "scrolled": true
   },
   "outputs": [
    {
     "data": {
      "text/html": [
       "<div>\n",
       "<style scoped>\n",
       "    .dataframe tbody tr th:only-of-type {\n",
       "        vertical-align: middle;\n",
       "    }\n",
       "\n",
       "    .dataframe tbody tr th {\n",
       "        vertical-align: top;\n",
       "    }\n",
       "\n",
       "    .dataframe thead th {\n",
       "        text-align: right;\n",
       "    }\n",
       "</style>\n",
       "<table border=\"1\" class=\"dataframe\">\n",
       "  <thead>\n",
       "    <tr style=\"text-align: right;\">\n",
       "      <th></th>\n",
       "      <th>ROC-AUC</th>\n",
       "      <th>PR-AUC</th>\n",
       "      <th>F1</th>\n",
       "      <th>precision_Neg</th>\n",
       "      <th>precision_Pos</th>\n",
       "      <th>recall_Neg</th>\n",
       "      <th>recall_Pos</th>\n",
       "    </tr>\n",
       "  </thead>\n",
       "  <tbody>\n",
       "    <tr>\n",
       "      <th>LogisticRegression</th>\n",
       "      <td>0.740839</td>\n",
       "      <td>0.404255</td>\n",
       "      <td>0.039563</td>\n",
       "      <td>0.878017</td>\n",
       "      <td>0.404255</td>\n",
       "      <td>0.995670</td>\n",
       "      <td>0.020799</td>\n",
       "    </tr>\n",
       "    <tr>\n",
       "      <th>LogisticRegression_skf</th>\n",
       "      <td>0.740575</td>\n",
       "      <td>0.224837</td>\n",
       "      <td>0.337913</td>\n",
       "      <td>0.936661</td>\n",
       "      <td>0.224837</td>\n",
       "      <td>0.668909</td>\n",
       "      <td>0.679803</td>\n",
       "    </tr>\n",
       "    <tr>\n",
       "      <th>LogisticRegression_skf_imb</th>\n",
       "      <td>0.740240</td>\n",
       "      <td>0.223184</td>\n",
       "      <td>0.335774</td>\n",
       "      <td>0.936069</td>\n",
       "      <td>0.223184</td>\n",
       "      <td>0.666821</td>\n",
       "      <td>0.677614</td>\n",
       "    </tr>\n",
       "    <tr>\n",
       "      <th>RandomForestClassifier</th>\n",
       "      <td>0.702200</td>\n",
       "      <td>0.401869</td>\n",
       "      <td>0.044467</td>\n",
       "      <td>0.878250</td>\n",
       "      <td>0.401869</td>\n",
       "      <td>0.995051</td>\n",
       "      <td>0.023536</td>\n",
       "    </tr>\n",
       "    <tr>\n",
       "      <th>RandomForestClassifier_skf</th>\n",
       "      <td>0.732214</td>\n",
       "      <td>0.238728</td>\n",
       "      <td>0.341539</td>\n",
       "      <td>0.928115</td>\n",
       "      <td>0.238728</td>\n",
       "      <td>0.729761</td>\n",
       "      <td>0.599891</td>\n",
       "    </tr>\n",
       "    <tr>\n",
       "      <th>RandomForestClassifier_skf_imb</th>\n",
       "      <td>0.578183</td>\n",
       "      <td>0.000000</td>\n",
       "      <td>0.000000</td>\n",
       "      <td>0.876220</td>\n",
       "      <td>0.000000</td>\n",
       "      <td>1.000000</td>\n",
       "      <td>0.000000</td>\n",
       "    </tr>\n",
       "    <tr>\n",
       "      <th>LGBMClassifier</th>\n",
       "      <td>0.739682</td>\n",
       "      <td>0.384615</td>\n",
       "      <td>0.031496</td>\n",
       "      <td>0.877605</td>\n",
       "      <td>0.384615</td>\n",
       "      <td>0.996289</td>\n",
       "      <td>0.016420</td>\n",
       "    </tr>\n",
       "    <tr>\n",
       "      <th>LGBMClassifier_skf</th>\n",
       "      <td>0.741589</td>\n",
       "      <td>0.222083</td>\n",
       "      <td>0.334460</td>\n",
       "      <td>0.935800</td>\n",
       "      <td>0.222083</td>\n",
       "      <td>0.664966</td>\n",
       "      <td>0.677066</td>\n",
       "    </tr>\n",
       "    <tr>\n",
       "      <th>LGBMClassifier_skf_imb</th>\n",
       "      <td>0.705912</td>\n",
       "      <td>0.256658</td>\n",
       "      <td>0.334477</td>\n",
       "      <td>0.916248</td>\n",
       "      <td>0.256658</td>\n",
       "      <td>0.803603</td>\n",
       "      <td>0.480022</td>\n",
       "    </tr>\n",
       "  </tbody>\n",
       "</table>\n",
       "</div>"
      ],
      "text/plain": [
       "                                 ROC-AUC    PR-AUC        F1  precision_Neg  \\\n",
       "LogisticRegression              0.740839  0.404255  0.039563       0.878017   \n",
       "LogisticRegression_skf          0.740575  0.224837  0.337913       0.936661   \n",
       "LogisticRegression_skf_imb      0.740240  0.223184  0.335774       0.936069   \n",
       "RandomForestClassifier          0.702200  0.401869  0.044467       0.878250   \n",
       "RandomForestClassifier_skf      0.732214  0.238728  0.341539       0.928115   \n",
       "RandomForestClassifier_skf_imb  0.578183  0.000000  0.000000       0.876220   \n",
       "LGBMClassifier                  0.739682  0.384615  0.031496       0.877605   \n",
       "LGBMClassifier_skf              0.741589  0.222083  0.334460       0.935800   \n",
       "LGBMClassifier_skf_imb          0.705912  0.256658  0.334477       0.916248   \n",
       "\n",
       "                                precision_Pos  recall_Neg  recall_Pos  \n",
       "LogisticRegression                   0.404255    0.995670    0.020799  \n",
       "LogisticRegression_skf               0.224837    0.668909    0.679803  \n",
       "LogisticRegression_skf_imb           0.223184    0.666821    0.677614  \n",
       "RandomForestClassifier               0.401869    0.995051    0.023536  \n",
       "RandomForestClassifier_skf           0.238728    0.729761    0.599891  \n",
       "RandomForestClassifier_skf_imb       0.000000    1.000000    0.000000  \n",
       "LGBMClassifier                       0.384615    0.996289    0.016420  \n",
       "LGBMClassifier_skf                   0.222083    0.664966    0.677066  \n",
       "LGBMClassifier_skf_imb               0.256658    0.803603    0.480022  "
      ]
     },
     "execution_count": 138,
     "metadata": {},
     "output_type": "execute_result"
    }
   ],
   "source": [
    "df_report"
   ]
  },
  {
   "cell_type": "code",
   "execution_count": null,
   "metadata": {},
   "outputs": [],
   "source": []
  },
  {
   "cell_type": "code",
   "execution_count": 142,
   "metadata": {},
   "outputs": [
    {
     "data": {
      "text/plain": [
       "VotingClassifier(estimators=[('lr', LogisticRegression(C=1.1119)),\n",
       "                             ('rf',\n",
       "                              RandomForestClassifier(max_depth=10,\n",
       "                                                     n_estimators=1000)),\n",
       "                             ('lgb',\n",
       "                              LGBMClassifier(learning_rate=0.005,\n",
       "                                             n_estimators=600,\n",
       "                                             num_leaves=30))],\n",
       "                 voting='soft')"
      ]
     },
     "execution_count": 142,
     "metadata": {},
     "output_type": "execute_result"
    }
   ],
   "source": [
    "lgbm_ = LGBMClassifier(learning_rate=0.005, n_estimators=600, num_leaves=30)\n",
    "rf_ = RandomForestClassifier(bootstrap=True, max_depth=10, n_estimators=1000)\n",
    "lr_ = LogisticRegression(C=1.1119, penalty= 'l2')\n",
    "\n",
    "clf_st = VotingClassifier(estimators=[\n",
    "    ('lr', lr_), ('rf', rf_), ('lgb', lgbm_)], voting='soft')\n",
    "\n",
    "clf_st.fit(X_over, y_over)"
   ]
  },
  {
   "cell_type": "code",
   "execution_count": 143,
   "metadata": {},
   "outputs": [
    {
     "data": {
      "image/png": "[encoded data removed]",
      "text/plain": [
       "<Figure size 936x360 with 2 Axes>"
      ]
     },
     "metadata": {
      "needs_background": "dark"
     },
     "output_type": "display_data"
    }
   ],
   "source": [
    "df_report = get_scores(df_report, clf_st, X_test, y_test,\n",
    "                       'VotingClassifier')\n",
    "\n",
    "fig, (ax1, ax2) = plt.subplots(1, 2, figsize=(13, 5))\n",
    "\n",
    "plot_precision_recall_curve(clf_st, X_test, y_test, ax=ax1)\n",
    "plot_roc_curve(clf_st, X_test, y_test, ax=ax2);"
   ]
  },
  {
   "cell_type": "code",
   "execution_count": 144,
   "metadata": {},
   "outputs": [
    {
     "data": {
      "text/html": [
       "<div>\n",
       "<style scoped>\n",
       "    .dataframe tbody tr th:only-of-type {\n",
       "        vertical-align: middle;\n",
       "    }\n",
       "\n",
       "    .dataframe tbody tr th {\n",
       "        vertical-align: top;\n",
       "    }\n",
       "\n",
       "    .dataframe thead th {\n",
       "        text-align: right;\n",
       "    }\n",
       "</style>\n",
       "<table border=\"1\" class=\"dataframe\">\n",
       "  <thead>\n",
       "    <tr style=\"text-align: right;\">\n",
       "      <th></th>\n",
       "      <th>ROC-AUC</th>\n",
       "      <th>PR-AUC</th>\n",
       "      <th>F1</th>\n",
       "      <th>precision_Neg</th>\n",
       "      <th>precision_Pos</th>\n",
       "      <th>recall_Neg</th>\n",
       "      <th>recall_Pos</th>\n",
       "    </tr>\n",
       "  </thead>\n",
       "  <tbody>\n",
       "    <tr>\n",
       "      <th>LogisticRegression</th>\n",
       "      <td>0.740839</td>\n",
       "      <td>0.404255</td>\n",
       "      <td>0.039563</td>\n",
       "      <td>0.878017</td>\n",
       "      <td>0.404255</td>\n",
       "      <td>0.995670</td>\n",
       "      <td>0.020799</td>\n",
       "    </tr>\n",
       "    <tr>\n",
       "      <th>LogisticRegression_skf</th>\n",
       "      <td>0.740575</td>\n",
       "      <td>0.224837</td>\n",
       "      <td>0.337913</td>\n",
       "      <td>0.936661</td>\n",
       "      <td>0.224837</td>\n",
       "      <td>0.668909</td>\n",
       "      <td>0.679803</td>\n",
       "    </tr>\n",
       "    <tr>\n",
       "      <th>LogisticRegression_skf_imb</th>\n",
       "      <td>0.740240</td>\n",
       "      <td>0.223184</td>\n",
       "      <td>0.335774</td>\n",
       "      <td>0.936069</td>\n",
       "      <td>0.223184</td>\n",
       "      <td>0.666821</td>\n",
       "      <td>0.677614</td>\n",
       "    </tr>\n",
       "    <tr>\n",
       "      <th>RandomForestClassifier</th>\n",
       "      <td>0.702200</td>\n",
       "      <td>0.401869</td>\n",
       "      <td>0.044467</td>\n",
       "      <td>0.878250</td>\n",
       "      <td>0.401869</td>\n",
       "      <td>0.995051</td>\n",
       "      <td>0.023536</td>\n",
       "    </tr>\n",
       "    <tr>\n",
       "      <th>RandomForestClassifier_skf</th>\n",
       "      <td>0.732214</td>\n",
       "      <td>0.238728</td>\n",
       "      <td>0.341539</td>\n",
       "      <td>0.928115</td>\n",
       "      <td>0.238728</td>\n",
       "      <td>0.729761</td>\n",
       "      <td>0.599891</td>\n",
       "    </tr>\n",
       "    <tr>\n",
       "      <th>RandomForestClassifier_skf_imb</th>\n",
       "      <td>0.578183</td>\n",
       "      <td>0.000000</td>\n",
       "      <td>0.000000</td>\n",
       "      <td>0.876220</td>\n",
       "      <td>0.000000</td>\n",
       "      <td>1.000000</td>\n",
       "      <td>0.000000</td>\n",
       "    </tr>\n",
       "    <tr>\n",
       "      <th>LGBMClassifier</th>\n",
       "      <td>0.739682</td>\n",
       "      <td>0.384615</td>\n",
       "      <td>0.031496</td>\n",
       "      <td>0.877605</td>\n",
       "      <td>0.384615</td>\n",
       "      <td>0.996289</td>\n",
       "      <td>0.016420</td>\n",
       "    </tr>\n",
       "    <tr>\n",
       "      <th>LGBMClassifier_skf</th>\n",
       "      <td>0.741589</td>\n",
       "      <td>0.222083</td>\n",
       "      <td>0.334460</td>\n",
       "      <td>0.935800</td>\n",
       "      <td>0.222083</td>\n",
       "      <td>0.664966</td>\n",
       "      <td>0.677066</td>\n",
       "    </tr>\n",
       "    <tr>\n",
       "      <th>LGBMClassifier_skf_imb</th>\n",
       "      <td>0.705912</td>\n",
       "      <td>0.256658</td>\n",
       "      <td>0.334477</td>\n",
       "      <td>0.916248</td>\n",
       "      <td>0.256658</td>\n",
       "      <td>0.803603</td>\n",
       "      <td>0.480022</td>\n",
       "    </tr>\n",
       "    <tr>\n",
       "      <th>VotingClassifier</th>\n",
       "      <td>0.707057</td>\n",
       "      <td>0.230615</td>\n",
       "      <td>0.328066</td>\n",
       "      <td>0.923092</td>\n",
       "      <td>0.230615</td>\n",
       "      <td>0.732235</td>\n",
       "      <td>0.568144</td>\n",
       "    </tr>\n",
       "  </tbody>\n",
       "</table>\n",
       "</div>"
      ],
      "text/plain": [
       "                                 ROC-AUC    PR-AUC        F1  precision_Neg  \\\n",
       "LogisticRegression              0.740839  0.404255  0.039563       0.878017   \n",
       "LogisticRegression_skf          0.740575  0.224837  0.337913       0.936661   \n",
       "LogisticRegression_skf_imb      0.740240  0.223184  0.335774       0.936069   \n",
       "RandomForestClassifier          0.702200  0.401869  0.044467       0.878250   \n",
       "RandomForestClassifier_skf      0.732214  0.238728  0.341539       0.928115   \n",
       "RandomForestClassifier_skf_imb  0.578183  0.000000  0.000000       0.876220   \n",
       "LGBMClassifier                  0.739682  0.384615  0.031496       0.877605   \n",
       "LGBMClassifier_skf              0.741589  0.222083  0.334460       0.935800   \n",
       "LGBMClassifier_skf_imb          0.705912  0.256658  0.334477       0.916248   \n",
       "VotingClassifier                0.707057  0.230615  0.328066       0.923092   \n",
       "\n",
       "                                precision_Pos  recall_Neg  recall_Pos  \n",
       "LogisticRegression                   0.404255    0.995670    0.020799  \n",
       "LogisticRegression_skf               0.224837    0.668909    0.679803  \n",
       "LogisticRegression_skf_imb           0.223184    0.666821    0.677614  \n",
       "RandomForestClassifier               0.401869    0.995051    0.023536  \n",
       "RandomForestClassifier_skf           0.238728    0.729761    0.599891  \n",
       "RandomForestClassifier_skf_imb       0.000000    1.000000    0.000000  \n",
       "LGBMClassifier                       0.384615    0.996289    0.016420  \n",
       "LGBMClassifier_skf                   0.222083    0.664966    0.677066  \n",
       "LGBMClassifier_skf_imb               0.256658    0.803603    0.480022  \n",
       "VotingClassifier                     0.230615    0.732235    0.568144  "
      ]
     },
     "execution_count": 144,
     "metadata": {},
     "output_type": "execute_result"
    }
   ],
   "source": [
    "df_report"
   ]
  },
  {
   "cell_type": "code",
   "execution_count": null,
   "metadata": {},
   "outputs": [],
   "source": []
  },
  {
   "cell_type": "code",
   "execution_count": null,
   "metadata": {},
   "outputs": [],
   "source": []
  },
  {
   "cell_type": "code",
   "execution_count": null,
   "metadata": {},
   "outputs": [],
   "source": []
  },
  {
   "cell_type": "code",
   "execution_count": null,
   "metadata": {},
   "outputs": [],
   "source": []
  },
  {
   "cell_type": "code",
   "execution_count": null,
   "metadata": {},
   "outputs": [],
   "source": []
  },
  {
   "cell_type": "code",
   "execution_count": null,
   "metadata": {},
   "outputs": [],
   "source": []
  },
  {
   "cell_type": "code",
   "execution_count": null,
   "metadata": {},
   "outputs": [],
   "source": []
  },
  {
   "cell_type": "code",
   "execution_count": null,
   "metadata": {},
   "outputs": [],
   "source": []
  },
  {
   "cell_type": "markdown",
   "metadata": {},
   "source": [
    "Chek missing data"
   ]
  },
  {
   "cell_type": "code",
   "execution_count": null,
   "metadata": {},
   "outputs": [],
   "source": [
    "df.isnull().sum()"
   ]
  },
  {
   "cell_type": "markdown",
   "metadata": {},
   "source": [
    "Let's fix missing data"
   ]
  },
  {
   "cell_type": "code",
   "execution_count": null,
   "metadata": {},
   "outputs": [],
   "source": [
    "df['education'] = df['education'].fillna(\n",
    "    df['education'].value_counts().index[0])"
   ]
  },
  {
   "cell_type": "markdown",
   "metadata": {},
   "source": [
    "Create lists with depicted types of data"
   ]
  },
  {
   "cell_type": "code",
   "execution_count": null,
   "metadata": {},
   "outputs": [],
   "source": [
    "bin_cols = ['sex','car','car_type','good_work','foreign_passport']\n",
    "cat_cols = ['education','home_address','work_address']\n",
    "num_cols = ['age','decline_app_cnt','income','bki_request_cnt']"
   ]
  },
  {
   "cell_type": "markdown",
   "metadata": {},
   "source": [
    "Check the distrinution of numeric columns"
   ]
  },
  {
   "cell_type": "code",
   "execution_count": null,
   "metadata": {
    "scrolled": false
   },
   "outputs": [],
   "source": [
    "for i in num_cols:\n",
    "    plt.figure()\n",
    "    sns.distplot(df[i][df[i] > 0].dropna(), kde = False, rug=False)\n",
    "    plt.title(i)\n",
    "    plt.show()"
   ]
  },
  {
   "cell_type": "markdown",
   "metadata": {},
   "source": [
    "BLA BLA"
   ]
  },
  {
   "cell_type": "code",
   "execution_count": null,
   "metadata": {},
   "outputs": [],
   "source": [
    "df1 = df.copy()\n",
    "for col in num_cols:\n",
    "    df1[col] = df[col].apply(lambda x: np.log(x+1))"
   ]
  },
  {
   "cell_type": "code",
   "execution_count": null,
   "metadata": {},
   "outputs": [],
   "source": [
    "for i in num_cols:\n",
    "    plt.figure(figsize=(20, 3))\n",
    "    plt.subplot(121)\n",
    "    sns.distplot(df1[i].values, bins=20, color=colors[1])\n",
    "    plt.title('variable distribution\\n' + i, fontsize=15)\n",
    "    plt.xlabel(i)\n",
    "    plt.ylabel('Quantity (frequency)')\n",
    "\n",
    "    plt.subplot(122)\n",
    "    sns.boxplot(x = 'default',y = i,data=df1)\n",
    "    plt.title('variable distribution\\n' + i, fontsize=15)\n",
    "    plt.xlabel(i)"
   ]
  },
  {
   "cell_type": "markdown",
   "metadata": {},
   "source": [
    "<a id=\"sec5.1\"></a>\n",
    "## [Correclation](#sec5.1)"
   ]
  },
  {
   "cell_type": "code",
   "execution_count": null,
   "metadata": {},
   "outputs": [],
   "source": [
    "sns.heatmap(df[num_cols].corr().abs(),vmin=0,vmax=1,annot=True,square=True)"
   ]
  },
  {
   "cell_type": "markdown",
   "metadata": {},
   "source": [
    "<a id=\"sec5.2\"></a>\n",
    "## [Significance of continuous variables ](#sec5.2)"
   ]
  },
  {
   "cell_type": "markdown",
   "metadata": {},
   "source": [
    "В основе метода оценки значимости переменных лежит однофакторный дисперсионный анализ (ANOVA). Основу процедуры составляет обобщение результатов двух выборочных t-тестов для независимых выборок (2-sample t). \n",
    "\n",
    "В качестве меры значимости мы будем использовать значение f-статистики. Чем значение статистики выше, тем меньше вероятность того, что средние значения не отличаются, и тем важнее данный признак для нашей линейной модели"
   ]
  },
  {
   "cell_type": "code",
   "execution_count": null,
   "metadata": {},
   "outputs": [],
   "source": [
    "from sklearn.feature_selection import f_classif"
   ]
  },
  {
   "cell_type": "code",
   "execution_count": null,
   "metadata": {},
   "outputs": [],
   "source": [
    "imp_num = pd.Series(f_classif(df[num_cols], df['default'])[0], index = num_cols)\n",
    "imp_num.sort_values(inplace = True)\n",
    "imp_num.plot(kind = 'barh')"
   ]
  },
  {
   "cell_type": "markdown",
   "metadata": {},
   "source": [
    "<a id=\"sec6\"></a>\n",
    "# [Categorical Vars](#sec6)"
   ]
  },
  {
   "cell_type": "markdown",
   "metadata": {},
   "source": [
    "Самый простой способ — отобразить каждое значение категории в уникальное число. Например, в поле sex значение sex = female преобразовать в , а sex = male — в . Эту простую операцию приходится делать достаточно часто, поэтому в модуле sklearn.preprocessing именно для этой задачи реализован класс LabelEncoder.\n",
    "\n",
    "Метод fit этого класса находит все уникальные значения и строит таблицу для соответствия каждой категории некоторому числу, а метод transform непосредственно преобразует значения в числа. После fit у label_encoder будет доступно поле classes_, содержащее все уникальные значения. Можно их пронумеровать и убедиться, что преобразование выполнено верно."
   ]
  },
  {
   "cell_type": "code",
   "execution_count": null,
   "metadata": {},
   "outputs": [],
   "source": [
    "from sklearn.preprocessing import LabelEncoder"
   ]
  },
  {
   "cell_type": "code",
   "execution_count": null,
   "metadata": {},
   "outputs": [],
   "source": [
    "label_encoder = LabelEncoder()\n",
    "mapped_education = pd.Series(label_encoder.fit_transform(df['sex']))\n",
    "print(dict(enumerate(label_encoder.classes_)))"
   ]
  },
  {
   "cell_type": "markdown",
   "metadata": {},
   "source": [
    "Сработало! Теперь всегда можно обратиться к classes_ , если забыли, что закодировали. Применим LabelEncoder ко всему набору бинарных переменных."
   ]
  },
  {
   "cell_type": "code",
   "execution_count": null,
   "metadata": {},
   "outputs": [],
   "source": [
    "# Для бинарных признаков мы будем использовать LabelEncoder\n",
    "\n",
    "label_encoder = LabelEncoder()\n",
    "\n",
    "for column in bin_cols:\n",
    "    df[column] = label_encoder.fit_transform(df[column])\n",
    "    \n",
    "# убедимся в преобразовании    \n",
    "df.head()"
   ]
  },
  {
   "cell_type": "code",
   "execution_count": null,
   "metadata": {},
   "outputs": [],
   "source": [
    "from sklearn.feature_selection import mutual_info_classif"
   ]
  },
  {
   "cell_type": "code",
   "execution_count": null,
   "metadata": {},
   "outputs": [],
   "source": [
    "df2 = df.copy()"
   ]
  },
  {
   "cell_type": "code",
   "execution_count": null,
   "metadata": {},
   "outputs": [],
   "source": [
    "for column in cat_cols:\n",
    "    df2[column] = label_encoder.fit_transform(df[column])\n",
    "    \n",
    "# убедимся в преобразовании    \n",
    "df2.head()"
   ]
  },
  {
   "cell_type": "code",
   "execution_count": null,
   "metadata": {},
   "outputs": [],
   "source": [
    "imp_cat = pd.Series(mutual_info_classif(df2[bin_cols + cat_cols], df2['default'],\n",
    "                                     discrete_features =True), index = bin_cols + cat_cols)\n",
    "imp_cat.sort_values(inplace = True)\n",
    "imp_cat.plot(kind = 'barh')"
   ]
  },
  {
   "cell_type": "markdown",
   "metadata": {},
   "source": [
    "# Подготовка данных к машинному обучению"
   ]
  },
  {
   "cell_type": "code",
   "execution_count": null,
   "metadata": {},
   "outputs": [],
   "source": [
    "from sklearn.preprocessing import OneHotEncoder"
   ]
  },
  {
   "cell_type": "code",
   "execution_count": null,
   "metadata": {},
   "outputs": [],
   "source": [
    "X_cat = OneHotEncoder(sparse = False).fit_transform(df[cat_cols].values)"
   ]
  },
  {
   "cell_type": "code",
   "execution_count": null,
   "metadata": {},
   "outputs": [],
   "source": [
    "X_cat.shape"
   ]
  },
  {
   "cell_type": "code",
   "execution_count": null,
   "metadata": {},
   "outputs": [],
   "source": [
    "from sklearn.preprocessing import StandardScaler\n",
    "# Стандартизация числовых переменных\n",
    "\n",
    "X_num = StandardScaler().fit_transform(df[num_cols].values)"
   ]
  },
  {
   "cell_type": "code",
   "execution_count": null,
   "metadata": {},
   "outputs": [],
   "source": [
    "# Объединяем\n",
    "\n",
    "X = np.hstack([X_num, df[bin_cols].values, X_cat])\n",
    "Y = df['default'].values"
   ]
  },
  {
   "cell_type": "code",
   "execution_count": null,
   "metadata": {},
   "outputs": [],
   "source": [
    "from sklearn.model_selection import train_test_split"
   ]
  },
  {
   "cell_type": "code",
   "execution_count": null,
   "metadata": {},
   "outputs": [],
   "source": [
    "X_train, X_test, y_train, y_test = train_test_split(X, Y, test_size=0.20, random_state=42)"
   ]
  },
  {
   "cell_type": "code",
   "execution_count": null,
   "metadata": {
    "scrolled": true
   },
   "outputs": [],
   "source": [
    "from sklearn.linear_model import LogisticRegression\n",
    "classifier = LogisticRegression()\n",
    "classifier.fit(X_train,y_train)"
   ]
  },
  {
   "cell_type": "code",
   "execution_count": null,
   "metadata": {},
   "outputs": [],
   "source": [
    "from sklearn.metrics import mean_squared_error, f1_score, accuracy_score, roc_curve, roc_auc_score"
   ]
  },
  {
   "cell_type": "code",
   "execution_count": null,
   "metadata": {},
   "outputs": [],
   "source": [
    "probs = classifier.predict_proba(X_test)\n",
    "probs = probs[:,1]\n",
    "fpr, tpr, threshold = roc_curve(y_test, probs)\n",
    "roc_auc = roc_auc_score(y_test, probs)\n",
    "\n",
    "plt.figure()\n",
    "plt.plot([0, 1], label='Baseline', linestyle='--')\n",
    "plt.plot(fpr, tpr, label = 'Regression')\n",
    "plt.title('Logistic Regression ROC AUC = %0.3f' % roc_auc)\n",
    "plt.ylabel('True Positive Rate')\n",
    "plt.xlabel('False Positive Rate')\n",
    "plt.legend(loc = 'lower right')\n",
    "plt.show()"
   ]
  },
  {
   "cell_type": "code",
   "execution_count": null,
   "metadata": {},
   "outputs": [],
   "source": [
    "y_pred = classifier.predict(X_test)"
   ]
  },
  {
   "cell_type": "code",
   "execution_count": null,
   "metadata": {},
   "outputs": [],
   "source": [
    "f1 = f1_score(y_test,y_pred)\n",
    "print(f1)"
   ]
  },
  {
   "cell_type": "code",
   "execution_count": null,
   "metadata": {},
   "outputs": [],
   "source": [
    "y_pred.sum()"
   ]
  },
  {
   "cell_type": "code",
   "execution_count": null,
   "metadata": {},
   "outputs": [],
   "source": [
    "y_test.sum()"
   ]
  },
  {
   "cell_type": "code",
   "execution_count": null,
   "metadata": {},
   "outputs": [],
   "source": [
    "from sklearn.model_selection import GridSearchCV\n",
    "\n",
    "# Добавим типы регуляризации\n",
    "penalty = ['l1', 'l2']\n",
    "\n",
    "# Зададим ограничения для параметра регуляризации\n",
    "C = np.logspace(0, 4, 10)\n",
    "\n",
    "# Создадим гиперпараметры\n",
    "hyperparameters = dict(C=C, penalty=penalty)\n",
    "\n",
    "model = LogisticRegression()\n",
    "model.fit(X_train, y_train)\n",
    "\n",
    "# Создаем сетку поиска с использованием 5-кратной перекрестной проверки\n",
    "clf = GridSearchCV(model, hyperparameters, cv=5, verbose=0)\n",
    "\n",
    "best_model = clf.fit(X_train, y_train)\n",
    "\n",
    "# View best hyperparameters\n",
    "print('Лучшее Penalty:', best_model.best_estimator_.get_params()['penalty'])\n",
    "print('Лучшее C:', best_model.best_estimator_.get_params()['C'])"
   ]
  },
  {
   "cell_type": "code",
   "execution_count": null,
   "metadata": {},
   "outputs": [],
   "source": [
    "from sklearn.linear_model import LogisticRegression\n",
    "model = LogisticRegression(C=100000)\n",
    "model.fit(X_train,y_train)"
   ]
  },
  {
   "cell_type": "code",
   "execution_count": null,
   "metadata": {},
   "outputs": [],
   "source": [
    "y_pred = model.predict(X_test)"
   ]
  },
  {
   "cell_type": "code",
   "execution_count": null,
   "metadata": {},
   "outputs": [],
   "source": [
    "f1 = f1_score(y_test,y_pred)\n",
    "print(f1)"
   ]
  },
  {
   "cell_type": "code",
   "execution_count": null,
   "metadata": {},
   "outputs": [],
   "source": [
    "probs = classifier.predict_proba(X_test)\n",
    "probs = probs[:,1]\n",
    "fpr, tpr, threshold = roc_curve(y_test, probs)\n",
    "roc_auc = roc_auc_score(y_test, probs)\n",
    "\n",
    "plt.figure()\n",
    "plt.plot([0, 1], label='Baseline', linestyle='--')\n",
    "plt.plot(fpr, tpr, label = 'Regression')\n",
    "plt.title('Logistic Regression ROC AUC = %0.3f' % roc_auc)\n",
    "plt.ylabel('True Positive Rate')\n",
    "plt.xlabel('False Positive Rate')\n",
    "plt.legend(loc = 'lower right')\n",
    "plt.show()"
   ]
  },
  {
   "cell_type": "code",
   "execution_count": null,
   "metadata": {},
   "outputs": [],
   "source": []
  }
 ],
 "metadata": {
  "kernelspec": {
   "display_name": "Python 3",
   "language": "python",
   "name": "python3"
  },
  "language_info": {
   "codemirror_mode": {
    "name": "ipython",
    "version": 3
   },
   "file_extension": ".py",
   "mimetype": "text/x-python",
   "name": "python",
   "nbconvert_exporter": "python",
   "pygments_lexer": "ipython3",
   "version": "3.8.5"
  },
  "toc": {
   "base_numbering": 1,
   "nav_menu": {},
   "number_sections": true,
   "sideBar": true,
   "skip_h1_title": false,
   "title_cell": "Table of Contents",
   "title_sidebar": "Contents",
   "toc_cell": false,
   "toc_position": {
    "height": "calc(100% - 180px)",
    "left": "10px",
    "top": "150px",
    "width": "305px"
   },
   "toc_section_display": true,
   "toc_window_display": true
  },
  "varInspector": {
   "cols": {
    "lenName": 16,
    "lenType": 16,
    "lenVar": 40
   },
   "kernels_config": {
    "python": {
     "delete_cmd_postfix": "",
     "delete_cmd_prefix": "del ",
     "library": "var_list.py",
     "varRefreshCmd": "print(var_dic_list())"
    },
    "r": {
     "delete_cmd_postfix": ") ",
     "delete_cmd_prefix": "rm(",
     "library": "var_list.r",
     "varRefreshCmd": "cat(var_dic_list()) "
    }
   },
   "types_to_exclude": [
    "module",
    "function",
    "builtin_function_or_method",
    "instance",
    "_Feature"
   ],
   "window_display": false
  }
 },
 "nbformat": 4,
 "nbformat_minor": 4
}
